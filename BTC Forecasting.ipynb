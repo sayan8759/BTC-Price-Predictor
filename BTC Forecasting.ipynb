{
  "cells": [
   
    {
      "cell_type": "code",
      "execution_count": 1,
      "metadata": {
        "colab": {
          "base_uri": "https://localhost:8080/"
        },
        "id": "qjEuJ-j7yEdK",
        "outputId": "49462ae4-592f-4240-f8a2-633308ac4022"
      },
      "outputs": [
        {
          "name": "stdout",
          "output_type": "stream",
          "text": [
            "GPU 0: NVIDIA GeForce MX230 (UUID: GPU-67e756e1-55ad-86b6-abed-66fa147b3396)\n"
          ]
        }
      ],
      "source": [
        "# Check for GPU\n",
        "!nvidia-smi -L"
      ]
    },
    {
      "cell_type": "code",
      "execution_count": 2,
      "metadata": {
        "colab": {
          "base_uri": "https://localhost:8080/",
          "height": 235
        },
        "id": "5FOrshVX_dUE",
        "outputId": "cac2d499-37ce-42d1-b0e6-ba3562918962"
      },
      "outputs": [
        {
          "data": {
            "text/html": [
              "<div>\n",
              "<style scoped>\n",
              "    .dataframe tbody tr th:only-of-type {\n",
              "        vertical-align: middle;\n",
              "    }\n",
              "\n",
              "    .dataframe tbody tr th {\n",
              "        vertical-align: top;\n",
              "    }\n",
              "\n",
              "    .dataframe thead th {\n",
              "        text-align: right;\n",
              "    }\n",
              "</style>\n",
              "<table border=\"1\" class=\"dataframe\">\n",
              "  <thead>\n",
              "    <tr style=\"text-align: right;\">\n",
              "      <th></th>\n",
              "      <th>Currency</th>\n",
              "      <th>Closing Price (USD)</th>\n",
              "      <th>24h Open (USD)</th>\n",
              "      <th>24h High (USD)</th>\n",
              "      <th>24h Low (USD)</th>\n",
              "    </tr>\n",
              "    <tr>\n",
              "      <th>Date</th>\n",
              "      <th></th>\n",
              "      <th></th>\n",
              "      <th></th>\n",
              "      <th></th>\n",
              "      <th></th>\n",
              "    </tr>\n",
              "  </thead>\n",
              "  <tbody>\n",
              "    <tr>\n",
              "      <th>2013-10-01</th>\n",
              "      <td>BTC</td>\n",
              "      <td>123.65499</td>\n",
              "      <td>124.30466</td>\n",
              "      <td>124.75166</td>\n",
              "      <td>122.56349</td>\n",
              "    </tr>\n",
              "    <tr>\n",
              "      <th>2013-10-02</th>\n",
              "      <td>BTC</td>\n",
              "      <td>125.45500</td>\n",
              "      <td>123.65499</td>\n",
              "      <td>125.75850</td>\n",
              "      <td>123.63383</td>\n",
              "    </tr>\n",
              "    <tr>\n",
              "      <th>2013-10-03</th>\n",
              "      <td>BTC</td>\n",
              "      <td>108.58483</td>\n",
              "      <td>125.45500</td>\n",
              "      <td>125.66566</td>\n",
              "      <td>83.32833</td>\n",
              "    </tr>\n",
              "    <tr>\n",
              "      <th>2013-10-04</th>\n",
              "      <td>BTC</td>\n",
              "      <td>118.67466</td>\n",
              "      <td>108.58483</td>\n",
              "      <td>118.67500</td>\n",
              "      <td>107.05816</td>\n",
              "    </tr>\n",
              "    <tr>\n",
              "      <th>2013-10-05</th>\n",
              "      <td>BTC</td>\n",
              "      <td>121.33866</td>\n",
              "      <td>118.67466</td>\n",
              "      <td>121.93633</td>\n",
              "      <td>118.00566</td>\n",
              "    </tr>\n",
              "  </tbody>\n",
              "</table>\n",
              "</div>"
            ],
            "text/plain": [
              "           Currency  Closing Price (USD)  24h Open (USD)  24h High (USD)  \\\n",
              "Date                                                                       \n",
              "2013-10-01      BTC            123.65499       124.30466       124.75166   \n",
              "2013-10-02      BTC            125.45500       123.65499       125.75850   \n",
              "2013-10-03      BTC            108.58483       125.45500       125.66566   \n",
              "2013-10-04      BTC            118.67466       108.58483       118.67500   \n",
              "2013-10-05      BTC            121.33866       118.67466       121.93633   \n",
              "\n",
              "            24h Low (USD)  \n",
              "Date                       \n",
              "2013-10-01      122.56349  \n",
              "2013-10-02      123.63383  \n",
              "2013-10-03       83.32833  \n",
              "2013-10-04      107.05816  \n",
              "2013-10-05      118.00566  "
            ]
          },
          "execution_count": 2,
          "metadata": {},
          "output_type": "execute_result"
        }
      ],
      "source": [
        "# Import with pandas \n",
        "import pandas as pd\n",
        "# Parse dates and set date column to index\n",
        "df = pd.read_csv(\"BTC_USD_2013-10-01_2021-05-18-CoinDesk.csv\", \n",
        "                 parse_dates=[\"Date\"], \n",
        "                 index_col=[\"Date\"]) # parse the date column (tell pandas column 1 is a datetime)\n",
        "df.head()"
      ]
    },
    {
      "cell_type": "code",
      "execution_count": 3,
      "metadata": {
        "colab": {
          "base_uri": "https://localhost:8080/"
        },
        "id": "Z-YoeINjCzJ_",
        "outputId": "d4ac2c82-9f59-438a-c749-fe418b04764d"
      },
      "outputs": [
        {
          "name": "stdout",
          "output_type": "stream",
          "text": [
            "<class 'pandas.core.frame.DataFrame'>\n",
            "DatetimeIndex: 2787 entries, 2013-10-01 to 2021-05-18\n",
            "Data columns (total 5 columns):\n",
            " #   Column               Non-Null Count  Dtype  \n",
            "---  ------               --------------  -----  \n",
            " 0   Currency             2787 non-null   object \n",
            " 1   Closing Price (USD)  2787 non-null   float64\n",
            " 2   24h Open (USD)       2787 non-null   float64\n",
            " 3   24h High (USD)       2787 non-null   float64\n",
            " 4   24h Low (USD)        2787 non-null   float64\n",
            "dtypes: float64(4), object(1)\n",
            "memory usage: 130.6+ KB\n"
          ]
        }
      ],
      "source": [
        "df.info()"
      ]
    },
    {
      "cell_type": "code",
      "execution_count": 4,
      "metadata": {
        "colab": {
          "base_uri": "https://localhost:8080/"
        },
        "id": "XP3cN0uvlxhi",
        "outputId": "39e39718-290e-4d99-f62a-8ec042714e65"
      },
      "outputs": [
        {
          "data": {
            "text/plain": [
              "2787"
            ]
          },
          "execution_count": 4,
          "metadata": {},
          "output_type": "execute_result"
        }
      ],
      "source": [
        "# How many samples do we have?\n",
        "len(df)"
      ]
    },
    {
      "cell_type": "code",
      "execution_count": 5,
      "metadata": {
        "colab": {
          "base_uri": "https://localhost:8080/",
          "height": 235
        },
        "id": "QxoNCv2NCuLY",
        "outputId": "0fce77d2-7d89-4c68-c26b-c7b6750efc44"
      },
      "outputs": [
        {
          "data": {
            "text/html": [
              "<div>\n",
              "<style scoped>\n",
              "    .dataframe tbody tr th:only-of-type {\n",
              "        vertical-align: middle;\n",
              "    }\n",
              "\n",
              "    .dataframe tbody tr th {\n",
              "        vertical-align: top;\n",
              "    }\n",
              "\n",
              "    .dataframe thead th {\n",
              "        text-align: right;\n",
              "    }\n",
              "</style>\n",
              "<table border=\"1\" class=\"dataframe\">\n",
              "  <thead>\n",
              "    <tr style=\"text-align: right;\">\n",
              "      <th></th>\n",
              "      <th>Price</th>\n",
              "    </tr>\n",
              "    <tr>\n",
              "      <th>Date</th>\n",
              "      <th></th>\n",
              "    </tr>\n",
              "  </thead>\n",
              "  <tbody>\n",
              "    <tr>\n",
              "      <th>2013-10-01</th>\n",
              "      <td>123.65499</td>\n",
              "    </tr>\n",
              "    <tr>\n",
              "      <th>2013-10-02</th>\n",
              "      <td>125.45500</td>\n",
              "    </tr>\n",
              "    <tr>\n",
              "      <th>2013-10-03</th>\n",
              "      <td>108.58483</td>\n",
              "    </tr>\n",
              "    <tr>\n",
              "      <th>2013-10-04</th>\n",
              "      <td>118.67466</td>\n",
              "    </tr>\n",
              "    <tr>\n",
              "      <th>2013-10-05</th>\n",
              "      <td>121.33866</td>\n",
              "    </tr>\n",
              "  </tbody>\n",
              "</table>\n",
              "</div>"
            ],
            "text/plain": [
              "                Price\n",
              "Date                 \n",
              "2013-10-01  123.65499\n",
              "2013-10-02  125.45500\n",
              "2013-10-03  108.58483\n",
              "2013-10-04  118.67466\n",
              "2013-10-05  121.33866"
            ]
          },
          "execution_count": 5,
          "metadata": {},
          "output_type": "execute_result"
        }
      ],
      "source": [
        "bitcoin_prices = pd.DataFrame(df[\"Closing Price (USD)\"]).rename(columns={\"Closing Price (USD)\": \"Price\"})\n",
        "bitcoin_prices.head()"
      ]
    },
    {
      "cell_type": "code",
      "execution_count": 6,
      "metadata": {
        "colab": {
          "base_uri": "https://localhost:8080/",
          "height": 460
        },
        "id": "CfkhZhmCEyUe",
        "outputId": "c49b5f77-3059-416d-8a13-9ae7f2768ebf"
      },
      "outputs": [
        {
          "data": {
            "image/png": "[encoded data removed]",
            "text/plain": [
              "<Figure size 720x504 with 1 Axes>"
            ]
          },
          "metadata": {
            "needs_background": "light"
          },
          "output_type": "display_data"
        }
      ],
      "source": [
        "import matplotlib.pyplot as plt\n",
        "bitcoin_prices.plot(figsize=(10, 7))\n",
        "plt.ylabel(\"BTC Price\")\n",
        "plt.title(\"Price of Bitcoin from 1 Oct 2013 to 18 May 2021\", fontsize=16)\n",
        "plt.legend(fontsize=14);"
      ]
    },
    {
      "cell_type": "code",
      "execution_count": 8,
      "metadata": {
        "colab": {
          "base_uri": "https://localhost:8080/"
        },
        "id": "UkTvwP2DCuGK",
        "outputId": "9bf2e5c1-fea5-44a2-e247-71a72645848c"
      },
      "outputs": [
        {
          "data": {
            "text/plain": [
              "([datetime.datetime(2013, 10, 1, 0, 0),\n",
              "  datetime.datetime(2013, 10, 2, 0, 0),\n",
              "  datetime.datetime(2013, 10, 3, 0, 0),\n",
              "  datetime.datetime(2013, 10, 4, 0, 0),\n",
              "  datetime.datetime(2013, 10, 5, 0, 0),\n",
              "  datetime.datetime(2013, 10, 6, 0, 0),\n",
              "  datetime.datetime(2013, 10, 7, 0, 0),\n",
              "  datetime.datetime(2013, 10, 8, 0, 0),\n",
              "  datetime.datetime(2013, 10, 9, 0, 0),\n",
              "  datetime.datetime(2013, 10, 10, 0, 0)],\n",
              " [123.65499,\n",
              "  125.455,\n",
              "  108.58483,\n",
              "  118.67466,\n",
              "  121.33866,\n",
              "  120.65533,\n",
              "  121.795,\n",
              "  123.033,\n",
              "  124.049,\n",
              "  125.96116])"
            ]
          },
          "execution_count": 8,
          "metadata": {},
          "output_type": "execute_result"
        }
      ],
      "source": [
        "# Importing and formatting historical Bitcoin data with Python\n",
        "import csv\n",
        "from datetime import datetime\n",
        "\n",
        "timesteps = []\n",
        "btc_price = []\n",
        "with open(\"BTC_USD_2013-10-01_2021-05-18-CoinDesk.csv\", \"r\") as f:\n",
        "  csv_reader = csv.reader(f, delimiter=\",\") # read in the target CSV\n",
        "  next(csv_reader) # skip first line (this gets rid of the column titles)\n",
        "  for line in csv_reader:\n",
        "    timesteps.append(datetime.strptime(line[1], \"%Y-%m-%d\")) # get the dates as dates (not strings), strptime = string parse time\n",
        "    btc_price.append(float(line[2])) # get the closing price as float\n",
        "\n",
        "# View first 10 of each\n",
        "timesteps[:10], btc_price[:10]"
      ]
    },
    {
      "cell_type": "code",
      "execution_count": 9,
      "metadata": {
        "colab": {
          "base_uri": "https://localhost:8080/",
          "height": 460
        },
        "id": "bTSX7RZ9Cytj",
        "outputId": "2ed83ea1-2136-4890-93b7-f94ffdb50870"
      },
      "outputs": [
        {
          "data": {
            "image/png": "[encoded data removed]",
            "text/plain": [
              "<Figure size 720x504 with 1 Axes>"
            ]
          },
          "metadata": {
            "needs_background": "light"
          },
          "output_type": "display_data"
        }
      ],
      "source": [
        "# Plot from CSV\n",
        "import matplotlib.pyplot as plt\n",
        "import numpy as np\n",
        "plt.figure(figsize=(10, 7))\n",
        "plt.plot(timesteps, btc_price)\n",
        "plt.title(\"Price of Bitcoin from 1 Oct 2013 to 18 May 2021\", fontsize=16)\n",
        "plt.xlabel(\"Date\")\n",
        "plt.ylabel(\"BTC Price\");"
      ]
    },
    {
      "cell_type": "markdown",
      "metadata": {
        "id": "prkQhgiHNOKd"
      },
      "source": [
        "### Create train & test sets for time series (1)"
      ]
    },
    {
      "cell_type": "code",
      "execution_count": 10,
      "metadata": {
        "colab": {
          "base_uri": "https://localhost:8080/"
        },
        "id": "wxQbuGVTRFKX",
        "outputId": "b394ae69-cd85-42cc-ded1-d8e1cc1ab727"
      },
      "outputs": [
        {
          "data": {
            "text/plain": [
              "(array(['2013-10-01T00:00:00.000000000', '2013-10-02T00:00:00.000000000',\n",
              "        '2013-10-03T00:00:00.000000000', '2013-10-04T00:00:00.000000000',\n",
              "        '2013-10-05T00:00:00.000000000', '2013-10-06T00:00:00.000000000',\n",
              "        '2013-10-07T00:00:00.000000000', '2013-10-08T00:00:00.000000000',\n",
              "        '2013-10-09T00:00:00.000000000', '2013-10-10T00:00:00.000000000'],\n",
              "       dtype='datetime64[ns]'),\n",
              " array([123.65499, 125.455  , 108.58483, 118.67466, 121.33866, 120.65533,\n",
              "        121.795  , 123.033  , 124.049  , 125.96116]))"
            ]
          },
          "execution_count": 10,
          "metadata": {},
          "output_type": "execute_result"
        }
      ],
      "source": [
        "# Get bitcoin date array\n",
        "timesteps = bitcoin_prices.index.to_numpy()\n",
        "prices = bitcoin_prices[\"Price\"].to_numpy()\n",
        "\n",
        "timesteps[:10], prices[:10]"
      ]
    },
    {
      "cell_type": "code",
      "execution_count": 11,
      "metadata": {
        "colab": {
          "base_uri": "https://localhost:8080/"
        },
        "id": "eGY7hTfyNLZ1",
        "outputId": "327b70cb-fd4b-4e2b-d6d3-426b136c06f3"
      },
      "outputs": [
        {
          "data": {
            "text/plain": [
              "((2229,), (558,), (2229,), (558,))"
            ]
          },
          "execution_count": 11,
          "metadata": {},
          "output_type": "execute_result"
        }
      ],
      "source": [
        "from sklearn.model_selection import train_test_split \n",
        "\n",
        "X_train, X_test, y_train, y_test = train_test_split(timesteps, # dates\n",
        "                                                    prices, # prices\n",
        "                                                    test_size=0.2,\n",
        "                                                    random_state=42)\n",
        "X_train.shape, X_test.shape, y_train.shape, y_test.shape "
      ]
    },
    {
      "cell_type": "code",
      "execution_count": 12,
      "metadata": {
        "colab": {
          "base_uri": "https://localhost:8080/",
          "height": 442
        },
        "id": "cvH_0RvSNLWm",
        "outputId": "b0ae49a7-b184-49a0-b83f-0167e6bb776b"
      },
      "outputs": [
        {
          "data": {
            "image/png": "[encoded data removed]",
            "text/plain": [
              "<Figure size 720x504 with 1 Axes>"
            ]
          },
          "metadata": {
            "needs_background": "light"
          },
          "output_type": "display_data"
        }
      ],
      "source": [
        "# Let's plot wrong train and test splits\n",
        "plt.figure(figsize=(10, 7))\n",
        "plt.scatter(X_train, y_train, s=5, label=\"Train data\")\n",
        "plt.scatter(X_test, y_test, s=5, label=\"Test data\")\n",
        "plt.xlabel(\"Date\")\n",
        "plt.ylabel(\"BTC Price\")\n",
        "plt.legend(fontsize=14)\n",
        "plt.show();"
      ]
    },
    {
      "cell_type": "code",
      "execution_count": 14,
      "metadata": {
        "colab": {
          "base_uri": "https://localhost:8080/"
        },
        "id": "lpEVKyXANLT4",
        "outputId": "94acf2dc-837b-4b73-aa37-63eefe8ffadd"
      },
      "outputs": [
        {
          "data": {
            "text/plain": [
              "(2229, 558, 2229, 558)"
            ]
          },
          "execution_count": 14,
          "metadata": {},
          "output_type": "execute_result"
        }
      ],
      "source": [
        "split_size = int(0.8 * len(prices)) \n",
        "X_train, y_train = timesteps[:split_size], prices[:split_size]\n",
        "X_test, y_test = timesteps[split_size:], prices[split_size:]\n",
        "len(X_train), len(X_test), len(y_train), len(y_test)"
      ]
    },
    {
      "cell_type": "code",
      "execution_count": 15,
      "metadata": {
        "colab": {
          "base_uri": "https://localhost:8080/",
          "height": 442
        },
        "id": "L9QImNlhOQuS",
        "outputId": "a0eae767-fea6-44df-b68c-b63baa60cc49"
      },
      "outputs": [
        {
          "data": {
            "image/png": "[encoded data removed]",
            "text/plain": [
              "<Figure size 720x504 with 1 Axes>"
            ]
          },
          "metadata": {
            "needs_background": "light"
          },
          "output_type": "display_data"
        }
      ],
      "source": [
        "plt.figure(figsize=(10, 7))\n",
        "plt.scatter(X_train, y_train, s=5, label=\"Train data\")\n",
        "plt.scatter(X_test, y_test, s=5, label=\"Test data\")\n",
        "plt.xlabel(\"Date\")\n",
        "plt.ylabel(\"BTC Price\")\n",
        "plt.legend(fontsize=14)\n",
        "plt.show();"
      ]
    },
    {
      "cell_type": "code",
      "execution_count": 16,
      "metadata": {
        "id": "trkvizA0C6vc"
      },
      "outputs": [],
      "source": [
        "def plot_time_series(timesteps, values, format='.', start=0, end=None, label=None):\n",
        " \n",
        "  plt.plot(timesteps[start:end], values[start:end], format, label=label)\n",
        "  plt.xlabel(\"Time\")\n",
        "  plt.ylabel(\"BTC Price\")\n",
        "  if label:\n",
        "    plt.legend(fontsize=14) \n",
        "  plt.grid(True)"
      ]
    },
    {
      "cell_type": "code",
      "execution_count": 17,
      "metadata": {
        "colab": {
          "base_uri": "https://localhost:8080/",
          "height": 442
        },
        "id": "6TyFY1cGC_sw",
        "outputId": "41e56d50-31b2-4c88-9d78-7095f6e74dd8"
      },
      "outputs": [
        {
          "data": {
            "image/png": "[encoded data removed]",
            "text/plain": [
              "<Figure size 720x504 with 1 Axes>"
            ]
          },
          "metadata": {
            "needs_background": "light"
          },
          "output_type": "display_data"
        }
      ],
      "source": [
        "# Try out our plotting function\n",
        "plt.figure(figsize=(10, 7))\n",
        "plot_time_series(timesteps=X_train, values=y_train, label=\"Train data\")\n",
        "plot_time_series(timesteps=X_test, values=y_test, label=\"Test data\")"
      ]
    },
    {
      "cell_type": "markdown",
      "metadata": {
        "id": "JO1YAv7w_dE7"
      },
      "source": [
        "## Model 0: Naïve forecast (baseline)"
      ]
    },
    {
      "cell_type": "code",
      "execution_count": 18,
      "metadata": {
        "colab": {
          "base_uri": "https://localhost:8080/"
        },
        "id": "nCKGUO4OVos9",
        "outputId": "4b879155-2d44-4b95-fe4c-e71d2d96b968"
      },
      "outputs": [
        {
          "data": {
            "text/plain": [
              "(array([9226.48582088, 8794.35864452, 8798.04205463, 9081.18687849,\n",
              "        8711.53433917, 8760.89271814, 8749.52059102, 8656.97092235,\n",
              "        8500.64355816, 8469.2608989 ]),\n",
              " array([57107.12067189, 58788.20967893, 58102.19142623, 55715.54665129,\n",
              "        56573.5554719 , 52147.82118698, 49764.1320816 , 50032.69313676,\n",
              "        47885.62525472, 45604.61575361]))"
            ]
          },
          "execution_count": 18,
          "metadata": {},
          "output_type": "execute_result"
        }
      ],
      "source": [
        "naive_forecast = y_test[:-1] \n",
        "naive_forecast[:10], naive_forecast[-10:] "
      ]
    },
    {
      "cell_type": "code",
      "execution_count": 19,
      "metadata": {
        "colab": {
          "base_uri": "https://localhost:8080/",
          "height": 442
        },
        "id": "a0NLHXDhWDX-",
        "outputId": "4adddc06-70f1-4f4b-b620-285a43b80c9a"
      },
      "outputs": [
        {
          "data": {
            "image/png": "[encoded data removed]",
            "text/plain": [
              "<Figure size 720x504 with 1 Axes>"
            ]
          },
          "metadata": {
            "needs_background": "light"
          },
          "output_type": "display_data"
        }
      ],
      "source": [
        "# Plot naive forecast\n",
        "plt.figure(figsize=(10, 7))\n",
        "plot_time_series(timesteps=X_train, values=y_train, label=\"Train data\")\n",
        "plot_time_series(timesteps=X_test, values=y_test, label=\"Test data\")\n",
        "plot_time_series(timesteps=X_test[1:], values=naive_forecast, format=\"-\", label=\"Naive forecast\");"
      ]
    },
    {
      "cell_type": "code",
      "execution_count": 20,
      "metadata": {
        "colab": {
          "base_uri": "https://localhost:8080/",
          "height": 442
        },
        "id": "dx0wUhtOW_VX",
        "outputId": "ef5eb197-0ce7-486d-f5e6-7745bb302b68"
      },
      "outputs": [
        {
          "data": {
            "image/png": "[encoded data removed]",
            "text/plain": [
              "<Figure size 720x504 with 1 Axes>"
            ]
          },
          "metadata": {
            "needs_background": "light"
          },
          "output_type": "display_data"
        }
      ],
      "source": [
        "plt.figure(figsize=(10, 7))\n",
        "offset = 300 # offset the values by 300 timesteps \n",
        "plot_time_series(timesteps=X_test, values=y_test, start=offset, label=\"Test data\")\n",
        "plot_time_series(timesteps=X_test[1:], values=naive_forecast, format=\"-\", start=offset, label=\"Naive forecast\");"
      ]
    },
    {
      "cell_type": "code",
      "execution_count": 21,
      "metadata": {
        "id": "ljaO69huYCZD"
      },
      "outputs": [],
      "source": [
        "# Let's get TensorFlow! \n",
        "import tensorflow as tf"
      ]
    },
    {
      "cell_type": "code",
      "execution_count": 22,
      "metadata": {
        "id": "2jbLBJ_IGjla"
      },
      "outputs": [],
      "source": [
        "def mean_absolute_scaled_error(y_true, y_pred):\n",
        "  \n",
        "  mae = tf.reduce_mean(tf.abs(y_true - y_pred))\n",
        "  mae_naive_no_season = tf.reduce_mean(tf.abs(y_true[1:] - y_true[:-1])) # our seasonality is 1 day (hence the shifting of 1 day)\n",
        "\n",
        "  return mae / mae_naive_no_season"
      ]
    },
    {
      "cell_type": "code",
      "execution_count": 23,
      "metadata": {
        "id": "MwMeVgRXWaJp"
      },
      "outputs": [],
      "source": [
        "def evaluate_preds(y_true, y_pred):\n",
        "  # Make sure float32 (for metric calculations)\n",
        "  y_true = tf.cast(y_true, dtype=tf.float32)\n",
        "  y_pred = tf.cast(y_pred, dtype=tf.float32)\n",
        "\n",
        "  # Calculate various metrics\n",
        "  mae = tf.keras.metrics.mean_absolute_error(y_true, y_pred)\n",
        "  mse = tf.keras.metrics.mean_squared_error(y_true, y_pred) # puts and emphasis on outliers (all errors get squared)\n",
        "  rmse = tf.sqrt(mse)\n",
        "  mape = tf.keras.metrics.mean_absolute_percentage_error(y_true, y_pred)\n",
        "  mase = mean_absolute_scaled_error(y_true, y_pred)\n",
        "  \n",
        "  return {\"mae\": mae.numpy(),\n",
        "          \"mse\": mse.numpy(),\n",
        "          \"rmse\": rmse.numpy(),\n",
        "          \"mape\": mape.numpy(),\n",
        "          \"mase\": mase.numpy()}"
      ]
    },
    {
      "cell_type": "code",
      "execution_count": 24,
      "metadata": {
        "colab": {
          "base_uri": "https://localhost:8080/"
        },
        "id": "HbJlsvUwYEsf",
        "outputId": "3b2c1d91-dfd4-4266-9927-4f0965613656"
      },
      "outputs": [
        {
          "data": {
            "text/plain": [
              "{'mae': 567.9802,\n",
              " 'mse': 1147547.0,\n",
              " 'rmse': 1071.2362,\n",
              " 'mape': 2.5165248,\n",
              " 'mase': 0.99957}"
            ]
          },
          "execution_count": 24,
          "metadata": {},
          "output_type": "execute_result"
        }
      ],
      "source": [
        "naive_results = evaluate_preds(y_true=y_test[1:],\n",
        "                               y_pred=naive_forecast)\n",
        "naive_results"
      ]
    },
    {
      "cell_type": "code",
      "execution_count": 25,
      "metadata": {
        "colab": {
          "base_uri": "https://localhost:8080/"
        },
        "id": "Yjl-X9QLVhp1",
        "outputId": "d96d84d8-af33-4574-98c6-cecba5a211a9"
      },
      "outputs": [
        {
          "data": {
            "text/plain": [
              "20056.632963737226"
            ]
          },
          "execution_count": 25,
          "metadata": {},
          "output_type": "execute_result"
        }
      ],
      "source": [
        "# Find average price of Bitcoin in test dataset\n",
        "tf.reduce_mean(y_test).numpy()"
      ]
    },
    {
      "cell_type": "markdown",
      "metadata": {
        "id": "e8AzwUvjBkgY"
      },
      "source": [
        "## Format Data Part 2: Windowing dataset"
      ]
    },
    {
      "cell_type": "code",
      "execution_count": 26,
      "metadata": {
        "id": "LibzWQXM2ib-"
      },
      "outputs": [],
      "source": [
        "HORIZON = 1 # predict 1 step at a time\n",
        "WINDOW_SIZE = 7 # use a week worth of timesteps to predict the horizon"
      ]
    },
    {
      "cell_type": "code",
      "execution_count": 27,
      "metadata": {
        "id": "zV8pv5K_x81E"
      },
      "outputs": [],
      "source": [
        "# Create function to label windowed data\n",
        "def get_labelled_windows(x, horizon=1):\n",
        " \n",
        "  return x[:, :-horizon], x[:, -horizon:]"
      ]
    },
    {
      "cell_type": "code",
      "execution_count": 28,
      "metadata": {
        "colab": {
          "base_uri": "https://localhost:8080/"
        },
        "id": "ejJ9vCyKff8F",
        "outputId": "805b4459-9f5e-4311-9592-41efefd22546"
      },
      "outputs": [
        {
          "name": "stdout",
          "output_type": "stream",
          "text": [
            "Window: [1 2 3 4 5 6 7] -> Label: 8\n"
          ]
        }
      ],
      "source": [
        "test_window, test_label = get_labelled_windows(tf.expand_dims(tf.range(8)+1, axis=0), horizon=HORIZON)\n",
        "print(f\"Window: {tf.squeeze(test_window).numpy()} -> Label: {tf.squeeze(test_label).numpy()}\")"
      ]
    },
    {
      "cell_type": "code",
      "execution_count": 30,
      "metadata": {
        "id": "apea0wiJyCI6"
      },
      "outputs": [],
      "source": [
        "# Create function to view NumPy arrays as windows \n",
        "def make_windows(x, window_size=7, horizon=1):\n",
        " \n",
        "  window_step = np.expand_dims(np.arange(window_size+horizon), axis=0)\n",
        "  window_indexes = window_step + np.expand_dims(np.arange(len(x)-(window_size+horizon-1)), axis=0).T \n",
        "  windowed_array = x[window_indexes]\n",
        "  windows, labels = get_labelled_windows(windowed_array, horizon=horizon)\n",
        "\n",
        "  return windows, labels"
      ]
    },
    {
      "cell_type": "code",
      "execution_count": 31,
      "metadata": {
        "colab": {
          "base_uri": "https://localhost:8080/"
        },
        "id": "u7Yc3V7fc1UG",
        "outputId": "41dce6b2-d01b-4943-f1c8-a113c256bc2d"
      },
      "outputs": [
        {
          "data": {
            "text/plain": [
              "(2780, 2780)"
            ]
          },
          "execution_count": 31,
          "metadata": {},
          "output_type": "execute_result"
        }
      ],
      "source": [
        "full_windows, full_labels = make_windows(prices, window_size=WINDOW_SIZE, horizon=HORIZON)\n",
        "len(full_windows), len(full_labels)"
      ]
    },
    {
      "cell_type": "code",
      "execution_count": 32,
      "metadata": {
        "colab": {
          "base_uri": "https://localhost:8080/"
        },
        "id": "U1P-MT4CkYta",
        "outputId": "a00a6bb8-de3e-4861-84bc-442441b09635"
      },
      "outputs": [
        {
          "name": "stdout",
          "output_type": "stream",
          "text": [
            "Window: [123.65499 125.455   108.58483 118.67466 121.33866 120.65533 121.795  ] -> Label: [123.033]\n",
            "Window: [125.455   108.58483 118.67466 121.33866 120.65533 121.795   123.033  ] -> Label: [124.049]\n",
            "Window: [108.58483 118.67466 121.33866 120.65533 121.795   123.033   124.049  ] -> Label: [125.96116]\n"
          ]
        }
      ],
      "source": [
        "for i in range(3):\n",
        "  print(f\"Window: {full_windows[i]} -> Label: {full_labels[i]}\")"
      ]
    },
    {
      "cell_type": "code",
      "execution_count": 33,
      "metadata": {
        "colab": {
          "base_uri": "https://localhost:8080/"
        },
        "id": "UCDtm6gskjRH",
        "outputId": "0d02d8c6-d0af-45b6-e98f-bbf22172f572"
      },
      "outputs": [
        {
          "name": "stdout",
          "output_type": "stream",
          "text": [
            "Window: [58788.20967893 58102.19142623 55715.54665129 56573.5554719\n",
            " 52147.82118698 49764.1320816  50032.69313676] -> Label: [47885.62525472]\n",
            "Window: [58102.19142623 55715.54665129 56573.5554719  52147.82118698\n",
            " 49764.1320816  50032.69313676 47885.62525472] -> Label: [45604.61575361]\n",
            "Window: [55715.54665129 56573.5554719  52147.82118698 49764.1320816\n",
            " 50032.69313676 47885.62525472 45604.61575361] -> Label: [43144.47129086]\n"
          ]
        }
      ],
      "source": [
        "for i in range(3):\n",
        "  print(f\"Window: {full_windows[i-3]} -> Label: {full_labels[i-3]}\")"
      ]
    },
    {
      "cell_type": "markdown",
      "metadata": {
        "id": "exTivzXvgbmb"
      },
      "source": [
        "## Turning windows into training and test sets "
      ]
    },
    {
      "cell_type": "code",
      "execution_count": 34,
      "metadata": {
        "id": "o_8BRgb8YtP3"
      },
      "outputs": [],
      "source": [
        "# Make the train/test splits\n",
        "def make_train_test_splits(windows, labels, test_split=0.2):\n",
        "  \"\"\"\n",
        "  Splits matching pairs of windows and labels into train and test splits.\n",
        "  \"\"\"\n",
        "  split_size = int(len(windows) * (1-test_split)) # this will default to 80% train/20% test\n",
        "  train_windows = windows[:split_size]\n",
        "  train_labels = labels[:split_size]\n",
        "  test_windows = windows[split_size:]\n",
        "  test_labels = labels[split_size:]\n",
        "  return train_windows, test_windows, train_labels, test_labels"
      ]
    },
    {
      "cell_type": "code",
      "execution_count": 35,
      "metadata": {
        "colab": {
          "base_uri": "https://localhost:8080/"
        },
        "id": "z_xY8T7HEaoU",
        "outputId": "d31a4535-f5b7-4ee6-92bd-a056a0101794"
      },
      "outputs": [
        {
          "data": {
            "text/plain": [
              "(2224, 556, 2224, 556)"
            ]
          },
          "execution_count": 35,
          "metadata": {},
          "output_type": "execute_result"
        }
      ],
      "source": [
        "train_windows, test_windows, train_labels, test_labels = make_train_test_splits(full_windows, full_labels)\n",
        "len(train_windows), len(test_windows), len(train_labels), len(test_labels)"
      ]
    },
    {
      "cell_type": "code",
      "execution_count": 36,
      "metadata": {
        "colab": {
          "base_uri": "https://localhost:8080/"
        },
        "id": "DDgyT7Gix1fH",
        "outputId": "ca96d4e6-56f0-4355-d2bb-6ad981fc3dae"
      },
      "outputs": [
        {
          "data": {
            "text/plain": [
              "(array([[123.65499, 125.455  , 108.58483, 118.67466, 121.33866, 120.65533,\n",
              "         121.795  ],\n",
              "        [125.455  , 108.58483, 118.67466, 121.33866, 120.65533, 121.795  ,\n",
              "         123.033  ],\n",
              "        [108.58483, 118.67466, 121.33866, 120.65533, 121.795  , 123.033  ,\n",
              "         124.049  ],\n",
              "        [118.67466, 121.33866, 120.65533, 121.795  , 123.033  , 124.049  ,\n",
              "         125.96116],\n",
              "        [121.33866, 120.65533, 121.795  , 123.033  , 124.049  , 125.96116,\n",
              "         125.27966]]),\n",
              " array([[123.033  ],\n",
              "        [124.049  ],\n",
              "        [125.96116],\n",
              "        [125.27966],\n",
              "        [125.9275 ]]))"
            ]
          },
          "execution_count": 36,
          "metadata": {},
          "output_type": "execute_result"
        }
      ],
      "source": [
        "train_windows[:5], train_labels[:5]"
      ]
    },
    {
      "cell_type": "code",
      "execution_count": 37,
      "metadata": {
        "colab": {
          "base_uri": "https://localhost:8080/"
        },
        "id": "TkF0HmvadHBB",
        "outputId": "a257bf12-cd34-4843-e517-fc6863fcdd15"
      },
      "outputs": [
        {
          "data": {
            "text/plain": [
              "True"
            ]
          },
          "execution_count": 37,
          "metadata": {},
          "output_type": "execute_result"
        }
      ],
      "source": [
        "np.array_equal(np.squeeze(train_labels[:-HORIZON-1]), y_train[WINDOW_SIZE:])"
      ]
    },
    {
      "cell_type": "code",
      "execution_count": 38,
      "metadata": {
        "id": "Xh8i1f7rV_P2"
      },
      "outputs": [],
      "source": [
        "import os\n",
        "\n",
        "# Create a function to implement a ModelCheckpoint callback with a specific filename \n",
        "def create_model_checkpoint(model_name, save_path=\"model_experiments\"):\n",
        "  return tf.keras.callbacks.ModelCheckpoint(filepath=os.path.join(save_path, model_name), # create filepath to save model\n",
        "                                            verbose=0, # only output a limited amount of text\n",
        "                                            save_best_only=True) # save only the best model to file"
      ]
    },
    {
      "cell_type": "markdown",
      "metadata": {
        "id": "j5uw1AaVY-J9"
      },
      "source": [
        "## Model 1: Dense model (window = 7, horizon = 1)"
      ]
    },
    {
      "cell_type": "code",
      "execution_count": 39,
      "metadata": {
        "colab": {
          "base_uri": "https://localhost:8080/"
        },
        "id": "Slr5hrJHY_Ed",
        "outputId": "95b645ae-d08a-4794-a3e6-db8d1e1e3c67"
      },
      "outputs": [
        {
          "name": "stdout",
          "output_type": "stream",
          "text": [
            "Epoch 1/100\n",
            " 1/18 [>.............................] - ETA: 12s - loss: 2111.0571 - mae: 2111.0571INFO:tensorflow:Assets written to: model_experiments\\model_1_dense\\assets\n",
            "18/18 [==============================] - 2s 81ms/step - loss: 780.3469 - mae: 780.3469 - val_loss: 2279.5833 - val_mae: 2279.5833\n",
            "Epoch 2/100\n",
            " 1/18 [>.............................] - ETA: 0s - loss: 348.8778 - mae: 348.8778INFO:tensorflow:Assets written to: model_experiments\\model_1_dense\\assets\n",
            "18/18 [==============================] - 1s 30ms/step - loss: 247.6765 - mae: 247.6765 - val_loss: 1005.9865 - val_mae: 1005.9865\n",
            "Epoch 3/100\n",
            " 1/18 [>.............................] - ETA: 0s - loss: 134.4844 - mae: 134.4844INFO:tensorflow:Assets written to: model_experiments\\model_1_dense\\assets\n",
            "18/18 [==============================] - 1s 30ms/step - loss: 188.4107 - mae: 188.4107 - val_loss: 923.2859 - val_mae: 923.2859\n",
            "Epoch 4/100\n",
            " 1/18 [>.............................] - ETA: 0s - loss: 211.3675 - mae: 211.3675INFO:tensorflow:Assets written to: model_experiments\\model_1_dense\\assets\n",
            "18/18 [==============================] - 1s 32ms/step - loss: 169.4334 - mae: 169.4334 - val_loss: 900.5932 - val_mae: 900.5932\n",
            "Epoch 5/100\n",
            " 1/18 [>.............................] - ETA: 0s - loss: 155.7282 - mae: 155.7282INFO:tensorflow:Assets written to: model_experiments\\model_1_dense\\assets\n",
            "18/18 [==============================] - 1s 32ms/step - loss: 165.0899 - mae: 165.0899 - val_loss: 895.2404 - val_mae: 895.2404\n",
            "Epoch 6/100\n",
            " 1/18 [>.............................] - ETA: 0s - loss: 117.3696 - mae: 117.3696INFO:tensorflow:Assets written to: model_experiments\\model_1_dense\\assets\n",
            "18/18 [==============================] - 1s 33ms/step - loss: 158.5206 - mae: 158.5206 - val_loss: 855.1869 - val_mae: 855.1869\n",
            "Epoch 7/100\n",
            " 1/18 [>.............................] - ETA: 0s - loss: 180.3330 - mae: 180.3330INFO:tensorflow:Assets written to: model_experiments\\model_1_dense\\assets\n",
            "18/18 [==============================] - 1s 31ms/step - loss: 151.3568 - mae: 151.3568 - val_loss: 840.9289 - val_mae: 840.9289\n",
            "Epoch 8/100\n",
            " 1/18 [>.............................] - ETA: 0s - loss: 121.1151 - mae: 121.1151INFO:tensorflow:Assets written to: model_experiments\\model_1_dense\\assets\n",
            "18/18 [==============================] - 1s 50ms/step - loss: 145.2560 - mae: 145.2560 - val_loss: 803.6005 - val_mae: 803.6005\n",
            "Epoch 9/100\n",
            " 1/18 [>.............................] - ETA: 0s - loss: 126.2221 - mae: 126.2221INFO:tensorflow:Assets written to: model_experiments\\model_1_dense\\assets\n",
            "18/18 [==============================] - 1s 52ms/step - loss: 144.3546 - mae: 144.3546 - val_loss: 799.5590 - val_mae: 799.5591\n",
            "Epoch 10/100\n",
            "12/18 [===================>..........] - ETA: 0s - loss: 136.8189 - mae: 136.8189INFO:tensorflow:Assets written to: model_experiments\\model_1_dense\\assets\n",
            "18/18 [==============================] - 1s 43ms/step - loss: 141.2944 - mae: 141.2944 - val_loss: 763.5060 - val_mae: 763.5060\n",
            "Epoch 11/100\n",
            "18/18 [==============================] - 0s 7ms/step - loss: 135.6591 - mae: 135.6591 - val_loss: 771.3523 - val_mae: 771.3523\n",
            "Epoch 12/100\n",
            "18/18 [==============================] - 0s 6ms/step - loss: 134.1702 - mae: 134.1702 - val_loss: 782.8324 - val_mae: 782.8324\n",
            "Epoch 13/100\n",
            "18/18 [==============================] - 0s 7ms/step - loss: 134.6014 - mae: 134.6014 - val_loss: 784.4727 - val_mae: 784.4727\n",
            "Epoch 14/100\n",
            " 1/18 [>.............................] - ETA: 0s - loss: 136.5615 - mae: 136.5615INFO:tensorflow:Assets written to: model_experiments\\model_1_dense\\assets\n",
            "18/18 [==============================] - 1s 39ms/step - loss: 130.6125 - mae: 130.6125 - val_loss: 751.3470 - val_mae: 751.3470\n",
            "Epoch 15/100\n",
            " 1/18 [>.............................] - ETA: 0s - loss: 131.5394 - mae: 131.5394INFO:tensorflow:Assets written to: model_experiments\\model_1_dense\\assets\n",
            "18/18 [==============================] - 1s 40ms/step - loss: 128.8352 - mae: 128.8352 - val_loss: 696.5836 - val_mae: 696.5836\n",
            "Epoch 16/100\n",
            "18/18 [==============================] - 0s 6ms/step - loss: 124.8667 - mae: 124.8667 - val_loss: 707.2986 - val_mae: 707.2986\n",
            "Epoch 17/100\n",
            "18/18 [==============================] - 0s 5ms/step - loss: 123.6096 - mae: 123.6096 - val_loss: 714.2289 - val_mae: 714.2289\n",
            "Epoch 18/100\n",
            " 1/18 [>.............................] - ETA: 0s - loss: 138.5526 - mae: 138.5526INFO:tensorflow:Assets written to: model_experiments\\model_1_dense\\assets\n",
            "18/18 [==============================] - 1s 67ms/step - loss: 122.3023 - mae: 122.3023 - val_loss: 669.1413 - val_mae: 669.1413\n",
            "Epoch 19/100\n",
            "18/18 [==============================] - 0s 11ms/step - loss: 121.4932 - mae: 121.4932 - val_loss: 721.5449 - val_mae: 721.5449\n",
            "Epoch 20/100\n",
            "18/18 [==============================] - ETA: 0s - loss: 119.2384 - mae: 119.2384INFO:tensorflow:Assets written to: model_experiments\\model_1_dense\\assets\n",
            "18/18 [==============================] - 1s 45ms/step - loss: 119.2384 - mae: 119.2384 - val_loss: 658.0785 - val_mae: 658.0785\n",
            "Epoch 21/100\n",
            " 1/18 [>.............................] - ETA: 0s - loss: 128.8736 - mae: 128.8736INFO:tensorflow:Assets written to: model_experiments\\model_1_dense\\assets\n",
            "18/18 [==============================] - 1s 42ms/step - loss: 121.5293 - mae: 121.5293 - val_loss: 638.3386 - val_mae: 638.3386\n",
            "Epoch 22/100\n",
            "18/18 [==============================] - 0s 5ms/step - loss: 119.3422 - mae: 119.3422 - val_loss: 678.8881 - val_mae: 678.8881\n",
            "Epoch 23/100\n",
            "18/18 [==============================] - 0s 5ms/step - loss: 122.8203 - mae: 122.8203 - val_loss: 651.8511 - val_mae: 651.8511\n",
            "Epoch 24/100\n",
            " 1/18 [>.............................] - ETA: 0s - loss: 125.6553 - mae: 125.6553INFO:tensorflow:Assets written to: model_experiments\\model_1_dense\\assets\n",
            "18/18 [==============================] - 1s 38ms/step - loss: 117.0774 - mae: 117.0774 - val_loss: 623.5612 - val_mae: 623.5612\n",
            "Epoch 25/100\n",
            " 1/18 [>.............................] - ETA: 0s - loss: 122.1502 - mae: 122.1502INFO:tensorflow:Assets written to: model_experiments\\model_1_dense\\assets\n",
            "18/18 [==============================] - 1s 41ms/step - loss: 115.1816 - mae: 115.1816 - val_loss: 618.5576 - val_mae: 618.5576\n",
            "Epoch 26/100\n",
            "16/18 [=========================>....] - ETA: 0s - loss: 116.9997 - mae: 116.9997INFO:tensorflow:Assets written to: model_experiments\\model_1_dense\\assets\n",
            "18/18 [==============================] - 1s 43ms/step - loss: 115.0673 - mae: 115.0673 - val_loss: 616.4917 - val_mae: 616.4917\n",
            "Epoch 27/100\n",
            "18/18 [==============================] - 0s 6ms/step - loss: 116.6431 - mae: 116.6431 - val_loss: 619.0472 - val_mae: 619.0472\n",
            "Epoch 28/100\n",
            " 1/18 [>.............................] - ETA: 0s - loss: 102.1524 - mae: 102.1524INFO:tensorflow:Assets written to: model_experiments\\model_1_dense\\assets\n",
            "18/18 [==============================] - 1s 37ms/step - loss: 114.0328 - mae: 114.0328 - val_loss: 610.3879 - val_mae: 610.3879\n",
            "Epoch 29/100\n",
            "18/18 [==============================] - 0s 4ms/step - loss: 113.4892 - mae: 113.4892 - val_loss: 617.2401 - val_mae: 617.2401\n",
            "Epoch 30/100\n",
            " 1/18 [>.............................] - ETA: 0s - loss: 124.6252 - mae: 124.6252INFO:tensorflow:Assets written to: model_experiments\\model_1_dense\\assets\n",
            "18/18 [==============================] - 1s 33ms/step - loss: 116.4094 - mae: 116.4094 - val_loss: 603.6488 - val_mae: 603.6488\n",
            "Epoch 31/100\n",
            "18/18 [==============================] - 0s 7ms/step - loss: 112.3454 - mae: 112.3454 - val_loss: 623.4433 - val_mae: 623.4433\n",
            "Epoch 32/100\n",
            "17/18 [===========================>..] - ETA: 0s - loss: 113.5413 - mae: 113.5413INFO:tensorflow:Assets written to: model_experiments\\model_1_dense\\assets\n",
            "18/18 [==============================] - 1s 37ms/step - loss: 113.2056 - mae: 113.2056 - val_loss: 600.0259 - val_mae: 600.0259\n",
            "Epoch 33/100\n",
            "18/18 [==============================] - 0s 4ms/step - loss: 112.9529 - mae: 112.9529 - val_loss: 653.0601 - val_mae: 653.0601\n",
            "Epoch 34/100\n",
            " 1/18 [>.............................] - ETA: 0s - loss: 140.4312 - mae: 140.4312INFO:tensorflow:Assets written to: model_experiments\\model_1_dense\\assets\n",
            "18/18 [==============================] - 1s 34ms/step - loss: 112.1157 - mae: 112.1157 - val_loss: 594.7913 - val_mae: 594.7913\n",
            "Epoch 35/100\n",
            " 1/18 [>.............................] - ETA: 0s - loss: 100.0624 - mae: 100.0624INFO:tensorflow:Assets written to: model_experiments\\model_1_dense\\assets\n",
            "18/18 [==============================] - 1s 35ms/step - loss: 110.7447 - mae: 110.7447 - val_loss: 592.7402 - val_mae: 592.7402\n",
            "Epoch 36/100\n",
            " 1/18 [>.............................] - ETA: 0s - loss: 149.3918 - mae: 149.3918INFO:tensorflow:Assets written to: model_experiments\\model_1_dense\\assets\n",
            "18/18 [==============================] - 1s 33ms/step - loss: 116.3301 - mae: 116.3301 - val_loss: 592.4695 - val_mae: 592.4695\n",
            "Epoch 37/100\n",
            "18/18 [==============================] - 0s 5ms/step - loss: 110.7676 - mae: 110.7676 - val_loss: 618.5348 - val_mae: 618.5348\n",
            "Epoch 38/100\n",
            "18/18 [==============================] - 0s 4ms/step - loss: 112.5934 - mae: 112.5934 - val_loss: 613.9558 - val_mae: 613.9558\n",
            "Epoch 39/100\n",
            " 1/18 [>.............................] - ETA: 0s - loss: 128.7077 - mae: 128.7077INFO:tensorflow:Assets written to: model_experiments\\model_1_dense\\assets\n",
            "18/18 [==============================] - 1s 33ms/step - loss: 110.1321 - mae: 110.1321 - val_loss: 586.6887 - val_mae: 586.6887\n",
            "Epoch 40/100\n",
            "18/18 [==============================] - 0s 4ms/step - loss: 109.4753 - mae: 109.4753 - val_loss: 593.9155 - val_mae: 593.9155\n",
            "Epoch 41/100\n",
            " 1/18 [>.............................] - ETA: 0s - loss: 105.0374 - mae: 105.0374INFO:tensorflow:Assets written to: model_experiments\\model_1_dense\\assets\n",
            "18/18 [==============================] - 1s 82ms/step - loss: 110.1777 - mae: 110.1777 - val_loss: 586.4464 - val_mae: 586.4464\n",
            "Epoch 42/100\n",
            "18/18 [==============================] - 0s 7ms/step - loss: 111.5192 - mae: 111.5192 - val_loss: 649.3649 - val_mae: 649.3649\n",
            "Epoch 43/100\n",
            "18/18 [==============================] - 0s 5ms/step - loss: 115.8939 - mae: 115.8939 - val_loss: 686.8297 - val_mae: 686.8297\n",
            "Epoch 44/100\n",
            "18/18 [==============================] - 0s 5ms/step - loss: 123.0945 - mae: 123.0945 - val_loss: 661.1306 - val_mae: 661.1306\n",
            "Epoch 45/100\n",
            "18/18 [==============================] - 0s 6ms/step - loss: 113.8169 - mae: 113.8169 - val_loss: 626.8174 - val_mae: 626.8174\n",
            "Epoch 46/100\n",
            "18/18 [==============================] - 0s 5ms/step - loss: 114.0971 - mae: 114.0971 - val_loss: 588.7770 - val_mae: 588.7770\n",
            "Epoch 47/100\n",
            "18/18 [==============================] - 0s 5ms/step - loss: 108.9936 - mae: 108.9936 - val_loss: 636.0579 - val_mae: 636.0579\n",
            "Epoch 48/100\n",
            "18/18 [==============================] - 0s 5ms/step - loss: 109.2967 - mae: 109.2967 - val_loss: 604.1584 - val_mae: 604.1584\n",
            "Epoch 49/100\n",
            "18/18 [==============================] - 0s 5ms/step - loss: 111.7787 - mae: 111.7787 - val_loss: 591.5093 - val_mae: 591.5093\n",
            "Epoch 50/100\n",
            "18/18 [==============================] - 0s 5ms/step - loss: 111.7319 - mae: 111.7319 - val_loss: 636.4681 - val_mae: 636.4681\n",
            "Epoch 51/100\n",
            "18/18 [==============================] - 0s 6ms/step - loss: 110.7498 - mae: 110.7498 - val_loss: 589.2877 - val_mae: 589.2877\n",
            "Epoch 52/100\n",
            "18/18 [==============================] - 0s 6ms/step - loss: 111.5192 - mae: 111.5192 - val_loss: 609.5291 - val_mae: 609.5291\n",
            "Epoch 53/100\n",
            " 1/18 [>.............................] - ETA: 0s - loss: 63.2880 - mae: 63.2880INFO:tensorflow:Assets written to: model_experiments\\model_1_dense\\assets\n",
            "18/18 [==============================] - 1s 43ms/step - loss: 113.9868 - mae: 113.9868 - val_loss: 584.7470 - val_mae: 584.7470\n",
            "Epoch 54/100\n",
            " 1/18 [>.............................] - ETA: 0s - loss: 98.4018 - mae: 98.4018INFO:tensorflow:Assets written to: model_experiments\\model_1_dense\\assets\n",
            "18/18 [==============================] - 1s 51ms/step - loss: 110.1075 - mae: 110.1075 - val_loss: 578.7414 - val_mae: 578.7414\n",
            "Epoch 55/100\n",
            "18/18 [==============================] - 0s 5ms/step - loss: 110.6423 - mae: 110.6423 - val_loss: 581.5334 - val_mae: 581.5334\n",
            "Epoch 56/100\n",
            "18/18 [==============================] - 0s 5ms/step - loss: 107.6537 - mae: 107.6537 - val_loss: 759.0195 - val_mae: 759.0195\n",
            "Epoch 57/100\n",
            "18/18 [==============================] - 0s 5ms/step - loss: 119.2012 - mae: 119.2012 - val_loss: 603.5956 - val_mae: 603.5956\n",
            "Epoch 58/100\n",
            "18/18 [==============================] - 0s 5ms/step - loss: 116.4417 - mae: 116.4417 - val_loss: 583.7294 - val_mae: 583.7294\n",
            "Epoch 59/100\n",
            "18/18 [==============================] - 0s 5ms/step - loss: 109.9014 - mae: 109.9014 - val_loss: 592.8417 - val_mae: 592.8417\n",
            "Epoch 60/100\n",
            "18/18 [==============================] - 0s 5ms/step - loss: 107.7859 - mae: 107.7859 - val_loss: 593.4966 - val_mae: 593.4966\n",
            "Epoch 61/100\n",
            "18/18 [==============================] - ETA: 0s - loss: 107.6960 - mae: 107.6960INFO:tensorflow:Assets written to: model_experiments\\model_1_dense\\assets\n",
            "18/18 [==============================] - 1s 43ms/step - loss: 107.6960 - mae: 107.6960 - val_loss: 575.5124 - val_mae: 575.5124\n",
            "Epoch 62/100\n",
            "18/18 [==============================] - 0s 6ms/step - loss: 107.1258 - mae: 107.1258 - val_loss: 580.2648 - val_mae: 580.2648\n",
            "Epoch 63/100\n",
            "18/18 [==============================] - 0s 6ms/step - loss: 111.8452 - mae: 111.8452 - val_loss: 654.6136 - val_mae: 654.6136\n",
            "Epoch 64/100\n",
            "18/18 [==============================] - 0s 4ms/step - loss: 110.3121 - mae: 110.3121 - val_loss: 610.7806 - val_mae: 610.7806\n",
            "Epoch 65/100\n",
            " 1/18 [>.............................] - ETA: 0s - loss: 131.5207 - mae: 131.5207INFO:tensorflow:Assets written to: model_experiments\\model_1_dense\\assets\n",
            "18/18 [==============================] - 1s 59ms/step - loss: 109.7098 - mae: 109.7098 - val_loss: 573.9961 - val_mae: 573.9961\n",
            "Epoch 66/100\n",
            "16/18 [=========================>....] - ETA: 0s - loss: 107.6337 - mae: 107.6337INFO:tensorflow:Assets written to: model_experiments\\model_1_dense\\assets\n",
            "18/18 [==============================] - 1s 47ms/step - loss: 106.8139 - mae: 106.8139 - val_loss: 572.9990 - val_mae: 572.9990\n",
            "Epoch 67/100\n",
            "18/18 [==============================] - 0s 5ms/step - loss: 106.1394 - mae: 106.1394 - val_loss: 602.1527 - val_mae: 602.1527\n",
            "Epoch 68/100\n",
            "18/18 [==============================] - 0s 6ms/step - loss: 112.9245 - mae: 112.9245 - val_loss: 687.6381 - val_mae: 687.6381\n",
            "Epoch 69/100\n",
            "18/18 [==============================] - 0s 5ms/step - loss: 126.9916 - mae: 126.9916 - val_loss: 664.9477 - val_mae: 664.9477\n",
            "Epoch 70/100\n",
            "18/18 [==============================] - 0s 5ms/step - loss: 124.8734 - mae: 124.8734 - val_loss: 619.6690 - val_mae: 619.6690\n",
            "Epoch 71/100\n",
            "18/18 [==============================] - 0s 5ms/step - loss: 109.8522 - mae: 109.8522 - val_loss: 582.3636 - val_mae: 582.3636\n",
            "Epoch 72/100\n",
            "18/18 [==============================] - 0s 4ms/step - loss: 107.6717 - mae: 107.6717 - val_loss: 573.4948 - val_mae: 573.4948\n",
            "Epoch 73/100\n",
            "18/18 [==============================] - 0s 4ms/step - loss: 109.6036 - mae: 109.6036 - val_loss: 583.9049 - val_mae: 583.9049\n",
            "Epoch 74/100\n",
            "18/18 [==============================] - ETA: 0s - loss: 107.7049 - mae: 107.7049INFO:tensorflow:Assets written to: model_experiments\\model_1_dense\\assets\n",
            "18/18 [==============================] - 1s 49ms/step - loss: 107.7049 - mae: 107.7049 - val_loss: 572.9933 - val_mae: 572.9933\n",
            "Epoch 75/100\n",
            "18/18 [==============================] - 0s 8ms/step - loss: 108.1179 - mae: 108.1179 - val_loss: 583.9371 - val_mae: 583.9371\n",
            "Epoch 76/100\n",
            "18/18 [==============================] - 0s 6ms/step - loss: 109.5447 - mae: 109.5447 - val_loss: 592.8240 - val_mae: 592.8240\n",
            "Epoch 77/100\n",
            "18/18 [==============================] - 0s 7ms/step - loss: 108.3639 - mae: 108.3639 - val_loss: 575.4263 - val_mae: 575.4263\n",
            "Epoch 78/100\n",
            "18/18 [==============================] - 0s 6ms/step - loss: 108.0055 - mae: 108.0055 - val_loss: 574.3942 - val_mae: 574.3942\n",
            "Epoch 79/100\n",
            "18/18 [==============================] - 0s 6ms/step - loss: 107.3223 - mae: 107.3223 - val_loss: 597.2482 - val_mae: 597.2482\n",
            "Epoch 80/100\n",
            "18/18 [==============================] - 0s 6ms/step - loss: 108.1452 - mae: 108.1452 - val_loss: 586.6864 - val_mae: 586.6864\n",
            "Epoch 81/100\n",
            "18/18 [==============================] - 0s 5ms/step - loss: 106.1153 - mae: 106.1153 - val_loss: 575.1766 - val_mae: 575.1766\n",
            "Epoch 82/100\n",
            "18/18 [==============================] - 0s 4ms/step - loss: 116.6343 - mae: 116.6343 - val_loss: 575.4343 - val_mae: 575.4343\n",
            "Epoch 83/100\n",
            "18/18 [==============================] - 0s 5ms/step - loss: 110.8731 - mae: 110.8731 - val_loss: 654.5373 - val_mae: 654.5373\n",
            "Epoch 84/100\n",
            " 1/18 [>.............................] - ETA: 0s - loss: 118.1786 - mae: 118.1786INFO:tensorflow:Assets written to: model_experiments\\model_1_dense\\assets\n",
            "18/18 [==============================] - 1s 45ms/step - loss: 111.9106 - mae: 111.9106 - val_loss: 572.3372 - val_mae: 572.3372\n",
            "Epoch 85/100\n",
            "18/18 [==============================] - 0s 6ms/step - loss: 106.6154 - mae: 106.6154 - val_loss: 574.2831 - val_mae: 574.2831\n",
            "Epoch 86/100\n",
            "18/18 [==============================] - 0s 6ms/step - loss: 108.4299 - mae: 108.4299 - val_loss: 583.3528 - val_mae: 583.3528\n",
            "Epoch 87/100\n",
            "18/18 [==============================] - 0s 5ms/step - loss: 105.7481 - mae: 105.7481 - val_loss: 593.0125 - val_mae: 593.0125\n",
            "Epoch 88/100\n",
            " 1/18 [>.............................] - ETA: 0s - loss: 133.8444 - mae: 133.8444INFO:tensorflow:Assets written to: model_experiments\\model_1_dense\\assets\n",
            "18/18 [==============================] - 1s 74ms/step - loss: 107.2604 - mae: 107.2604 - val_loss: 571.7660 - val_mae: 571.7660\n",
            "Epoch 89/100\n",
            " 1/18 [>.............................] - ETA: 0s - loss: 102.2973 - mae: 102.2973INFO:tensorflow:Assets written to: model_experiments\\model_1_dense\\assets\n",
            "18/18 [==============================] - 1s 38ms/step - loss: 106.7823 - mae: 106.7823 - val_loss: 568.6370 - val_mae: 568.6370\n",
            "Epoch 90/100\n",
            "18/18 [==============================] - 0s 6ms/step - loss: 105.8682 - mae: 105.8682 - val_loss: 602.9686 - val_mae: 602.9686\n",
            "Epoch 91/100\n",
            "18/18 [==============================] - 0s 7ms/step - loss: 110.6365 - mae: 110.6365 - val_loss: 605.6950 - val_mae: 605.6950\n",
            "Epoch 92/100\n",
            "18/18 [==============================] - 0s 5ms/step - loss: 109.4669 - mae: 109.4669 - val_loss: 572.4371 - val_mae: 572.4371\n",
            "Epoch 93/100\n",
            "18/18 [==============================] - 0s 5ms/step - loss: 113.0063 - mae: 113.0063 - val_loss: 617.3006 - val_mae: 617.3006\n",
            "Epoch 94/100\n",
            "18/18 [==============================] - 0s 6ms/step - loss: 112.4903 - mae: 112.4903 - val_loss: 599.9799 - val_mae: 599.9799\n",
            "Epoch 95/100\n",
            "18/18 [==============================] - 0s 6ms/step - loss: 106.0053 - mae: 106.0053 - val_loss: 570.6210 - val_mae: 570.6210\n",
            "Epoch 96/100\n",
            "18/18 [==============================] - 0s 6ms/step - loss: 109.5910 - mae: 109.5910 - val_loss: 676.3400 - val_mae: 676.3400\n",
            "Epoch 97/100\n",
            "18/18 [==============================] - 0s 7ms/step - loss: 110.2213 - mae: 110.2213 - val_loss: 574.2986 - val_mae: 574.2986\n",
            "Epoch 98/100\n",
            "18/18 [==============================] - 0s 7ms/step - loss: 106.7290 - mae: 106.7290 - val_loss: 576.7735 - val_mae: 576.7735\n",
            "Epoch 99/100\n",
            "15/18 [========================>.....] - ETA: 0s - loss: 104.9188 - mae: 104.9188INFO:tensorflow:Assets written to: model_experiments\\model_1_dense\\assets\n",
            "18/18 [==============================] - 1s 55ms/step - loss: 106.9889 - mae: 106.9889 - val_loss: 568.5499 - val_mae: 568.5499\n",
            "Epoch 100/100\n",
            "18/18 [==============================] - 0s 6ms/step - loss: 117.7622 - mae: 117.7622 - val_loss: 662.5317 - val_mae: 662.5317\n"
          ]
        },
        {
          "data": {
            "text/plain": [
              "<keras.callbacks.History at 0x13d3820d630>"
            ]
          },
          "execution_count": 39,
          "metadata": {},
          "output_type": "execute_result"
        }
      ],
      "source": [
        "import tensorflow as tf\n",
        "from keras import layers\n",
        "\n",
        "# Set random seed for as reproducible results as possible\n",
        "tf.random.set_seed(42)\n",
        "\n",
        "# Construct model\n",
        "model_1 = tf.keras.Sequential([\n",
        "  layers.Dense(128, activation=\"relu\"),\n",
        "  layers.Dense(HORIZON, activation=\"linear\") # linear activation is the same as having no activation                        \n",
        "], name=\"model_1_dense\") # give the model a name so we can save it\n",
        "\n",
        "# Compile model\n",
        "model_1.compile(loss=\"mae\",\n",
        "                optimizer=tf.keras.optimizers.Adam(),\n",
        "                metrics=[\"mae\"]) # we don't necessarily need this when the loss function is already MAE\n",
        "\n",
        "# Fit model\n",
        "model_1.fit(x=train_windows, # train windows of 7 timesteps of Bitcoin prices\n",
        "            y=train_labels, # horizon value of 1 (using the previous 7 timesteps to predict next day)\n",
        "            epochs=100,\n",
        "            verbose=1,\n",
        "            batch_size=128,\n",
        "            validation_data=(test_windows, test_labels),\n",
        "            callbacks=[create_model_checkpoint(model_name=model_1.name)]) # create ModelCheckpoint callback to save best model"
      ]
    },
    {
      "cell_type": "code",
      "execution_count": 40,
      "metadata": {
        "colab": {
          "base_uri": "https://localhost:8080/"
        },
        "id": "N1DbcEZBY_Bt",
        "outputId": "2d353c8c-075c-4149-bd68-9fb6b25a44d4"
      },
      "outputs": [
        {
          "name": "stdout",
          "output_type": "stream",
          "text": [
            "18/18 [==============================] - 0s 1ms/step - loss: 662.5316 - mae: 662.5316\n"
          ]
        },
        {
          "data": {
            "text/plain": [
              "[662.5316162109375, 662.5316162109375]"
            ]
          },
          "execution_count": 40,
          "metadata": {},
          "output_type": "execute_result"
        }
      ],
      "source": [
        "# Evaluate model on test data\n",
        "model_1.evaluate(test_windows, test_labels)"
      ]
    },
    {
      "cell_type": "code",
      "execution_count": 41,
      "metadata": {
        "colab": {
          "base_uri": "https://localhost:8080/"
        },
        "id": "FXey-AX-XZPK",
        "outputId": "98d82f0b-ce9e-4326-f456-f1e49f5e8483"
      },
      "outputs": [
        {
          "name": "stdout",
          "output_type": "stream",
          "text": [
            "18/18 [==============================] - 0s 983us/step - loss: 568.5499 - mae: 568.5499\n"
          ]
        },
        {
          "data": {
            "text/plain": [
              "[568.5499267578125, 568.5499267578125]"
            ]
          },
          "execution_count": 41,
          "metadata": {},
          "output_type": "execute_result"
        }
      ],
      "source": [
        "# Load in saved best performing model_1 and evaluate on test data\n",
        "model_1 = tf.keras.models.load_model(\"model_experiments/model_1_dense\")\n",
        "model_1.evaluate(test_windows, test_labels)"
      ]
    },
    {
      "cell_type": "markdown",
      "metadata": {
        "id": "-HfeTX5KhYin"
      },
      "source": [
        "## Making forecasts with a model (on the test dataset)"
      ]
    },
    {
      "cell_type": "code",
      "execution_count": 42,
      "metadata": {
        "id": "hZrExWzyh3ur"
      },
      "outputs": [],
      "source": [
        "def make_preds(model, input_data):\n",
        "  forecast = model.predict(input_data)\n",
        "  return tf.squeeze(forecast) "
      ]
    },
    {
      "cell_type": "code",
      "execution_count": 43,
      "metadata": {
        "colab": {
          "base_uri": "https://localhost:8080/"
        },
        "id": "u1aAKQp6vapw",
        "outputId": "0e3faaae-e3fb-4196-9139-c6c5f5efb9a1"
      },
      "outputs": [
        {
          "data": {
            "text/plain": [
              "(556,\n",
              " <tf.Tensor: shape=(10,), dtype=float32, numpy=\n",
              " array([8874.493, 8789.944, 9040.987, 8804.829, 8741.212, 8749.836,\n",
              "        8705.866, 8513.171, 8478.417, 8536.302], dtype=float32)>)"
            ]
          },
          "execution_count": 43,
          "metadata": {},
          "output_type": "execute_result"
        }
      ],
      "source": [
        "model_1_preds = make_preds(model_1, test_windows)\n",
        "len(model_1_preds), model_1_preds[:10]"
      ]
    },
    {
      "cell_type": "code",
      "execution_count": 44,
      "metadata": {
        "colab": {
          "base_uri": "https://localhost:8080/"
        },
        "id": "eHak7Jqd9aXv",
        "outputId": "6969b6f5-1922-46c4-934d-48a24c452807"
      },
      "outputs": [
        {
          "data": {
            "text/plain": [
              "{'mae': 568.5498,\n",
              " 'mse': 1172587.9,\n",
              " 'rmse': 1082.861,\n",
              " 'mape': 2.5492294,\n",
              " 'mase': 0.99878454}"
            ]
          },
          "execution_count": 44,
          "metadata": {},
          "output_type": "execute_result"
        }
      ],
      "source": [
        "model_1_results = evaluate_preds(y_true=tf.squeeze(test_labels), \n",
        "                                 y_pred=model_1_preds)\n",
        "model_1_results"
      ]
    },
    {
      "cell_type": "code",
      "execution_count": 45,
      "metadata": {
        "colab": {
          "base_uri": "https://localhost:8080/"
        },
        "id": "5WePaRbqxTXL",
        "outputId": "c80b91ed-3c80-42aa-ade9-48cd89e98dd9"
      },
      "outputs": [
        {
          "data": {
            "text/plain": [
              "{'mae': 567.9802,\n",
              " 'mse': 1147547.0,\n",
              " 'rmse': 1071.2362,\n",
              " 'mape': 2.5165248,\n",
              " 'mase': 0.99957}"
            ]
          },
          "execution_count": 45,
          "metadata": {},
          "output_type": "execute_result"
        }
      ],
      "source": [
        "naive_results"
      ]
    },
    {
      "cell_type": "code",
      "execution_count": 46,
      "metadata": {
        "colab": {
          "base_uri": "https://localhost:8080/",
          "height": 442
        },
        "id": "Wgxoqg_tIhFJ",
        "outputId": "018c00f6-e663-49d6-d046-177e200ccbfb"
      },
      "outputs": [
        {
          "data": {
            "image/png": "[encoded data removed]",
            "text/plain": [
              "<Figure size 720x504 with 1 Axes>"
            ]
          },
          "metadata": {
            "needs_background": "light"
          },
          "output_type": "display_data"
        }
      ],
      "source": [
        "offset = 300\n",
        "plt.figure(figsize=(10, 7))\n",
        "\n",
        "plot_time_series(timesteps=X_test[-len(test_windows):], values=test_labels[:, 0], start=offset, label=\"Test_data\")\n",
        "plot_time_series(timesteps=X_test[-len(test_windows):], values=model_1_preds, start=offset, format=\"-\", label=\"model_1_preds\")"
      ]
    },
    {
      "cell_type": "markdown",
      "metadata": {
        "id": "fr18ffVq4i6m"
      },
      "source": [
        "## Model 2: Dense (window = 30, horizon = 1)"
      ]
    },
    {
      "cell_type": "code",
      "execution_count": 47,
      "metadata": {
        "id": "Vz0eMi7F4wpn"
      },
      "outputs": [],
      "source": [
        "HORIZON = 1 # predict one step at a time\n",
        "WINDOW_SIZE = 30 # use 30 timesteps in the past"
      ]
    },
    {
      "cell_type": "code",
      "execution_count": 48,
      "metadata": {
        "colab": {
          "base_uri": "https://localhost:8080/"
        },
        "id": "1HlYaAxr6UoC",
        "outputId": "7fdc8064-6fe8-4739-919d-dc0c06de8666"
      },
      "outputs": [
        {
          "data": {
            "text/plain": [
              "(2757, 2757)"
            ]
          },
          "execution_count": 48,
          "metadata": {},
          "output_type": "execute_result"
        }
      ],
      "source": [
        "full_windows, full_labels = make_windows(prices, window_size=WINDOW_SIZE, horizon=HORIZON)\n",
        "len(full_windows), len(full_labels)"
      ]
    },
    {
      "cell_type": "code",
      "execution_count": 49,
      "metadata": {
        "colab": {
          "base_uri": "https://localhost:8080/"
        },
        "id": "jWxYZtOuelzO",
        "outputId": "14a862eb-c90e-4905-fbae-640d890059b7"
      },
      "outputs": [
        {
          "data": {
            "text/plain": [
              "(2205, 552, 2205, 552)"
            ]
          },
          "execution_count": 49,
          "metadata": {},
          "output_type": "execute_result"
        }
      ],
      "source": [
        "# Make train and testing windows\n",
        "train_windows, test_windows, train_labels, test_labels = make_train_test_splits(windows=full_windows, labels=full_labels)\n",
        "len(train_windows), len(test_windows), len(train_labels), len(test_labels)"
      ]
    },
    {
      "cell_type": "code",
      "execution_count": 50,
      "metadata": {
        "colab": {
          "base_uri": "https://localhost:8080/"
        },
        "id": "b_oz5aJE6UwN",
        "outputId": "e9f156de-6b38-44b4-e319-0d5d1be0ffa4"
      },
      "outputs": [
        {
          "name": "stdout",
          "output_type": "stream",
          "text": [
            "INFO:tensorflow:Assets written to: model_experiments\\model_2_dense\\assets\n",
            "INFO:tensorflow:Assets written to: model_experiments\\model_2_dense\\assets\n",
            "INFO:tensorflow:Assets written to: model_experiments\\model_2_dense\\assets\n",
            "INFO:tensorflow:Assets written to: model_experiments\\model_2_dense\\assets\n",
            "INFO:tensorflow:Assets written to: model_experiments\\model_2_dense\\assets\n",
            "INFO:tensorflow:Assets written to: model_experiments\\model_2_dense\\assets\n",
            "INFO:tensorflow:Assets written to: model_experiments\\model_2_dense\\assets\n",
            "INFO:tensorflow:Assets written to: model_experiments\\model_2_dense\\assets\n",
            "INFO:tensorflow:Assets written to: model_experiments\\model_2_dense\\assets\n",
            "INFO:tensorflow:Assets written to: model_experiments\\model_2_dense\\assets\n",
            "INFO:tensorflow:Assets written to: model_experiments\\model_2_dense\\assets\n",
            "INFO:tensorflow:Assets written to: model_experiments\\model_2_dense\\assets\n",
            "INFO:tensorflow:Assets written to: model_experiments\\model_2_dense\\assets\n",
            "INFO:tensorflow:Assets written to: model_experiments\\model_2_dense\\assets\n",
            "INFO:tensorflow:Assets written to: model_experiments\\model_2_dense\\assets\n",
            "INFO:tensorflow:Assets written to: model_experiments\\model_2_dense\\assets\n",
            "INFO:tensorflow:Assets written to: model_experiments\\model_2_dense\\assets\n",
            "INFO:tensorflow:Assets written to: model_experiments\\model_2_dense\\assets\n",
            "INFO:tensorflow:Assets written to: model_experiments\\model_2_dense\\assets\n",
            "INFO:tensorflow:Assets written to: model_experiments\\model_2_dense\\assets\n",
            "INFO:tensorflow:Assets written to: model_experiments\\model_2_dense\\assets\n",
            "INFO:tensorflow:Assets written to: model_experiments\\model_2_dense\\assets\n",
            "INFO:tensorflow:Assets written to: model_experiments\\model_2_dense\\assets\n",
            "INFO:tensorflow:Assets written to: model_experiments\\model_2_dense\\assets\n",
            "INFO:tensorflow:Assets written to: model_experiments\\model_2_dense\\assets\n",
            "INFO:tensorflow:Assets written to: model_experiments\\model_2_dense\\assets\n",
            "INFO:tensorflow:Assets written to: model_experiments\\model_2_dense\\assets\n",
            "INFO:tensorflow:Assets written to: model_experiments\\model_2_dense\\assets\n",
            "INFO:tensorflow:Assets written to: model_experiments\\model_2_dense\\assets\n",
            "INFO:tensorflow:Assets written to: model_experiments\\model_2_dense\\assets\n"
          ]
        },
        {
          "data": {
            "text/plain": [
              "<keras.callbacks.History at 0x13d3b99afb0>"
            ]
          },
          "execution_count": 50,
          "metadata": {},
          "output_type": "execute_result"
        }
      ],
      "source": [
        "tf.random.set_seed(42)\n",
        "\n",
        "# Create model (same model as model 1 but data input will be different)\n",
        "model_2 = tf.keras.Sequential([\n",
        "  layers.Dense(128, activation=\"relu\"),\n",
        "  layers.Dense(HORIZON) # need to predict horizon number of steps into the future\n",
        "], name=\"model_2_dense\")\n",
        "\n",
        "model_2.compile(loss=\"mae\",\n",
        "                optimizer=tf.keras.optimizers.Adam())\n",
        "\n",
        "model_2.fit(train_windows,\n",
        "            train_labels,\n",
        "            epochs=100,\n",
        "            batch_size=128,\n",
        "            verbose=0,\n",
        "            validation_data=(test_windows, test_labels),\n",
        "            callbacks=[create_model_checkpoint(model_name=model_2.name)])"
      ]
    },
    {
      "cell_type": "code",
      "execution_count": 51,
      "metadata": {
        "colab": {
          "base_uri": "https://localhost:8080/"
        },
        "id": "W42Fa-aO8rhg",
        "outputId": "06a8f364-fc40-4216-aa7f-913c2689e589"
      },
      "outputs": [
        {
          "name": "stdout",
          "output_type": "stream",
          "text": [
            "18/18 [==============================] - 0s 1ms/step - loss: 658.0291\n"
          ]
        },
        {
          "data": {
            "text/plain": [
              "658.0291137695312"
            ]
          },
          "execution_count": 51,
          "metadata": {},
          "output_type": "execute_result"
        }
      ],
      "source": [
        "# Evaluate model 2 preds\n",
        "model_2.evaluate(test_windows, test_labels)"
      ]
    },
    {
      "cell_type": "code",
      "execution_count": 52,
      "metadata": {
        "colab": {
          "base_uri": "https://localhost:8080/"
        },
        "id": "c_hG89F5YV4i",
        "outputId": "027e0c90-f19f-4478-f633-1a541ca73e39"
      },
      "outputs": [
        {
          "name": "stdout",
          "output_type": "stream",
          "text": [
            "18/18 [==============================] - 0s 1ms/step - loss: 608.8481\n"
          ]
        },
        {
          "data": {
            "text/plain": [
              "608.8480834960938"
            ]
          },
          "execution_count": 52,
          "metadata": {},
          "output_type": "execute_result"
        }
      ],
      "source": [
        "# Load in best performing model\n",
        "model_2 = tf.keras.models.load_model(\"model_experiments/model_2_dense/\")\n",
        "model_2.evaluate(test_windows, test_labels)"
      ]
    },
    {
      "cell_type": "code",
      "execution_count": 53,
      "metadata": {
        "id": "TPfvPgkUknY5"
      },
      "outputs": [],
      "source": [
        "# Get forecast predictions\n",
        "model_2_preds = make_preds(model_2,\n",
        "                           input_data=test_windows)"
      ]
    },
    {
      "cell_type": "code",
      "execution_count": 54,
      "metadata": {
        "colab": {
          "base_uri": "https://localhost:8080/"
        },
        "id": "dy7XZx7FllHX",
        "outputId": "f08daef8-841a-4c58-c8a6-da36b98ff47a"
      },
      "outputs": [
        {
          "data": {
            "text/plain": [
              "{'mae': 608.8481,\n",
              " 'mse': 1284314.5,\n",
              " 'rmse': 1133.276,\n",
              " 'mape': 2.7680664,\n",
              " 'mase': 1.0642724}"
            ]
          },
          "execution_count": 54,
          "metadata": {},
          "output_type": "execute_result"
        }
      ],
      "source": [
        "model_2_results = evaluate_preds(y_true=tf.squeeze(test_labels), \n",
        "                                 y_pred=model_2_preds)\n",
        "model_2_results"
      ]
    },
    {
      "cell_type": "code",
      "execution_count": 55,
      "metadata": {
        "colab": {
          "base_uri": "https://localhost:8080/",
          "height": 442
        },
        "id": "jHh_qtXflx7Z",
        "outputId": "b5329370-f1c8-4980-b612-ed904880c16f"
      },
      "outputs": [
        {
          "data": {
            "image/png": "[encoded data removed]",
            "text/plain": [
              "<Figure size 720x504 with 1 Axes>"
            ]
          },
          "metadata": {
            "needs_background": "light"
          },
          "output_type": "display_data"
        }
      ],
      "source": [
        "offset = 300\n",
        "plt.figure(figsize=(10, 7))\n",
        "plot_time_series(timesteps=X_test[-len(test_windows):], values=test_labels[:, 0], start=offset, label=\"test_data\")\n",
        "plot_time_series(timesteps=X_test[-len(test_windows):], values=model_2_preds, start=offset, format=\"-\", label=\"model_2_preds\") "
      ]
    },
    {
      "cell_type": "markdown",
      "metadata": {
        "id": "Sls7mUaq9lMl"
      },
      "source": [
        "## Model 3: Dense (window = 30, horizon = 7)"
      ]
    },
    {
      "cell_type": "code",
      "execution_count": 56,
      "metadata": {
        "colab": {
          "base_uri": "https://localhost:8080/"
        },
        "id": "8PtmayTM98Mb",
        "outputId": "3bbaec11-0558-4181-d906-258ece66a3a3"
      },
      "outputs": [
        {
          "data": {
            "text/plain": [
              "(2751, 2751)"
            ]
          },
          "execution_count": 56,
          "metadata": {},
          "output_type": "execute_result"
        }
      ],
      "source": [
        "HORIZON = 7\n",
        "WINDOW_SIZE = 30\n",
        "\n",
        "full_windows, full_labels = make_windows(prices, window_size=WINDOW_SIZE, horizon=HORIZON)\n",
        "len(full_windows), len(full_labels)"
      ]
    },
    {
      "cell_type": "code",
      "execution_count": 57,
      "metadata": {
        "colab": {
          "base_uri": "https://localhost:8080/"
        },
        "id": "E8xgoKunZ__e",
        "outputId": "f6588b6d-2d90-44db-8062-ca1ffe03bfc8"
      },
      "outputs": [
        {
          "data": {
            "text/plain": [
              "(2200, 551, 2200, 551)"
            ]
          },
          "execution_count": 57,
          "metadata": {},
          "output_type": "execute_result"
        }
      ],
      "source": [
        "train_windows, test_windows, train_labels, test_labels = make_train_test_splits(windows=full_windows, labels=full_labels, test_split=0.2)\n",
        "len(train_windows), len(test_windows), len(train_labels), len(test_labels)"
      ]
    },
    {
      "cell_type": "code",
      "execution_count": 58,
      "metadata": {
        "colab": {
          "base_uri": "https://localhost:8080/"
        },
        "id": "hxHh7xS2-CoH",
        "outputId": "587403ef-8c0d-4c6d-928a-a6dddecc1794"
      },
      "outputs": [
        {
          "name": "stdout",
          "output_type": "stream",
          "text": [
            "INFO:tensorflow:Assets written to: model_experiments\\model_3_dense\\assets\n",
            "INFO:tensorflow:Assets written to: model_experiments\\model_3_dense\\assets\n",
            "INFO:tensorflow:Assets written to: model_experiments\\model_3_dense\\assets\n",
            "INFO:tensorflow:Assets written to: model_experiments\\model_3_dense\\assets\n",
            "INFO:tensorflow:Assets written to: model_experiments\\model_3_dense\\assets\n",
            "INFO:tensorflow:Assets written to: model_experiments\\model_3_dense\\assets\n",
            "INFO:tensorflow:Assets written to: model_experiments\\model_3_dense\\assets\n",
            "INFO:tensorflow:Assets written to: model_experiments\\model_3_dense\\assets\n",
            "INFO:tensorflow:Assets written to: model_experiments\\model_3_dense\\assets\n",
            "INFO:tensorflow:Assets written to: model_experiments\\model_3_dense\\assets\n",
            "INFO:tensorflow:Assets written to: model_experiments\\model_3_dense\\assets\n",
            "INFO:tensorflow:Assets written to: model_experiments\\model_3_dense\\assets\n",
            "INFO:tensorflow:Assets written to: model_experiments\\model_3_dense\\assets\n",
            "INFO:tensorflow:Assets written to: model_experiments\\model_3_dense\\assets\n",
            "INFO:tensorflow:Assets written to: model_experiments\\model_3_dense\\assets\n",
            "INFO:tensorflow:Assets written to: model_experiments\\model_3_dense\\assets\n",
            "INFO:tensorflow:Assets written to: model_experiments\\model_3_dense\\assets\n",
            "INFO:tensorflow:Assets written to: model_experiments\\model_3_dense\\assets\n",
            "INFO:tensorflow:Assets written to: model_experiments\\model_3_dense\\assets\n",
            "INFO:tensorflow:Assets written to: model_experiments\\model_3_dense\\assets\n",
            "INFO:tensorflow:Assets written to: model_experiments\\model_3_dense\\assets\n"
          ]
        },
        {
          "data": {
            "text/plain": [
              "<keras.callbacks.History at 0x13d3dcb5630>"
            ]
          },
          "execution_count": 58,
          "metadata": {},
          "output_type": "execute_result"
        }
      ],
      "source": [
        "tf.random.set_seed(42)\n",
        "\n",
        "# Create model (same as model_1 except with different data input size)\n",
        "model_3 = tf.keras.Sequential([\n",
        "  layers.Dense(128, activation=\"relu\"),\n",
        "  layers.Dense(HORIZON)\n",
        "], name=\"model_3_dense\")\n",
        "\n",
        "model_3.compile(loss=\"mae\",\n",
        "                optimizer=tf.keras.optimizers.Adam())\n",
        "\n",
        "model_3.fit(train_windows,\n",
        "            train_labels,\n",
        "            batch_size=128,\n",
        "            epochs=100,\n",
        "            verbose=0,\n",
        "            validation_data=(test_windows, test_labels),\n",
        "            callbacks=[create_model_checkpoint(model_name=model_3.name)])"
      ]
    },
    {
      "cell_type": "code",
      "execution_count": 59,
      "metadata": {
        "colab": {
          "base_uri": "https://localhost:8080/"
        },
        "id": "Pd-8pbfh-DDI",
        "outputId": "ad359823-115b-4f42-f5da-bc5c2116951f"
      },
      "outputs": [
        {
          "name": "stdout",
          "output_type": "stream",
          "text": [
            "18/18 [==============================] - 0s 2ms/step - loss: 1340.7281\n"
          ]
        },
        {
          "data": {
            "text/plain": [
              "1340.7281494140625"
            ]
          },
          "execution_count": 59,
          "metadata": {},
          "output_type": "execute_result"
        }
      ],
      "source": [
        "# How did our model with a larger window size and horizon go?\n",
        "model_3.evaluate(test_windows, test_labels)"
      ]
    },
    {
      "cell_type": "code",
      "execution_count": 60,
      "metadata": {
        "colab": {
          "base_uri": "https://localhost:8080/"
        },
        "id": "XsltcXHYSrkX",
        "outputId": "ca492549-6b42-4f67-c84b-37a77b742732"
      },
      "outputs": [
        {
          "name": "stdout",
          "output_type": "stream",
          "text": [
            "18/18 [==============================] - 0s 1ms/step - loss: 1234.2446\n"
          ]
        },
        {
          "data": {
            "text/plain": [
              "1234.24462890625"
            ]
          },
          "execution_count": 60,
          "metadata": {},
          "output_type": "execute_result"
        }
      ],
      "source": [
        "model_3 = tf.keras.models.load_model(\"model_experiments/model_3_dense/\")\n",
        "model_3.evaluate(test_windows, test_labels)"
      ]
    },
    {
      "cell_type": "code",
      "execution_count": 61,
      "metadata": {
        "colab": {
          "base_uri": "https://localhost:8080/"
        },
        "id": "uKBNVovRpvhd",
        "outputId": "4adc4cf3-362d-468b-9664-f63c8bbfc493"
      },
      "outputs": [
        {
          "data": {
            "text/plain": [
              "<tf.Tensor: shape=(5, 7), dtype=float32, numpy=\n",
              "array([[9003.453, 9119.054, 9420.311, 9238.845, 9422.83 , 9508.362,\n",
              "        9394.428],\n",
              "       [8732.304, 8906.92 , 9238.808, 8860.409, 9024.207, 9123.871,\n",
              "        9198.526],\n",
              "       [8694.456, 8849.666, 9129.243, 8763.897, 8954.177, 8972.333,\n",
              "        9097.519],\n",
              "       [8881.504, 8850.816, 9043.497, 8927.656, 8962.723, 9137.217,\n",
              "        9088.558],\n",
              "       [8816.98 , 8839.664, 8916.82 , 8846.279, 9130.221, 9219.978,\n",
              "        8989.626]], dtype=float32)>"
            ]
          },
          "execution_count": 61,
          "metadata": {},
          "output_type": "execute_result"
        }
      ],
      "source": [
        "model_3_preds = make_preds(model_3,\n",
        "                           input_data=test_windows)\n",
        "model_3_preds[:5]"
      ]
    },
    {
      "cell_type": "code",
      "execution_count": 62,
      "metadata": {
        "colab": {
          "base_uri": "https://localhost:8080/"
        },
        "id": "P9VQqenW-5to",
        "outputId": "d31e64e1-3827-4e87-e88c-24404164890c"
      },
      "outputs": [
        {
          "data": {
            "text/plain": [
              "{'mae': array([ 507.82535 ,  329.46637 ,  329.24902 ,  357.97266 ,  411.30484 ,\n",
              "         534.5418  ,  550.95746 ,  488.12494 ,  571.9726  ,  680.97766 ,\n",
              "         832.5098  ,  749.4463  ,  723.03503 ,  784.4811  ,  577.76013 ,\n",
              "         264.375   ,  189.52232 ,  181.47678 ,  247.50844 ,  298.8604  ,\n",
              "         133.26096 ,  172.44377 ,  175.17627 ,  227.49973 ,  139.84744 ,\n",
              "         128.80789 ,  140.85135 ,  180.04541 ,  164.06369 ,  208.03377 ,\n",
              "         300.55453 ,  364.22754 ,  262.69174 ,  281.55865 ,  276.28802 ,\n",
              "         250.6693  ,  312.68597 ,  258.40353 ,  182.72287 ,  209.38756 ,\n",
              "         372.62445 ,  144.52379 ,  135.59766 ,  119.52071 ,   83.09333 ,\n",
              "          56.13867 ,   67.699844,  102.461494,  121.71826 ,  156.48305 ,\n",
              "         163.04646 ,  134.90227 ,  175.92815 ,  129.50795 ,  256.68597 ,\n",
              "         357.5632  ,  541.4642  ,  559.4257  ,  532.50385 ,  536.22797 ,\n",
              "         463.11496 ,  271.49213 ,  262.56564 ,  308.8247  ,  460.99713 ,\n",
              "         466.16    ,  510.15933 ,  528.8156  ,  195.6762  ,  229.47209 ,\n",
              "         276.1921  ,  398.55942 ,  493.25446 ,  359.45816 ,  281.54868 ,\n",
              "         310.96234 ,  235.7599  ,  339.32645 ,  463.36594 ,  654.66644 ,\n",
              "         838.8545  ,  677.4169  ,  326.65625 ,  234.97307 ,  137.89592 ,\n",
              "         153.27135 ,  169.10965 ,  242.13477 ,  294.46722 ,  508.7518  ,\n",
              "         420.21387 ,  441.10532 ,  385.1787  ,  271.12137 ,  205.83176 ,\n",
              "         367.98312 ,  335.6995  ,  466.70914 ,  610.863   ,  752.34894 ,\n",
              "         528.8408  ,  355.39188 ,  256.2426  ,  332.78696 ,  411.9149  ,\n",
              "         436.21274 ,  525.2525  ,  608.44196 ,  924.7692  ,  925.58624 ,\n",
              "         886.6776  ,  432.32074 ,  182.08566 ,  132.23256 ,  163.37541 ,\n",
              "         386.33838 ,  344.38248 ,  464.3483  ,  601.25867 , 1021.6088  ,\n",
              "        1562.4503  , 2157.2107  , 1987.3348  , 2160.2625  , 2303.7737  ,\n",
              "        2661.1755  , 1413.7458  ,  740.17035 ,  358.80524 ,  333.66238 ,\n",
              "         502.12466 ,  444.9218  ,  572.0241  ,  355.7627  ,  302.13205 ,\n",
              "         270.08588 ,  415.9647  ,  330.53494 ,  314.47885 ,  326.65555 ,\n",
              "         341.14746 ,  334.03912 ,  227.67836 ,  558.98224 ,  719.46454 ,\n",
              "         488.90472 ,  420.95486 ,  195.80238 ,  319.28488 ,  215.17229 ,\n",
              "         300.20383 ,  490.2767  ,  415.58566 ,  529.28503 ,  428.82666 ,\n",
              "         398.03912 ,  151.32024 ,  193.3623  ,  200.86272 ,  177.01213 ,\n",
              "         271.82025 ,  249.09285 ,  233.62291 ,  254.48354 ,  293.87173 ,\n",
              "         327.28027 ,  493.78705 ,  692.9298  ,  535.4508  ,  610.87354 ,\n",
              "         832.6288  ,  875.5745  ,  995.4287  , 1097.997   ,  567.8874  ,\n",
              "         318.26813 ,  373.98383 ,  368.53403 ,  388.18387 ,  429.90012 ,\n",
              "         563.5972  ,  529.6774  ,  601.1705  ,  914.238   ,  844.0915  ,\n",
              "         309.9915  ,  492.12527 ,  751.49554 ,  411.98492 ,  212.11607 ,\n",
              "         262.65527 ,  271.8436  ,  403.0127  ,  451.92816 ,  634.48016 ,\n",
              "         643.0265  ,  413.11578 ,  226.1635  ,  248.05623 ,  222.31055 ,\n",
              "         464.1932  ,  713.6582  ,  705.0625  ,  498.9555  ,  309.86258 ,\n",
              "         167.80455 ,  217.13908 ,  273.70535 ,  160.92522 ,  163.27539 ,\n",
              "         357.06152 ,  242.72838 ,  300.8807  ,  248.47643 ,  331.46274 ,\n",
              "         403.4502  ,  502.26422 ,  178.06557 ,  190.08147 ,  177.86133 ,\n",
              "         204.8983  ,  192.22084 ,  153.99553 ,  138.67049 ,  180.45871 ,\n",
              "         169.6451  ,  239.61998 ,  290.53293 ,  302.87598 ,  553.9261  ,\n",
              "         272.53348 ,  291.3891  ,  112.436806,  155.89635 ,  124.53181 ,\n",
              "         111.25195 ,  120.51953 ,   83.30399 ,  111.85087 ,  130.55957 ,\n",
              "         123.219444,  162.33357 ,  124.30748 ,  126.93053 ,  190.53181 ,\n",
              "         146.30106 ,  173.09557 ,  141.67313 ,  129.24553 ,  161.53348 ,\n",
              "         148.70271 ,   86.737724,  145.6875  ,  208.56543 ,  243.21805 ,\n",
              "         297.73285 ,  606.8917  ,  712.4146  ,  828.2345  ,  917.9986  ,\n",
              "        1139.2673  , 1354.0763  , 1327.483   ,  601.85156 ,  271.5897  ,\n",
              "         204.934   ,  231.19029 ,  244.76883 ,  320.52554 ,   96.97279 ,\n",
              "          92.74679 ,  261.9608  ,  182.34584 ,  219.31934 ,  249.40193 ,\n",
              "         259.4604  ,  206.91393 ,  247.76828 ,  222.04422 ,  239.81529 ,\n",
              "         258.25082 ,  255.64871 ,  226.66336 ,  355.54688 ,  410.57645 ,\n",
              "         617.71906 ,  363.82574 ,  317.89035 ,  234.78516 ,  319.4834  ,\n",
              "         391.0311  ,  285.40527 ,  148.16992 ,  170.0826  ,  320.53082 ,\n",
              "         459.80972 ,  657.2944  ,  866.0433  , 1081.9368  , 1451.976   ,\n",
              "        1383.3114  ,  945.8955  ,  652.0765  ,  164.08984 ,  158.51256 ,\n",
              "         182.96275 ,  304.80664 ,  432.05496 ,  450.94168 ,  427.34625 ,\n",
              "         448.0399  ,  409.68863 ,  268.8379  ,  235.91365 ,  320.41058 ,\n",
              "         448.08832 ,  422.23047 ,  517.26434 ,  330.60226 ,  139.04506 ,\n",
              "         136.32547 ,  319.3022  ,  180.08957 ,  152.56264 ,  203.88225 ,\n",
              "         268.8566  ,  304.85883 ,  297.28098 ,  216.07185 ,  159.70773 ,\n",
              "         112.84528 ,  253.06334 ,  313.02957 ,  356.3729  ,  517.79816 ,\n",
              "         647.68274 ,  616.2515  ,  534.4421  ,  213.05832 ,  161.35658 ,\n",
              "         239.14621 ,  163.87598 ,  367.10086 ,  545.21625 ,  639.39075 ,\n",
              "         998.9838  , 1185.1383  , 1207.4617  , 1265.5997  ,  534.5579  ,\n",
              "         193.04799 ,  217.55566 ,  196.41447 ,  286.40598 ,  272.44434 ,\n",
              "         193.68555 ,  139.14201 ,  381.05762 ,  599.88824 ,  649.2529  ,\n",
              "         784.16785 , 1161.9104  , 1234.9929  , 1257.0316  ,  453.4619  ,\n",
              "         385.73102 ,  401.40387 ,  241.41713 ,  528.30023 ,  821.26465 ,\n",
              "         812.5942  ,  776.17426 ,  987.42523 , 1256.1292  , 1842.5549  ,\n",
              "        1606.1699  , 1116.4935  ,  595.0137  ,  575.5776  ,  624.214   ,\n",
              "         832.1476  , 1062.3728  , 1103.5994  , 1037.1866  ,  867.25085 ,\n",
              "         635.30945 , 1108.2904  , 1372.844   , 1392.9629  ,  320.8203  ,\n",
              "         265.0268  ,  493.5971  ,  716.541   ,  613.9704  ,  760.96735 ,\n",
              "         674.85156 ,  585.38    ,  484.65207 ,  618.9796  , 1350.6185  ,\n",
              "        2473.5554  , 2779.4895  , 3156.1     , 3430.4675  , 3625.588   ,\n",
              "        2550.602   , 1182.9568  ,  611.35156 ,  739.8903  , 1107.9232  ,\n",
              "        1267.9191  , 1510.1875  , 2505.7346  , 3077.492   , 3086.2227  ,\n",
              "        2561.84    , 2657.1743  , 2927.1968  , 3689.2776  , 3521.6843  ,\n",
              "        4181.112   , 5135.0913  , 4441.55    , 4126.835   , 4392.4287  ,\n",
              "        3314.7761  , 2890.279   , 2463.8694  , 4136.529   , 5631.712   ,\n",
              "        5185.508   , 1443.4933  ,  885.29913 ,  918.2081  , 2519.677   ,\n",
              "        3055.48    , 3202.6692  , 3016.6106  , 3071.9524  , 3300.685   ,\n",
              "        3688.6047  , 1205.2372  , 1069.3416  , 1022.74133 , 1081.4674  ,\n",
              "        1048.9121  , 2105.1902  , 3557.5776  , 3495.069   , 2535.6934  ,\n",
              "        2746.4739  , 3260.1685  , 4898.57    , 5508.845   , 4701.8057  ,\n",
              "        4716.0386  , 5838.7026  , 5911.148   , 8132.9165  , 5100.1133  ,\n",
              "        1495.0586  , 1867.3359  , 1302.8064  , 2303.764   , 2568.9995  ,\n",
              "        3109.0486  , 2775.4878  , 3736.0586  , 2908.9604  , 3577.4878  ,\n",
              "        5531.388   , 6997.489   , 9801.837   , 8853.4     , 5121.1304  ,\n",
              "        3046.6653  , 1704.9095  , 1150.2863  , 2179.7188  , 3963.519   ,\n",
              "        2955.0786  , 2935.418   , 2837.9128  , 3911.1575  , 5437.1406  ,\n",
              "        6434.673   , 6132.768   , 5484.7036  , 4348.21    , 2207.681   ,\n",
              "        1553.9017  , 1484.2422  , 1605.495   , 2677.2974  , 1646.6384  ,\n",
              "        2004.2322  , 2932.5994  , 4149.2646  , 5489.9595  , 5242.7534  ,\n",
              "        5143.6304  , 1229.8756  , 1772.2717  , 2505.3025  , 3911.3276  ,\n",
              "        4461.806   , 2218.2969  , 2587.0078  , 1673.3817  ,  619.39453 ,\n",
              "        1161.4358  , 1301.125   ,  848.4247  ,  769.6992  ,  897.4821  ,\n",
              "         836.8276  , 1193.9681  , 2362.3386  , 3217.766   , 3591.131   ,\n",
              "        2608.444   , 2782.5117  , 3145.5598  , 3659.3354  , 5495.453   ,\n",
              "        7098.856   , 8769.497   , 8542.529   , 6733.6216  , 5152.195   ,\n",
              "        4737.141   , 2537.5981  , 1894.2316  , 2538.2874  , 4085.5168  ,\n",
              "        6234.691   , 4066.5173  , 1728.9186  , 2243.1775  , 2290.452   ,\n",
              "        1220.5195  , 1532.4744  , 1088.1367  , 1844.8314  , 1727.4944  ,\n",
              "        1854.0436  , 2607.5051  , 3829.4644  , 5683.8765  , 6865.2026  ,\n",
              "        8031.687   ], dtype=float32),\n",
              " 'mse': array([2.99667938e+05, 1.57585750e+05, 1.44294281e+05, 1.65741750e+05,\n",
              "        2.45070375e+05, 3.81798844e+05, 4.01517719e+05, 3.49032000e+05,\n",
              "        4.95659844e+05, 6.70525312e+05, 9.03839812e+05, 7.79668312e+05,\n",
              "        6.13814688e+05, 6.52890000e+05, 3.65541312e+05, 1.04159141e+05,\n",
              "        5.67379922e+04, 5.04736953e+04, 1.08305820e+05, 1.09951750e+05,\n",
              "        3.75600820e+04, 4.58465391e+04, 3.82381875e+04, 7.19274219e+04,\n",
              "        3.90281250e+04, 3.11035469e+04, 2.27992910e+04, 4.34079922e+04,\n",
              "        3.63344766e+04, 5.63644648e+04, 1.03358461e+05, 1.53379891e+05,\n",
              "        1.03468172e+05, 1.51244391e+05, 1.45791453e+05, 1.13651500e+05,\n",
              "        1.48798672e+05, 1.28473297e+05, 5.90590625e+04, 6.21391016e+04,\n",
              "        1.73633297e+05, 2.44819590e+04, 2.23763926e+04, 2.53037676e+04,\n",
              "        1.05290703e+04, 4.07604175e+03, 7.50908691e+03, 1.43308545e+04,\n",
              "        2.13541152e+04, 3.37880977e+04, 3.71086680e+04, 2.86055039e+04,\n",
              "        3.61735742e+04, 3.69109336e+04, 1.13654297e+05, 2.12007875e+05,\n",
              "        3.57449156e+05, 3.76644312e+05, 3.38036969e+05, 2.99831000e+05,\n",
              "        2.41091359e+05, 1.53158469e+05, 1.37677406e+05, 1.75706766e+05,\n",
              "        3.11923062e+05, 2.80778906e+05, 3.02260438e+05, 3.14987656e+05,\n",
              "        5.79349961e+04, 6.98234453e+04, 8.75454844e+04, 1.98747344e+05,\n",
              "        2.86382688e+05, 1.84210500e+05, 1.12557586e+05, 1.27367852e+05,\n",
              "        8.31953203e+04, 1.80149031e+05, 3.08798031e+05, 4.89426500e+05,\n",
              "        7.26853688e+05, 4.68325062e+05, 1.30129539e+05, 6.95923203e+04,\n",
              "        2.52294824e+04, 3.26192695e+04, 5.38250117e+04, 8.16368281e+04,\n",
              "        1.18455641e+05, 2.81685562e+05, 2.16557250e+05, 2.08535219e+05,\n",
              "        1.66299891e+05, 9.35771641e+04, 4.66342148e+04, 1.54666859e+05,\n",
              "        1.54967734e+05, 3.06595938e+05, 4.56496938e+05, 6.58960000e+05,\n",
              "        3.25819062e+05, 1.48518000e+05, 9.99598359e+04, 1.47937891e+05,\n",
              "        2.98978281e+05, 3.60630656e+05, 4.14110000e+05, 4.96627750e+05,\n",
              "        1.08880100e+06, 9.81352812e+05, 8.08066562e+05, 2.25326891e+05,\n",
              "        6.40588945e+04, 2.63186426e+04, 3.21007168e+04, 1.82187078e+05,\n",
              "        1.85996109e+05, 2.87909156e+05, 4.08451438e+05, 1.91877275e+06,\n",
              "        3.88790325e+06, 6.26845300e+06, 5.45391650e+06, 6.22665350e+06,\n",
              "        6.25832250e+06, 7.21049200e+06, 2.09412112e+06, 6.85518938e+05,\n",
              "        1.55706547e+05, 1.93799391e+05, 3.51715688e+05, 3.03313812e+05,\n",
              "        3.76212344e+05, 2.05684969e+05, 1.43383844e+05, 9.43111016e+04,\n",
              "        2.01724984e+05, 1.54202953e+05, 1.56921594e+05, 1.94195766e+05,\n",
              "        2.27022984e+05, 1.59127656e+05, 7.06087500e+04, 3.65710594e+05,\n",
              "        5.56965188e+05, 2.97603219e+05, 2.01252922e+05, 4.65866055e+04,\n",
              "        1.41605047e+05, 8.72887344e+04, 1.07913789e+05, 2.93497406e+05,\n",
              "        2.23334125e+05, 3.49966406e+05, 2.27375172e+05, 1.66211578e+05,\n",
              "        3.00613906e+04, 5.09311953e+04, 5.15401289e+04, 4.82674883e+04,\n",
              "        1.06969289e+05, 8.42571094e+04, 6.50101602e+04, 7.37053594e+04,\n",
              "        9.27775859e+04, 1.35546031e+05, 2.73699156e+05, 6.53279688e+05,\n",
              "        5.01437969e+05, 6.28856625e+05, 1.01717544e+06, 9.81762438e+05,\n",
              "        1.10569325e+06, 1.20903088e+06, 3.72181219e+05, 2.12086234e+05,\n",
              "        2.65022344e+05, 2.08982016e+05, 2.14280469e+05, 2.49009234e+05,\n",
              "        3.51049719e+05, 3.67307562e+05, 5.89923812e+05, 9.69568125e+05,\n",
              "        8.21104000e+05, 1.53904859e+05, 2.65322188e+05, 6.16915875e+05,\n",
              "        2.05607219e+05, 6.11395195e+04, 1.25535297e+05, 1.01501742e+05,\n",
              "        2.15381156e+05, 2.53794578e+05, 4.96815594e+05, 4.71872188e+05,\n",
              "        2.16938875e+05, 6.79169453e+04, 7.83043594e+04, 6.69854219e+04,\n",
              "        3.28391844e+05, 6.24852438e+05, 5.39567125e+05, 3.39574719e+05,\n",
              "        1.79582016e+05, 7.23607422e+04, 1.46003609e+05, 8.34994844e+04,\n",
              "        4.17467422e+04, 3.32878633e+04, 1.76682672e+05, 1.13606664e+05,\n",
              "        1.04064188e+05, 9.19435000e+04, 1.46888469e+05, 1.87755609e+05,\n",
              "        2.57756359e+05, 4.68031016e+04, 4.61228008e+04, 4.31295234e+04,\n",
              "        6.15987578e+04, 6.11705859e+04, 4.45278086e+04, 2.91455762e+04,\n",
              "        4.61266484e+04, 4.25213438e+04, 6.85099297e+04, 1.09628336e+05,\n",
              "        1.13366117e+05, 3.18541000e+05, 8.89693594e+04, 1.04486391e+05,\n",
              "        1.93547363e+04, 2.69725352e+04, 2.21095645e+04, 1.74940410e+04,\n",
              "        1.95738750e+04, 9.71120996e+03, 1.73519375e+04, 3.10135352e+04,\n",
              "        2.50388242e+04, 3.44419336e+04, 2.19709219e+04, 2.77672715e+04,\n",
              "        4.48579648e+04, 3.54711289e+04, 4.15543984e+04, 2.61156035e+04,\n",
              "        2.10796699e+04, 3.48183008e+04, 3.30366328e+04, 1.06267412e+04,\n",
              "        2.90601973e+04, 4.99476250e+04, 8.09558672e+04, 1.19399609e+05,\n",
              "        6.36515062e+05, 8.68542188e+05, 1.15438925e+06, 1.26680012e+06,\n",
              "        1.58813925e+06, 2.05532425e+06, 1.80190788e+06, 4.33447281e+05,\n",
              "        1.27470867e+05, 5.58901523e+04, 6.75755391e+04, 8.34149141e+04,\n",
              "        1.47196359e+05, 1.69986426e+04, 1.46823418e+04, 9.33958984e+04,\n",
              "        5.92596016e+04, 1.01428188e+05, 8.75660391e+04, 1.08812805e+05,\n",
              "        7.14358672e+04, 7.75896250e+04, 6.65214531e+04, 1.00387297e+05,\n",
              "        1.16137180e+05, 7.66189922e+04, 8.75972344e+04, 1.47494984e+05,\n",
              "        2.10887266e+05, 4.23490938e+05, 1.80264531e+05, 1.74272609e+05,\n",
              "        7.26384844e+04, 1.35828734e+05, 1.74617531e+05, 9.58040859e+04,\n",
              "        2.90751367e+04, 6.13255703e+04, 1.59918469e+05, 3.29016094e+05,\n",
              "        6.13987875e+05, 1.02072306e+06, 1.48061862e+06, 2.38049350e+06,\n",
              "        2.03534912e+06, 9.66758625e+05, 4.34362562e+05, 5.62001797e+04,\n",
              "        4.20259648e+04, 4.41595547e+04, 1.27314789e+05, 2.36031125e+05,\n",
              "        2.57589969e+05, 2.28680266e+05, 2.45203781e+05, 1.74817500e+05,\n",
              "        9.58178750e+04, 7.68657344e+04, 1.77294516e+05, 3.02570438e+05,\n",
              "        2.33236000e+05, 3.31197844e+05, 1.64339094e+05, 3.26327773e+04,\n",
              "        2.42146074e+04, 1.21713570e+05, 6.04326211e+04, 3.64991133e+04,\n",
              "        5.17157188e+04, 9.01617266e+04, 1.26323125e+05, 1.03641820e+05,\n",
              "        7.93368203e+04, 5.16074688e+04, 1.90693887e+04, 8.67490156e+04,\n",
              "        1.30983211e+05, 2.29081719e+05, 3.37524719e+05, 4.42935594e+05,\n",
              "        4.09344562e+05, 2.97040438e+05, 7.38781641e+04, 4.11011875e+04,\n",
              "        7.89965000e+04, 4.72337734e+04, 3.03545531e+05, 5.87923938e+05,\n",
              "        7.87416562e+05, 1.37996625e+06, 1.61290275e+06, 1.57511338e+06,\n",
              "        1.68600662e+06, 3.23223719e+05, 6.10108828e+04, 7.66091875e+04,\n",
              "        5.42326523e+04, 1.06027250e+05, 1.21190977e+05, 5.78705820e+04,\n",
              "        2.99458652e+04, 4.09438062e+05, 7.71492438e+05, 7.88704188e+05,\n",
              "        1.06986738e+06, 1.58349462e+06, 1.63270825e+06, 1.70348375e+06,\n",
              "        3.83078469e+05, 2.18189328e+05, 2.03437203e+05, 9.09063906e+04,\n",
              "        3.66511281e+05, 9.32407438e+05, 1.01552669e+06, 8.76482938e+05,\n",
              "        1.41236425e+06, 2.00404100e+06, 3.65652400e+06, 2.68246650e+06,\n",
              "        1.39702288e+06, 4.19450594e+05, 4.14533000e+05, 9.47567312e+05,\n",
              "        1.35998112e+06, 1.74800088e+06, 1.81838475e+06, 1.86120512e+06,\n",
              "        1.27226675e+06, 5.12090781e+05, 1.55962712e+06, 2.02344225e+06,\n",
              "        2.22419700e+06, 1.59253359e+05, 9.69347969e+04, 3.07777344e+05,\n",
              "        6.69846312e+05, 5.80414688e+05, 7.50399688e+05, 5.62344875e+05,\n",
              "        5.15561062e+05, 4.15706594e+05, 7.69894688e+05, 3.62567875e+06,\n",
              "        8.32132300e+06, 1.09642480e+07, 1.29339180e+07, 1.36145700e+07,\n",
              "        1.35494380e+07, 6.61390300e+06, 1.58605775e+06, 7.77105562e+05,\n",
              "        1.08990912e+06, 1.70381725e+06, 2.28959475e+06, 3.46251750e+06,\n",
              "        7.88820800e+06, 1.08153330e+07, 1.05930530e+07, 1.01161690e+07,\n",
              "        1.14655890e+07, 1.17927440e+07, 1.74242200e+07, 1.79016500e+07,\n",
              "        2.69104140e+07, 3.72471800e+07, 3.00556020e+07, 2.14708340e+07,\n",
              "        2.44696320e+07, 1.51820950e+07, 9.61136600e+06, 9.31705100e+06,\n",
              "        2.19563060e+07, 3.55580720e+07, 2.83176640e+07, 2.59081525e+06,\n",
              "        1.72043862e+06, 1.26087875e+06, 9.01692100e+06, 1.41592990e+07,\n",
              "        1.51755370e+07, 1.42405680e+07, 1.09842430e+07, 1.32725870e+07,\n",
              "        1.49161570e+07, 2.04487288e+06, 2.10064075e+06, 1.88530862e+06,\n",
              "        1.65492512e+06, 1.73511425e+06, 5.63466300e+06, 1.45038770e+07,\n",
              "        1.52931930e+07, 9.33821100e+06, 1.07886340e+07, 1.30467590e+07,\n",
              "        3.12126540e+07, 4.42648840e+07, 3.44623480e+07, 3.44444520e+07,\n",
              "        4.44522160e+07, 4.12579960e+07, 6.75760720e+07, 2.74099620e+07,\n",
              "        3.27738050e+06, 5.92748500e+06, 3.46518400e+06, 9.57867000e+06,\n",
              "        9.70320600e+06, 1.50749260e+07, 1.08770610e+07, 1.59214450e+07,\n",
              "        1.12895200e+07, 1.40961900e+07, 4.41498440e+07, 6.19659400e+07,\n",
              "        1.06578008e+08, 8.10852080e+07, 3.03504660e+07, 1.35029570e+07,\n",
              "        4.75519250e+06, 1.74107825e+06, 6.72881850e+06, 1.62609230e+07,\n",
              "        1.14865710e+07, 1.21118370e+07, 1.70810780e+07, 2.41967080e+07,\n",
              "        3.78861400e+07, 5.14232320e+07, 4.59365960e+07, 3.31077580e+07,\n",
              "        2.11524780e+07, 7.92089700e+06, 3.55945150e+06, 4.11425725e+06,\n",
              "        3.12260925e+06, 7.98540250e+06, 7.38406400e+06, 7.00830800e+06,\n",
              "        1.48629900e+07, 2.64987220e+07, 3.91941480e+07, 3.20511780e+07,\n",
              "        2.85467940e+07, 3.33160250e+06, 4.14251550e+06, 8.46051300e+06,\n",
              "        1.70970680e+07, 2.11457000e+07, 5.72952100e+06, 7.13551450e+06,\n",
              "        3.44800125e+06, 5.70813438e+05, 1.76830112e+06, 2.27791600e+06,\n",
              "        8.59888125e+05, 7.34854562e+05, 1.64414012e+06, 1.57773238e+06,\n",
              "        2.50275375e+06, 7.71837500e+06, 1.32032850e+07, 1.58867020e+07,\n",
              "        8.32411200e+06, 9.84956700e+06, 1.14229230e+07, 1.98975480e+07,\n",
              "        4.16263480e+07, 6.38622920e+07, 9.17103200e+07, 8.35704720e+07,\n",
              "        5.75744760e+07, 3.30382680e+07, 2.69584620e+07, 9.01355700e+06,\n",
              "        5.18203950e+06, 7.99018400e+06, 2.00618420e+07, 4.01538880e+07,\n",
              "        1.88479400e+07, 4.42063450e+06, 5.59575350e+06, 7.01191650e+06,\n",
              "        2.58074000e+06, 4.88285900e+06, 1.97393775e+06, 5.23047550e+06,\n",
              "        5.45320450e+06, 5.86702750e+06, 1.17499270e+07, 2.56090020e+07,\n",
              "        4.74945280e+07, 6.65962360e+07, 8.32206640e+07], dtype=float32),\n",
              " 'rmse': array([  547.4194  ,   396.97067 ,   379.86087 ,   407.11392 ,\n",
              "          495.04587 ,   617.89874 ,   633.65424 ,   590.78937 ,\n",
              "          704.0311  ,   818.85614 ,   950.7049  ,   882.9883  ,\n",
              "          783.46326 ,   808.01605 ,   604.6001  ,   322.73694 ,\n",
              "          238.19739 ,   224.66353 ,   329.0985  ,   331.58975 ,\n",
              "          193.80424 ,   214.11803 ,   195.54587 ,   268.19287 ,\n",
              "          197.55537 ,   176.36197 ,   150.99432 ,   208.34586 ,\n",
              "          190.61604 ,   237.412   ,   321.49408 ,   391.63742 ,\n",
              "          321.66467 ,   388.90152 ,   381.82642 ,   337.1224  ,\n",
              "          385.74432 ,   358.4317  ,   243.02072 ,   249.27715 ,\n",
              "          416.6933  ,   156.46712 ,   149.5874  ,   159.07158 ,\n",
              "          102.61126 ,    63.843884,    86.65498 ,   119.71155 ,\n",
              "          146.13048 ,   183.81537 ,   192.6361  ,   169.13162 ,\n",
              "          190.19351 ,   192.1222  ,   337.12653 ,   460.44308 ,\n",
              "          597.87054 ,   613.7135  ,   581.4094  ,   547.5683  ,\n",
              "          491.01056 ,   391.35464 ,   371.04907 ,   419.17392 ,\n",
              "          558.50073 ,   529.88574 ,   549.78217 ,   561.2376  ,\n",
              "          240.69688 ,   264.24127 ,   295.88086 ,   445.81085 ,\n",
              "          535.14734 ,   429.1975  ,   335.49603 ,   356.88635 ,\n",
              "          288.43597 ,   424.43967 ,   555.696   ,   699.5903  ,\n",
              "          852.5571  ,   684.3428  ,   360.7347  ,   263.80356 ,\n",
              "          158.8379  ,   180.60805 ,   232.00218 ,   285.7216  ,\n",
              "          344.17386 ,   530.74054 ,   465.35715 ,   456.65656 ,\n",
              "          407.79886 ,   305.90384 ,   215.94957 ,   393.27707 ,\n",
              "          393.6594  ,   553.71106 ,   675.64557 ,   811.7634  ,\n",
              "          570.8056  ,   385.3803  ,   316.16425 ,   384.62695 ,\n",
              "          546.78906 ,   600.5253  ,   643.51373 ,   704.71826 ,\n",
              "         1043.4562  ,   990.6325  ,   898.92523 ,   474.6861  ,\n",
              "          253.09857 ,   162.23021 ,   179.16672 ,   426.8338  ,\n",
              "          431.27264 ,   536.57166 ,   639.10205 ,  1385.1978  ,\n",
              "         1971.7767  ,  2503.688   ,  2335.362   ,  2495.3262  ,\n",
              "         2501.664   ,  2685.236   ,  1447.1078  ,   827.9607  ,\n",
              "          394.59668 ,   440.2265  ,   593.0562  ,   550.7393  ,\n",
              "          613.3615  ,   453.52502 ,   378.66055 ,   307.1011  ,\n",
              "          449.138   ,   392.68683 ,   396.1333  ,   440.67645 ,\n",
              "          476.46927 ,   398.9081  ,   265.72308 ,   604.7401  ,\n",
              "          746.30096 ,   545.5302  ,   448.6122  ,   215.83931 ,\n",
              "          376.30444 ,   295.4467  ,   328.50232 ,   541.754   ,\n",
              "          472.5824  ,   591.5796  ,   476.83868 ,   407.69055 ,\n",
              "          173.3822  ,   225.67943 ,   227.0245  ,   219.69862 ,\n",
              "          327.0616  ,   290.27075 ,   254.97092 ,   271.4873  ,\n",
              "          304.59415 ,   368.16577 ,   523.1626  ,   808.25714 ,\n",
              "          708.1229  ,   793.00476 ,  1008.5511  ,   990.83923 ,\n",
              "         1051.5194  ,  1099.5593  ,   610.0665  ,   460.5282  ,\n",
              "          514.80316 ,   457.14548 ,   462.90436 ,   499.00827 ,\n",
              "          592.4945  ,   606.0591  ,   768.06494 ,   984.66644 ,\n",
              "          906.14795 ,   392.30707 ,   515.09436 ,   785.4399  ,\n",
              "          453.43933 ,   247.26408 ,   354.3096  ,   318.59338 ,\n",
              "          464.09177 ,   503.78027 ,   704.8515  ,   686.9295  ,\n",
              "          465.76697 ,   260.60876 ,   279.82916 ,   258.81543 ,\n",
              "          573.0548  ,   790.4761  ,   734.5523  ,   582.7304  ,\n",
              "          423.77118 ,   268.99954 ,   382.1042  ,   288.96277 ,\n",
              "          204.3202  ,   182.44962 ,   420.33636 ,   337.0559  ,\n",
              "          322.5898  ,   303.22186 ,   383.2603  ,   433.30774 ,\n",
              "          507.6971  ,   216.34026 ,   214.76219 ,   207.6765  ,\n",
              "          248.191   ,   247.32689 ,   211.01614 ,   170.72075 ,\n",
              "          214.77115 ,   206.20705 ,   261.74402 ,   331.10168 ,\n",
              "          336.69885 ,   564.39435 ,   298.2773  ,   323.24356 ,\n",
              "          139.1213  ,   164.23317 ,   148.69286 ,   132.26505 ,\n",
              "          139.90668 ,    98.54547 ,   131.72675 ,   176.1066  ,\n",
              "          158.2366  ,   185.58539 ,   148.2259  ,   166.63515 ,\n",
              "          211.79698 ,   188.33781 ,   203.84895 ,   161.60323 ,\n",
              "          145.18839 ,   186.5966  ,   181.75983 ,   103.08608 ,\n",
              "          170.47052 ,   223.48965 ,   284.52744 ,   345.54248 ,\n",
              "          797.819   ,   931.9561  ,  1074.4252  ,  1125.5221  ,\n",
              "         1260.214   ,  1433.6401  ,  1342.3517  ,   658.3671  ,\n",
              "          357.03064 ,   236.41098 ,   259.95294 ,   288.81638 ,\n",
              "          383.66177 ,   130.37885 ,   121.17072 ,   305.60745 ,\n",
              "          243.43292 ,   318.4779  ,   295.91556 ,   329.86786 ,\n",
              "          267.27487 ,   278.54913 ,   257.91754 ,   316.83957 ,\n",
              "          340.78903 ,   276.80136 ,   295.9683  ,   384.05078 ,\n",
              "          459.22464 ,   650.7618  ,   424.57568 ,   417.4597  ,\n",
              "          269.51526 ,   368.5495  ,   417.87256 ,   309.52234 ,\n",
              "          170.51433 ,   247.64    ,   399.89807 ,   573.59924 ,\n",
              "          783.5737  ,  1010.30835 ,  1216.8068  ,  1542.8848  ,\n",
              "         1426.6566  ,   983.23883 ,   659.0619  ,   237.06578 ,\n",
              "          205.00237 ,   210.14174 ,   356.81198 ,   485.83038 ,\n",
              "          507.53323 ,   478.20523 ,   495.18057 ,   418.11182 ,\n",
              "          309.54462 ,   277.2467  ,   421.06357 ,   550.064   ,\n",
              "          482.94513 ,   575.4979  ,   405.38757 ,   180.64545 ,\n",
              "          155.61043 ,   348.8747  ,   245.83046 ,   191.04741 ,\n",
              "          227.4109  ,   300.26944 ,   355.41965 ,   321.9345  ,\n",
              "          281.6679  ,   227.17279 ,   138.09195 ,   294.53186 ,\n",
              "          361.91602 ,   478.6248  ,   580.9688  ,   665.534   ,\n",
              "          639.8004  ,   545.01416 ,   271.80536 ,   202.73427 ,\n",
              "          281.06314 ,   217.33331 ,   550.94965 ,   766.762   ,\n",
              "          887.365   ,  1174.7197  ,  1270.001   ,  1255.0353  ,\n",
              "         1298.4631  ,   568.5277  ,   247.00381 ,   276.7836  ,\n",
              "          232.87906 ,   325.61826 ,   348.12494 ,   240.56306 ,\n",
              "          173.04874 ,   639.8735  ,   878.34644 ,   888.09015 ,\n",
              "         1034.344   ,  1258.3699  ,  1277.7747  ,  1305.1759  ,\n",
              "          618.93335 ,   467.1074  ,   451.04016 ,   301.50687 ,\n",
              "          605.40173 ,   965.6124  ,  1007.73346 ,   936.2066  ,\n",
              "         1188.4293  ,  1415.6416  ,  1912.204   ,  1637.8237  ,\n",
              "         1181.9573  ,   647.65    ,   643.8424  ,   973.4307  ,\n",
              "         1166.1823  ,  1322.1199  ,  1348.475   ,  1364.26    ,\n",
              "         1127.9479  ,   715.60516 ,  1248.8502  ,  1422.4773  ,\n",
              "         1491.3743  ,   399.06558 ,   311.34354 ,   554.77686 ,\n",
              "          818.4413  ,   761.8495  ,   866.2561  ,   749.8966  ,\n",
              "          718.0258  ,   644.7531  ,   877.43646 ,  1904.1216  ,\n",
              "         2884.6704  ,  3311.2307  ,  3596.3755  ,  3689.7922  ,\n",
              "         3680.956   ,  2571.751   ,  1259.3878  ,   881.5359  ,\n",
              "         1043.9872  ,  1305.3036  ,  1513.1406  ,  1860.7839  ,\n",
              "         2808.5955  ,  3288.6675  ,  3254.6973  ,  3180.5923  ,\n",
              "         3386.0874  ,  3434.0564  ,  4174.233   ,  4231.034   ,\n",
              "         5187.5244  ,  6103.047   ,  5482.2983  ,  4633.6636  ,\n",
              "         4946.6787  ,  3896.4207  ,  3100.2205  ,  3052.3845  ,\n",
              "         4685.7554  ,  5963.059   ,  5321.4346  ,  1609.6011  ,\n",
              "         1311.655   ,  1122.8885  ,  3002.8186  ,  3762.8845  ,\n",
              "         3895.5793  ,  3773.6677  ,  3314.2485  ,  3643.1562  ,\n",
              "         3862.144   ,  1429.9905  ,  1449.3588  ,  1373.0654  ,\n",
              "         1286.4388  ,  1317.2373  ,  2373.7444  ,  3808.396   ,\n",
              "         3910.6511  ,  3055.8484  ,  3284.6055  ,  3612.03    ,\n",
              "         5586.8286  ,  6653.1855  ,  5870.464   ,  5868.9395  ,\n",
              "         6667.25    ,  6423.239   ,  8220.467   ,  5235.452   ,\n",
              "         1810.3539  ,  2434.6426  ,  1861.5005  ,  3094.9424  ,\n",
              "         3114.9968  ,  3882.6448  ,  3298.0386  ,  3990.1687  ,\n",
              "         3359.988   ,  3754.4893  ,  6644.5347  ,  7871.844   ,\n",
              "        10323.662   ,  9004.733   ,  5509.126   ,  3674.637   ,\n",
              "         2180.6404  ,  1319.4994  ,  2593.9968  ,  4032.4836  ,\n",
              "         3389.184   ,  3480.2063  ,  4132.9263  ,  4919.0146  ,\n",
              "         6155.172   ,  7170.9995  ,  6777.6543  ,  5753.934   ,\n",
              "         4599.182   ,  2814.4087  ,  1886.6509  ,  2028.3632  ,\n",
              "         1767.0906  ,  2825.8457  ,  2717.3633  ,  2647.321   ,\n",
              "         3855.255   ,  5147.6914  ,  6260.523   ,  5661.3765  ,\n",
              "         5342.92    ,  1825.2678  ,  2035.317   ,  2908.696   ,\n",
              "         4134.8604  ,  4598.4453  ,  2393.6416  ,  2671.2385  ,\n",
              "         1856.8794  ,   755.5219  ,  1329.7748  ,  1509.2767  ,\n",
              "          927.3015  ,   857.2365  ,  1282.2402  ,  1256.0782  ,\n",
              "         1582.0094  ,  2778.1963  ,  3633.6323  ,  3985.813   ,\n",
              "         2885.1538  ,  3138.402   ,  3379.7815  ,  4460.6665  ,\n",
              "         6451.848   ,  7991.3887  ,  9576.551   ,  9141.688   ,\n",
              "         7587.7847  ,  5747.892   ,  5192.154   ,  3002.2585  ,\n",
              "         2276.4094  ,  2826.6912  ,  4479.045   ,  6336.71    ,\n",
              "         4341.4214  ,  2102.5303  ,  2365.5344  ,  2648.0022  ,\n",
              "         1606.4683  ,  2209.7192  ,  1404.969   ,  2287.0232  ,\n",
              "         2335.2097  ,  2422.195   ,  3427.8164  ,  5060.5337  ,\n",
              "         6891.6274  ,  8160.652   ,  9122.536   ], dtype=float32),\n",
              " 'mape': array([ 5.7944064 ,  3.799606  ,  3.8018742 ,  4.177631  ,  4.8700333 ,\n",
              "         6.4098544 ,  6.6762686 ,  6.092624  ,  7.4067593 ,  9.00839   ,\n",
              "        11.244232  , 10.307596  ,  9.983107  , 10.815464  ,  7.995628  ,\n",
              "         3.663832  ,  2.6004138 ,  2.4073322 ,  3.2713614 ,  3.9780219 ,\n",
              "         1.7623354 ,  2.3108509 ,  2.3871171 ,  3.1041672 ,  1.912282  ,\n",
              "         1.7555515 ,  1.9036409 ,  2.444798  ,  2.2318742 ,  2.8557053 ,\n",
              "         4.1658783 ,  5.078464  ,  3.7218385 ,  4.119396  ,  4.04359   ,\n",
              "         3.6558123 ,  4.5382876 ,  3.7575629 ,  2.6609032 ,  2.941434  ,\n",
              "         5.1227484 ,  2.0095572 ,  1.8773675 ,  1.6492637 ,  1.1497457 ,\n",
              "         0.77242583,  0.9343094 ,  1.4104471 ,  1.6796019 ,  2.192912  ,\n",
              "         2.2713    ,  1.8884469 ,  2.4503803 ,  1.7816736 ,  3.365677  ,\n",
              "         4.582027  ,  6.955894  ,  7.083935  ,  6.6742883 ,  6.6934147 ,\n",
              "         5.73102   ,  3.2330024 ,  3.064321  ,  3.560527  ,  5.277211  ,\n",
              "         5.305807  ,  5.801108  ,  6.000041  ,  2.2118964 ,  2.631719  ,\n",
              "         3.1946115 ,  4.6635776 ,  5.8092465 ,  4.247544  ,  3.3271763 ,\n",
              "         3.6548405 ,  2.7152927 ,  3.6973085 ,  4.9903812 ,  7.0576234 ,\n",
              "         9.003897  ,  7.2462254 ,  3.4780986 ,  2.4866862 ,  1.4725326 ,\n",
              "         1.6286337 ,  1.7891612 ,  2.4726605 ,  2.9825032 ,  5.121455  ,\n",
              "         4.16342   ,  4.358965  ,  3.7747355 ,  2.647969  ,  2.02671   ,\n",
              "         3.6435642 ,  3.377678  ,  4.747587  ,  6.242167  ,  7.731606  ,\n",
              "         5.4451556 ,  3.650617  ,  2.6064048 ,  3.467483  ,  4.456073  ,\n",
              "         4.8399534 ,  5.852666  ,  6.8415346 , 10.583731  , 10.590022  ,\n",
              "        10.146577  ,  4.9625597 ,  2.101262  ,  1.4875112 ,  1.832859  ,\n",
              "         4.3841934 ,  4.091936  ,  5.6035724 ,  7.2907248 , 14.853954  ,\n",
              "        24.304104  , 35.408096  , 34.656197  , 39.847263  , 42.805676  ,\n",
              "        49.552486  , 26.21018   , 13.880156  ,  6.493759  ,  5.6890097 ,\n",
              "         8.129547  ,  7.0192404 ,  8.923171  ,  5.3946733 ,  4.73477   ,\n",
              "         4.1619234 ,  6.3337817 ,  5.056898  ,  4.9933505 ,  5.2574267 ,\n",
              "         5.520084  ,  5.328718  ,  3.5425298 ,  8.328347  , 10.51414   ,\n",
              "         7.0139194 ,  5.9857903 ,  2.7254999 ,  4.4335046 ,  3.0432572 ,\n",
              "         4.182249  ,  6.980055  ,  5.975586  ,  7.6997213 ,  6.2316    ,\n",
              "         5.748517  ,  2.1573799 ,  2.7636063 ,  2.8348753 ,  2.503714  ,\n",
              "         3.7941654 ,  3.4447026 ,  3.2124698 ,  3.4956608 ,  4.026974  ,\n",
              "         4.322463  ,  6.486534  ,  8.659308  ,  6.400727  ,  7.1102023 ,\n",
              "         9.545839  ,  9.955631  , 11.276785  , 12.369138  ,  6.2966595 ,\n",
              "         3.368909  ,  3.8738391 ,  3.8249676 ,  4.06447   ,  4.614743  ,\n",
              "         6.041699  ,  5.80799   ,  6.767906  , 10.150754  ,  9.38792   ,\n",
              "         3.438025  ,  5.1714463 ,  7.826595  ,  4.2727795 ,  2.2443538 ,\n",
              "         2.8283694 ,  2.910571  ,  4.3675046 ,  4.9398494 ,  7.028298  ,\n",
              "         7.1224914 ,  4.573134  ,  2.4901237 ,  2.7084632 ,  2.3717148 ,\n",
              "         4.7663417 ,  7.3626175 ,  7.2618303 ,  5.0715575 ,  3.1206262 ,\n",
              "         1.6776237 ,  2.1574092 ,  2.8223276 ,  1.6569797 ,  1.6754445 ,\n",
              "         3.7266142 ,  2.5626247 ,  3.1450648 ,  2.6260226 ,  3.516925  ,\n",
              "         4.2756476 ,  5.330479  ,  1.8917259 ,  2.0212    ,  1.8975453 ,\n",
              "         2.1918855 ,  2.0582566 ,  1.6471018 ,  1.4786146 ,  1.9138035 ,\n",
              "         1.8238114 ,  2.5639818 ,  3.108223  ,  3.2971065 ,  6.047552  ,\n",
              "         2.9811876 ,  3.1918259 ,  1.2332623 ,  1.7040553 ,  1.3630611 ,\n",
              "         1.2148714 ,  1.3185376 ,  0.9049038 ,  1.2108004 ,  1.4041545 ,\n",
              "         1.3230853 ,  1.7479768 ,  1.3343513 ,  1.3614159 ,  2.0620205 ,\n",
              "         1.5884538 ,  1.883624  ,  1.5370858 ,  1.4052638 ,  1.7606976 ,\n",
              "         1.6200588 ,  0.93748206,  1.5489559 ,  2.2092466 ,  2.545469  ,\n",
              "         3.0801167 ,  5.9090505 ,  6.742998  ,  7.610385  ,  8.334745  ,\n",
              "        10.287135  , 12.033107  , 11.762322  ,  5.2998023 ,  2.3697863 ,\n",
              "         1.7852027 ,  2.014148  ,  2.11935   ,  2.822334  ,  0.8360017 ,\n",
              "         0.8013345 ,  2.2442536 ,  1.5783843 ,  1.9059273 ,  2.15114   ,\n",
              "         2.2423944 ,  1.784694  ,  2.10342   ,  1.8472162 ,  1.9847052 ,\n",
              "         2.1399937 ,  2.1506891 ,  1.9022793 ,  2.9904613 ,  3.5095658 ,\n",
              "         5.3140836 ,  3.1517024 ,  2.7762842 ,  2.0455983 ,  2.7923546 ,\n",
              "         3.413793  ,  2.4888208 ,  1.2771406 ,  1.4499092 ,  2.8244312 ,\n",
              "         4.1505384 ,  6.1230373 ,  8.227515  , 10.377879  , 14.078159  ,\n",
              "        13.488589  ,  9.252567  ,  6.3678064 ,  1.6094165 ,  1.5335352 ,\n",
              "         1.7608304 ,  2.888822  ,  4.039588  ,  4.182182  ,  3.9367578 ,\n",
              "         4.10097   ,  3.7584484 ,  2.459668  ,  2.1927395 ,  3.0490897 ,\n",
              "         4.2614403 ,  4.0061393 ,  4.906881  ,  3.1483955 ,  1.3193346 ,\n",
              "         1.2781965 ,  2.9705167 ,  1.6706003 ,  1.4295294 ,  1.912366  ,\n",
              "         2.5256646 ,  2.8683197 ,  2.7989707 ,  2.0387845 ,  1.4989631 ,\n",
              "         1.0419543 ,  2.3107653 ,  2.8200026 ,  3.128279  ,  4.561082  ,\n",
              "         5.704143  ,  5.390038  ,  4.668791  ,  1.8513212 ,  1.4016044 ,\n",
              "         2.094483  ,  1.4298534 ,  2.9801934 ,  4.3002243 ,  4.9480762 ,\n",
              "         7.755285  ,  9.184758  ,  9.293982  ,  9.595268  ,  4.037536  ,\n",
              "         1.4398569 ,  1.6187031 ,  1.4439493 ,  2.096846  ,  1.989167  ,\n",
              "         1.4211495 ,  1.0049767 ,  2.5792866 ,  3.9797459 ,  4.296399  ,\n",
              "         5.1174126 ,  7.655443  ,  8.092807  ,  8.129495  ,  2.8652248 ,\n",
              "         2.469874  ,  2.5120137 ,  1.5049206 ,  3.2489636 ,  4.920114  ,\n",
              "         4.73892   ,  4.4637165 ,  5.557812  ,  6.9570565 , 10.152106  ,\n",
              "         8.772241  ,  6.022229  ,  3.1883602 ,  3.1506023 ,  3.5934825 ,\n",
              "         4.7794704 ,  6.061008  ,  6.2725773 ,  5.9324145 ,  4.950609  ,\n",
              "         3.410099  ,  5.8080964 ,  7.190042  ,  7.2524824 ,  1.6725166 ,\n",
              "         1.3921537 ,  2.618673  ,  3.8361404 ,  3.3284347 ,  4.1051407 ,\n",
              "         3.6339152 ,  3.1566534 ,  2.6267643 ,  3.1190932 ,  6.3541517 ,\n",
              "        11.542471  , 12.425154  , 13.839733  , 14.915636  , 15.663314  ,\n",
              "        10.928888  ,  5.036857  ,  2.5441928 ,  2.991059  ,  4.456272  ,\n",
              "         4.9247484 ,  5.7206893 ,  9.310513  , 11.217678  , 11.014919  ,\n",
              "         8.617478  ,  8.558165  ,  9.371047  , 11.486979  , 10.448765  ,\n",
              "        11.676816  , 13.792551  , 11.4411335 , 10.687006  , 11.282229  ,\n",
              "         8.455187  ,  7.547345  ,  6.8371987 , 11.510175  , 15.694205  ,\n",
              "        14.466913  ,  4.008231  ,  2.365255  ,  2.4817748 ,  7.409452  ,\n",
              "         9.172238  ,  9.792214  ,  9.391773  ,  9.469379  , 10.302134  ,\n",
              "        11.625381  ,  3.7590306 ,  3.3340287 ,  3.1196225 ,  3.2666934 ,\n",
              "         3.1553202 ,  6.12479   , 10.136257  ,  9.732735  ,  6.9041743 ,\n",
              "         7.2630687 ,  8.56243   , 12.241864  , 12.9835825 , 10.6933    ,\n",
              "        10.345214  , 12.647417  , 12.688237  , 17.293     , 10.718143  ,\n",
              "         3.1084478 ,  3.7555542 ,  2.5656998 ,  4.3860784 ,  4.828687  ,\n",
              "         5.682359  ,  5.0524855 ,  6.917001  ,  5.52158   ,  6.9277577 ,\n",
              "        11.447155  , 14.642753  , 20.784286  , 18.788982  , 10.940666  ,\n",
              "         6.552755  ,  3.6613655 ,  2.3812785 ,  4.4156256 ,  8.0198765 ,\n",
              "         5.8886824 ,  5.687224  ,  5.2171674 ,  7.1006527 ,  9.795059  ,\n",
              "        11.278101  , 10.525838  ,  9.421919  ,  7.4430637 ,  3.720996  ,\n",
              "         2.6447906 ,  2.4944918 ,  2.7836175 ,  4.6413517 ,  2.9540138 ,\n",
              "         3.580906  ,  5.3819814 ,  7.715274  , 10.212563  ,  9.711393  ,\n",
              "         9.530221  ,  2.303     ,  3.2427185 ,  4.3664865 ,  6.795495  ,\n",
              "         7.6889715 ,  3.8019152 ,  4.424554  ,  2.8511074 ,  1.0562173 ,\n",
              "         2.0122225 ,  2.2556083 ,  1.4677005 ,  1.3290229 ,  1.5608715 ,\n",
              "         1.4536363 ,  1.9775325 ,  3.860975  ,  5.198986  ,  5.7754645 ,\n",
              "         4.19223   ,  4.515062  ,  5.2265825 ,  6.332289  ,  9.720263  ,\n",
              "        12.870972  , 16.293118  , 16.168806  , 13.157107  , 10.083127  ,\n",
              "         9.262555  ,  4.9961166 ,  3.7101586 ,  4.6996403 ,  7.377814  ,\n",
              "        11.202845  ,  7.2066603 ,  3.0421743 ,  3.9720912 ,  4.0027957 ,\n",
              "         2.1865482 ,  2.761151  ,  1.947448  ,  3.2956798 ,  2.9837358 ,\n",
              "         3.3533633 ,  4.904223  ,  7.4368424 , 11.300661  , 14.119031  ,\n",
              "        17.115692  ], dtype=float32),\n",
              " 'mase': 2.1962695}"
            ]
          },
          "execution_count": 62,
          "metadata": {},
          "output_type": "execute_result"
        }
      ],
      "source": [
        "# Calculate model_3 results - these are going to be multi-dimensional because\n",
        "# we're trying to predict more than one step at a time.\n",
        "model_3_results = evaluate_preds(y_true=tf.squeeze(test_labels),\n",
        "                                 y_pred=model_3_preds)\n",
        "model_3_results"
      ]
    },
    {
      "cell_type": "code",
      "execution_count": 63,
      "metadata": {
        "id": "ERkl26UFgSbz"
      },
      "outputs": [],
      "source": [
        "def evaluate_preds(y_true, y_pred):\n",
        "  # Make sure float32 (for metric calculations)\n",
        "  y_true = tf.cast(y_true, dtype=tf.float32)\n",
        "  y_pred = tf.cast(y_pred, dtype=tf.float32)\n",
        "\n",
        "  # Calculate various metrics\n",
        "  mae = tf.keras.metrics.mean_absolute_error(y_true, y_pred)\n",
        "  mse = tf.keras.metrics.mean_squared_error(y_true, y_pred)\n",
        "  rmse = tf.sqrt(mse)\n",
        "  mape = tf.keras.metrics.mean_absolute_percentage_error(y_true, y_pred)\n",
        "  mase = mean_absolute_scaled_error(y_true, y_pred)\n",
        "\n",
        "  # Account for different sized metrics (for longer horizons, reduce to single number)\n",
        "  if mae.ndim > 0: # if mae isn't already a scalar, reduce it to one by aggregating tensors to mean\n",
        "    mae = tf.reduce_mean(mae)\n",
        "    mse = tf.reduce_mean(mse)\n",
        "    rmse = tf.reduce_mean(rmse)\n",
        "    mape = tf.reduce_mean(mape)\n",
        "    mase = tf.reduce_mean(mase)\n",
        "\n",
        "  return {\"mae\": mae.numpy(),\n",
        "          \"mse\": mse.numpy(),\n",
        "          \"rmse\": rmse.numpy(),\n",
        "          \"mape\": mape.numpy(),\n",
        "          \"mase\": mase.numpy()}"
      ]
    },
    {
      "cell_type": "code",
      "execution_count": 64,
      "metadata": {
        "colab": {
          "base_uri": "https://localhost:8080/"
        },
        "id": "Kt1Z8yjpUij2",
        "outputId": "31690393-6057-40df-ef06-cfb3914d7ab4"
      },
      "outputs": [
        {
          "data": {
            "text/plain": [
              "{'mae': 1234.2448,\n",
              " 'mse': 5375467.5,\n",
              " 'rmse': 1418.8019,\n",
              " 'mape': 5.5360065,\n",
              " 'mase': 2.1962695}"
            ]
          },
          "execution_count": 64,
          "metadata": {},
          "output_type": "execute_result"
        }
      ],
      "source": [
        "# Get model_3 results aggregated to single values\n",
        "model_3_results = evaluate_preds(y_true=tf.squeeze(test_labels),\n",
        "                                 y_pred=model_3_preds)\n",
        "model_3_results"
      ]
    },
    {
      "cell_type": "code",
      "execution_count": 65,
      "metadata": {
        "colab": {
          "base_uri": "https://localhost:8080/",
          "height": 442
        },
        "id": "gBdg1NcLs3gW",
        "outputId": "f9c0c6dd-39f5-42b2-9c5c-8020742b9318"
      },
      "outputs": [
        {
          "data": {
            "image/png": "[encoded data removed]",
            "text/plain": [
              "<Figure size 720x504 with 1 Axes>"
            ]
          },
          "metadata": {
            "needs_background": "light"
          },
          "output_type": "display_data"
        }
      ],
      "source": [
        "offset = 300\n",
        "plt.figure(figsize=(10, 7))\n",
        "plot_time_series(timesteps=X_test[-len(test_windows):], values=test_labels[:, 0], start=offset, label=\"Test_data\")\n",
        "plot_time_series(timesteps=X_test[-len(test_windows):], values=model_3_preds, start=offset, label=\"model_3_preds\")"
      ]
    },
    {
      "cell_type": "code",
      "execution_count": 66,
      "metadata": {
        "colab": {
          "base_uri": "https://localhost:8080/",
          "height": 442
        },
        "id": "wYpZb27bU6OO",
        "outputId": "c310346c-5cb9-4262-c52e-c468725aa4f0"
      },
      "outputs": [
        {
          "data": {
            "image/png": "[encoded data removed]",
            "text/plain": [
              "<Figure size 720x504 with 1 Axes>"
            ]
          },
          "metadata": {
            "needs_background": "light"
          },
          "output_type": "display_data"
        }
      ],
      "source": [
        "offset = 300\n",
        "plt.figure(figsize=(10, 7))\n",
        "# Plot model_3_preds by aggregating them (note: this condenses information so the preds will look fruther ahead than the test data)\n",
        "plot_time_series(timesteps=X_test[-len(test_windows):], \n",
        "                 values=test_labels[:, 0], \n",
        "                 start=offset, \n",
        "                 label=\"Test_data\")\n",
        "plot_time_series(timesteps=X_test[-len(test_windows):], \n",
        "                 values=tf.reduce_mean(model_3_preds, axis=1), \n",
        "                 format=\"-\",\n",
        "                 start=offset, \n",
        "                 label=\"model_3_preds\")"
      ]
    },
    {
      "cell_type": "code",
      "execution_count": 67,
      "metadata": {
        "colab": {
          "base_uri": "https://localhost:8080/",
          "height": 440
        },
        "id": "QA4EKseAVrYf",
        "outputId": "8c842c42-48b8-46ca-94f2-a6fc0344494f"
      },
      "outputs": [
        {
          "data": {
            "image/png": "[encoded data removed]",
            "text/plain": [
              "<Figure size 720x504 with 1 Axes>"
            ]
          },
          "metadata": {
            "needs_background": "light"
          },
          "output_type": "display_data"
        }
      ],
      "source": [
        "pd.DataFrame({\"naive\": naive_results[\"mae\"], \n",
        "              \"horizon_1_window_7\": model_1_results[\"mae\"], \n",
        "              \"horizon_1_window_30\": model_2_results[\"mae\"], \n",
        "              \"horizon_7_window_30\": model_3_results[\"mae\"]}, index=[\"mae\"]).plot(figsize=(10, 7), kind=\"bar\");"
      ]
    },
    {
      "cell_type": "markdown",
      "metadata": {
        "id": "CxcL0gi-rWC5"
      },
      "source": [
        "## Model 4: Conv1D"
      ]
    },
    {
      "cell_type": "code",
      "execution_count": 68,
      "metadata": {
        "id": "2_t9hXvXrZPD"
      },
      "outputs": [],
      "source": [
        "HORIZON = 1 # predict next day\n",
        "WINDOW_SIZE = 7 # use previous week worth of data"
      ]
    },
    {
      "cell_type": "code",
      "execution_count": 69,
      "metadata": {
        "colab": {
          "base_uri": "https://localhost:8080/"
        },
        "id": "CRCy-vXzsEGL",
        "outputId": "09b79a4c-efd0-4e96-ae40-98ed0dba39fe"
      },
      "outputs": [
        {
          "data": {
            "text/plain": [
              "(2780, 2780)"
            ]
          },
          "execution_count": 69,
          "metadata": {},
          "output_type": "execute_result"
        }
      ],
      "source": [
        "# Create windowed dataset\n",
        "full_windows, full_labels = make_windows(prices, window_size=WINDOW_SIZE, horizon=HORIZON)\n",
        "len(full_windows), len(full_labels)"
      ]
    },
    {
      "cell_type": "code",
      "execution_count": 70,
      "metadata": {
        "colab": {
          "base_uri": "https://localhost:8080/"
        },
        "id": "ZtsLeB3rsED2",
        "outputId": "dcab650a-b245-4b00-d475-48bb8f5435fe"
      },
      "outputs": [
        {
          "data": {
            "text/plain": [
              "(2224, 556, 2224, 556)"
            ]
          },
          "execution_count": 70,
          "metadata": {},
          "output_type": "execute_result"
        }
      ],
      "source": [
        "# Create train/test splits\n",
        "train_windows, test_windows, train_labels, test_labels = make_train_test_splits(full_windows, full_labels)\n",
        "len(train_windows), len(test_windows), len(train_labels), len(test_labels)"
      ]
    },
    {
      "cell_type": "code",
      "execution_count": 71,
      "metadata": {
        "colab": {
          "base_uri": "https://localhost:8080/"
        },
        "id": "To_k7zIAX7Pj",
        "outputId": "ee118751-d61f-43b0-b6a4-278acbf2b828"
      },
      "outputs": [
        {
          "data": {
            "text/plain": [
              "(7,)"
            ]
          },
          "execution_count": 71,
          "metadata": {},
          "output_type": "execute_result"
        }
      ],
      "source": [
        "# Check data sample shapes\n",
        "train_windows[0].shape # returns (WINDOW_SIZE, )"
      ]
    },
    {
      "cell_type": "code",
      "execution_count": 72,
      "metadata": {
        "colab": {
          "base_uri": "https://localhost:8080/"
        },
        "id": "62oSNy3VvZpv",
        "outputId": "d822a1bd-2cae-4a7c-a616-1ce82887303a"
      },
      "outputs": [
        {
          "name": "stdout",
          "output_type": "stream",
          "text": [
            "Original shape: (7,)\n",
            "Expanded shape: (7, 1)\n",
            "Original values with expanded shape:\n",
            " [[123.65499]\n",
            " [125.455  ]\n",
            " [108.58483]\n",
            " [118.67466]\n",
            " [121.33866]\n",
            " [120.65533]\n",
            " [121.795  ]]\n"
          ]
        }
      ],
      "source": [
        "# Before we pass our data to the Conv1D layer, we have to reshape it in order to make sure it works\n",
        "x = tf.constant(train_windows[0])\n",
        "expand_dims_layer = layers.Lambda(lambda x: tf.expand_dims(x, axis=1)) # add an extra dimension for timesteps\n",
        "print(f\"Original shape: {x.shape}\") # (WINDOW_SIZE)\n",
        "print(f\"Expanded shape: {expand_dims_layer(x).shape}\") # (WINDOW_SIZE, input_dim) \n",
        "print(f\"Original values with expanded shape:\\n {expand_dims_layer(x)}\")"
      ]
    },
    {
      "cell_type": "code",
      "execution_count": 73,
      "metadata": {
        "colab": {
          "base_uri": "https://localhost:8080/"
        },
        "id": "jODevMWGsEBI",
        "outputId": "8d264c36-4f20-4573-88e7-dd498870a6aa"
      },
      "outputs": [
        {
          "name": "stdout",
          "output_type": "stream",
          "text": [
            "INFO:tensorflow:Assets written to: model_experiments\\model_4_conv1D\\assets\n",
            "INFO:tensorflow:Assets written to: model_experiments\\model_4_conv1D\\assets\n",
            "INFO:tensorflow:Assets written to: model_experiments\\model_4_conv1D\\assets\n",
            "INFO:tensorflow:Assets written to: model_experiments\\model_4_conv1D\\assets\n",
            "INFO:tensorflow:Assets written to: model_experiments\\model_4_conv1D\\assets\n",
            "INFO:tensorflow:Assets written to: model_experiments\\model_4_conv1D\\assets\n",
            "INFO:tensorflow:Assets written to: model_experiments\\model_4_conv1D\\assets\n",
            "INFO:tensorflow:Assets written to: model_experiments\\model_4_conv1D\\assets\n",
            "INFO:tensorflow:Assets written to: model_experiments\\model_4_conv1D\\assets\n",
            "INFO:tensorflow:Assets written to: model_experiments\\model_4_conv1D\\assets\n",
            "INFO:tensorflow:Assets written to: model_experiments\\model_4_conv1D\\assets\n",
            "INFO:tensorflow:Assets written to: model_experiments\\model_4_conv1D\\assets\n",
            "INFO:tensorflow:Assets written to: model_experiments\\model_4_conv1D\\assets\n",
            "INFO:tensorflow:Assets written to: model_experiments\\model_4_conv1D\\assets\n",
            "INFO:tensorflow:Assets written to: model_experiments\\model_4_conv1D\\assets\n",
            "INFO:tensorflow:Assets written to: model_experiments\\model_4_conv1D\\assets\n",
            "INFO:tensorflow:Assets written to: model_experiments\\model_4_conv1D\\assets\n",
            "INFO:tensorflow:Assets written to: model_experiments\\model_4_conv1D\\assets\n",
            "INFO:tensorflow:Assets written to: model_experiments\\model_4_conv1D\\assets\n",
            "INFO:tensorflow:Assets written to: model_experiments\\model_4_conv1D\\assets\n",
            "INFO:tensorflow:Assets written to: model_experiments\\model_4_conv1D\\assets\n",
            "INFO:tensorflow:Assets written to: model_experiments\\model_4_conv1D\\assets\n",
            "INFO:tensorflow:Assets written to: model_experiments\\model_4_conv1D\\assets\n",
            "INFO:tensorflow:Assets written to: model_experiments\\model_4_conv1D\\assets\n",
            "INFO:tensorflow:Assets written to: model_experiments\\model_4_conv1D\\assets\n",
            "INFO:tensorflow:Assets written to: model_experiments\\model_4_conv1D\\assets\n",
            "INFO:tensorflow:Assets written to: model_experiments\\model_4_conv1D\\assets\n",
            "INFO:tensorflow:Assets written to: model_experiments\\model_4_conv1D\\assets\n",
            "INFO:tensorflow:Assets written to: model_experiments\\model_4_conv1D\\assets\n",
            "INFO:tensorflow:Assets written to: model_experiments\\model_4_conv1D\\assets\n",
            "INFO:tensorflow:Assets written to: model_experiments\\model_4_conv1D\\assets\n",
            "INFO:tensorflow:Assets written to: model_experiments\\model_4_conv1D\\assets\n",
            "INFO:tensorflow:Assets written to: model_experiments\\model_4_conv1D\\assets\n",
            "INFO:tensorflow:Assets written to: model_experiments\\model_4_conv1D\\assets\n",
            "INFO:tensorflow:Assets written to: model_experiments\\model_4_conv1D\\assets\n",
            "INFO:tensorflow:Assets written to: model_experiments\\model_4_conv1D\\assets\n",
            "INFO:tensorflow:Assets written to: model_experiments\\model_4_conv1D\\assets\n",
            "INFO:tensorflow:Assets written to: model_experiments\\model_4_conv1D\\assets\n",
            "INFO:tensorflow:Assets written to: model_experiments\\model_4_conv1D\\assets\n",
            "INFO:tensorflow:Assets written to: model_experiments\\model_4_conv1D\\assets\n"
          ]
        },
        {
          "data": {
            "text/plain": [
              "<keras.callbacks.History at 0x13d3a74cee0>"
            ]
          },
          "execution_count": 73,
          "metadata": {},
          "output_type": "execute_result"
        }
      ],
      "source": [
        "tf.random.set_seed(42)\n",
        "\n",
        "# Create model\n",
        "model_4 = tf.keras.Sequential([\n",
        "  # Create Lambda layer to reshape inputs, without this layer, the model will error\n",
        "  layers.Lambda(lambda x: tf.expand_dims(x, axis=1)), # resize the inputs to adjust for window size / Conv1D 3D input requirements\n",
        "  layers.Conv1D(filters=128, kernel_size=5, padding=\"causal\", activation=\"relu\"),\n",
        "  layers.Dense(HORIZON)\n",
        "], name=\"model_4_conv1D\")\n",
        "\n",
        "# Compile model\n",
        "model_4.compile(loss=\"mae\",\n",
        "                optimizer=tf.keras.optimizers.Adam())\n",
        "\n",
        "# Fit model\n",
        "model_4.fit(train_windows,\n",
        "            train_labels,\n",
        "            batch_size=128, \n",
        "            epochs=100,\n",
        "            verbose=0,\n",
        "            validation_data=(test_windows, test_labels),\n",
        "            callbacks=[create_model_checkpoint(model_name=model_4.name)])"
      ]
    },
    {
      "cell_type": "code",
      "execution_count": 74,
      "metadata": {
        "colab": {
          "base_uri": "https://localhost:8080/"
        },
        "id": "2FcGUALG4RxJ",
        "outputId": "945dbb97-927f-4f70-8a13-391c18db821d"
      },
      "outputs": [
        {
          "name": "stdout",
          "output_type": "stream",
          "text": [
            "Model: \"model_4_conv1D\"\n",
            "_________________________________________________________________\n",
            " Layer (type)                Output Shape              Param #   \n",
            "=================================================================\n",
            " lambda_1 (Lambda)           (None, 1, 7)              0         \n",
            "                                                                 \n",
            " conv1d (Conv1D)             (None, 1, 128)            4608      \n",
            "                                                                 \n",
            " dense_6 (Dense)             (None, 1, 1)              129       \n",
            "                                                                 \n",
            "=================================================================\n",
            "Total params: 4,737\n",
            "Trainable params: 4,737\n",
            "Non-trainable params: 0\n",
            "_________________________________________________________________\n"
          ]
        }
      ],
      "source": [
        "model_4.summary()"
      ]
    },
    {
      "cell_type": "code",
      "execution_count": 75,
      "metadata": {
        "colab": {
          "base_uri": "https://localhost:8080/"
        },
        "id": "KXEL9FuhsD-3",
        "outputId": "315e48d9-5262-4dca-a7db-9b3f2d3c07aa"
      },
      "outputs": [
        {
          "name": "stdout",
          "output_type": "stream",
          "text": [
            "18/18 [==============================] - 0s 1ms/step - loss: 569.0327\n"
          ]
        },
        {
          "data": {
            "text/plain": [
              "569.03271484375"
            ]
          },
          "execution_count": 75,
          "metadata": {},
          "output_type": "execute_result"
        }
      ],
      "source": [
        "# Load in best performing Conv1D model and evaluate it on the test data\n",
        "model_4 = tf.keras.models.load_model(\"model_experiments/model_4_conv1D\")\n",
        "model_4.evaluate(test_windows, test_labels)"
      ]
    },
    {
      "cell_type": "code",
      "execution_count": 76,
      "metadata": {
        "colab": {
          "base_uri": "https://localhost:8080/"
        },
        "id": "j99tbnwSsD8R",
        "outputId": "1cf57db2-3dff-4c14-8db8-e5dda6e29f4f"
      },
      "outputs": [
        {
          "data": {
            "text/plain": [
              "<tf.Tensor: shape=(10,), dtype=float32, numpy=\n",
              "array([8847.292 , 8757.503 , 8997.47  , 8762.802 , 8707.723 , 8713.594 ,\n",
              "       8664.936 , 8496.83  , 8439.472 , 8499.3955], dtype=float32)>"
            ]
          },
          "execution_count": 76,
          "metadata": {},
          "output_type": "execute_result"
        }
      ],
      "source": [
        "# Make predictions\n",
        "model_4_preds = make_preds(model_4, test_windows)\n",
        "model_4_preds[:10]"
      ]
    },
    {
      "cell_type": "code",
      "execution_count": 77,
      "metadata": {
        "colab": {
          "base_uri": "https://localhost:8080/"
        },
        "id": "yjfEDWxjrZW2",
        "outputId": "abb0a047-5324-4e0a-a21e-f092f23d24a3"
      },
      "outputs": [
        {
          "data": {
            "text/plain": [
              "{'mae': 569.0327,\n",
              " 'mse': 1169841.2,\n",
              " 'rmse': 1081.592,\n",
              " 'mape': 2.5515254,\n",
              " 'mase': 0.9996329}"
            ]
          },
          "execution_count": 77,
          "metadata": {},
          "output_type": "execute_result"
        }
      ],
      "source": [
        "# Evaluate predictions\n",
        "model_4_results = evaluate_preds(y_true=tf.squeeze(test_labels),\n",
        "                                 y_pred=model_4_preds)\n",
        "model_4_results"
      ]
    },
    {
      "cell_type": "markdown",
      "metadata": {
        "id": "pZ2s0Rx0rZjE"
      },
      "source": [
        "## Model 5: RNN (LSTM)"
      ]
    },
    {
      "cell_type": "code",
      "execution_count": 78,
      "metadata": {
        "colab": {
          "base_uri": "https://localhost:8080/"
        },
        "id": "a6YFL_b-rZrt",
        "outputId": "96a90e42-069a-459a-b140-6191cab11eb1"
      },
      "outputs": [
        {
          "name": "stdout",
          "output_type": "stream",
          "text": [
            "INFO:tensorflow:Assets written to: model_experiments\\model_5_lstm\\assets\n"
          ]
        },
        {
          "name": "stderr",
          "output_type": "stream",
          "text": [
            "WARNING:absl:<keras.layers.recurrent.LSTMCell object at 0x0000013D41501CC0> has the same name 'LSTMCell' as a built-in Keras object. Consider renaming <class 'keras.layers.recurrent.LSTMCell'> to avoid naming conflicts when loading with `tf.keras.models.load_model`. If renaming is not possible, pass the object in the `custom_objects` parameter of the load function.\n"
          ]
        },
        {
          "name": "stdout",
          "output_type": "stream",
          "text": [
            "INFO:tensorflow:Assets written to: model_experiments\\model_5_lstm\\assets\n"
          ]
        },
        {
          "name": "stderr",
          "output_type": "stream",
          "text": [
            "INFO:tensorflow:Assets written to: model_experiments\\model_5_lstm\\assets\n",
            "WARNING:absl:<keras.layers.recurrent.LSTMCell object at 0x0000013D41501CC0> has the same name 'LSTMCell' as a built-in Keras object. Consider renaming <class 'keras.layers.recurrent.LSTMCell'> to avoid naming conflicts when loading with `tf.keras.models.load_model`. If renaming is not possible, pass the object in the `custom_objects` parameter of the load function.\n"
          ]
        },
        {
          "name": "stdout",
          "output_type": "stream",
          "text": [
            "INFO:tensorflow:Assets written to: model_experiments\\model_5_lstm\\assets\n"
          ]
        },
        {
          "name": "stderr",
          "output_type": "stream",
          "text": [
            "INFO:tensorflow:Assets written to: model_experiments\\model_5_lstm\\assets\n",
            "WARNING:absl:<keras.layers.recurrent.LSTMCell object at 0x0000013D41501CC0> has the same name 'LSTMCell' as a built-in Keras object. Consider renaming <class 'keras.layers.recurrent.LSTMCell'> to avoid naming conflicts when loading with `tf.keras.models.load_model`. If renaming is not possible, pass the object in the `custom_objects` parameter of the load function.\n"
          ]
        },
        {
          "name": "stdout",
          "output_type": "stream",
          "text": [
            "INFO:tensorflow:Assets written to: model_experiments\\model_5_lstm\\assets\n"
          ]
        },
        {
          "name": "stderr",
          "output_type": "stream",
          "text": [
            "INFO:tensorflow:Assets written to: model_experiments\\model_5_lstm\\assets\n",
            "WARNING:absl:<keras.layers.recurrent.LSTMCell object at 0x0000013D41501CC0> has the same name 'LSTMCell' as a built-in Keras object. Consider renaming <class 'keras.layers.recurrent.LSTMCell'> to avoid naming conflicts when loading with `tf.keras.models.load_model`. If renaming is not possible, pass the object in the `custom_objects` parameter of the load function.\n"
          ]
        },
        {
          "name": "stdout",
          "output_type": "stream",
          "text": [
            "INFO:tensorflow:Assets written to: model_experiments\\model_5_lstm\\assets\n"
          ]
        },
        {
          "name": "stderr",
          "output_type": "stream",
          "text": [
            "INFO:tensorflow:Assets written to: model_experiments\\model_5_lstm\\assets\n",
            "WARNING:absl:<keras.layers.recurrent.LSTMCell object at 0x0000013D41501CC0> has the same name 'LSTMCell' as a built-in Keras object. Consider renaming <class 'keras.layers.recurrent.LSTMCell'> to avoid naming conflicts when loading with `tf.keras.models.load_model`. If renaming is not possible, pass the object in the `custom_objects` parameter of the load function.\n"
          ]
        },
        {
          "name": "stdout",
          "output_type": "stream",
          "text": [
            "INFO:tensorflow:Assets written to: model_experiments\\model_5_lstm\\assets\n"
          ]
        },
        {
          "name": "stderr",
          "output_type": "stream",
          "text": [
            "INFO:tensorflow:Assets written to: model_experiments\\model_5_lstm\\assets\n",
            "WARNING:absl:<keras.layers.recurrent.LSTMCell object at 0x0000013D41501CC0> has the same name 'LSTMCell' as a built-in Keras object. Consider renaming <class 'keras.layers.recurrent.LSTMCell'> to avoid naming conflicts when loading with `tf.keras.models.load_model`. If renaming is not possible, pass the object in the `custom_objects` parameter of the load function.\n"
          ]
        },
        {
          "name": "stdout",
          "output_type": "stream",
          "text": [
            "INFO:tensorflow:Assets written to: model_experiments\\model_5_lstm\\assets\n"
          ]
        },
        {
          "name": "stderr",
          "output_type": "stream",
          "text": [
            "INFO:tensorflow:Assets written to: model_experiments\\model_5_lstm\\assets\n",
            "WARNING:absl:<keras.layers.recurrent.LSTMCell object at 0x0000013D41501CC0> has the same name 'LSTMCell' as a built-in Keras object. Consider renaming <class 'keras.layers.recurrent.LSTMCell'> to avoid naming conflicts when loading with `tf.keras.models.load_model`. If renaming is not possible, pass the object in the `custom_objects` parameter of the load function.\n"
          ]
        },
        {
          "name": "stdout",
          "output_type": "stream",
          "text": [
            "INFO:tensorflow:Assets written to: model_experiments\\model_5_lstm\\assets\n"
          ]
        },
        {
          "name": "stderr",
          "output_type": "stream",
          "text": [
            "INFO:tensorflow:Assets written to: model_experiments\\model_5_lstm\\assets\n",
            "WARNING:absl:<keras.layers.recurrent.LSTMCell object at 0x0000013D41501CC0> has the same name 'LSTMCell' as a built-in Keras object. Consider renaming <class 'keras.layers.recurrent.LSTMCell'> to avoid naming conflicts when loading with `tf.keras.models.load_model`. If renaming is not possible, pass the object in the `custom_objects` parameter of the load function.\n"
          ]
        },
        {
          "name": "stdout",
          "output_type": "stream",
          "text": [
            "INFO:tensorflow:Assets written to: model_experiments\\model_5_lstm\\assets\n"
          ]
        },
        {
          "name": "stderr",
          "output_type": "stream",
          "text": [
            "INFO:tensorflow:Assets written to: model_experiments\\model_5_lstm\\assets\n",
            "WARNING:absl:<keras.layers.recurrent.LSTMCell object at 0x0000013D41501CC0> has the same name 'LSTMCell' as a built-in Keras object. Consider renaming <class 'keras.layers.recurrent.LSTMCell'> to avoid naming conflicts when loading with `tf.keras.models.load_model`. If renaming is not possible, pass the object in the `custom_objects` parameter of the load function.\n"
          ]
        },
        {
          "name": "stdout",
          "output_type": "stream",
          "text": [
            "INFO:tensorflow:Assets written to: model_experiments\\model_5_lstm\\assets\n"
          ]
        },
        {
          "name": "stderr",
          "output_type": "stream",
          "text": [
            "INFO:tensorflow:Assets written to: model_experiments\\model_5_lstm\\assets\n",
            "WARNING:absl:<keras.layers.recurrent.LSTMCell object at 0x0000013D41501CC0> has the same name 'LSTMCell' as a built-in Keras object. Consider renaming <class 'keras.layers.recurrent.LSTMCell'> to avoid naming conflicts when loading with `tf.keras.models.load_model`. If renaming is not possible, pass the object in the `custom_objects` parameter of the load function.\n"
          ]
        },
        {
          "name": "stdout",
          "output_type": "stream",
          "text": [
            "INFO:tensorflow:Assets written to: model_experiments\\model_5_lstm\\assets\n"
          ]
        },
        {
          "name": "stderr",
          "output_type": "stream",
          "text": [
            "INFO:tensorflow:Assets written to: model_experiments\\model_5_lstm\\assets\n",
            "WARNING:absl:<keras.layers.recurrent.LSTMCell object at 0x0000013D41501CC0> has the same name 'LSTMCell' as a built-in Keras object. Consider renaming <class 'keras.layers.recurrent.LSTMCell'> to avoid naming conflicts when loading with `tf.keras.models.load_model`. If renaming is not possible, pass the object in the `custom_objects` parameter of the load function.\n"
          ]
        },
        {
          "name": "stdout",
          "output_type": "stream",
          "text": [
            "INFO:tensorflow:Assets written to: model_experiments\\model_5_lstm\\assets\n"
          ]
        },
        {
          "name": "stderr",
          "output_type": "stream",
          "text": [
            "INFO:tensorflow:Assets written to: model_experiments\\model_5_lstm\\assets\n",
            "WARNING:absl:<keras.layers.recurrent.LSTMCell object at 0x0000013D41501CC0> has the same name 'LSTMCell' as a built-in Keras object. Consider renaming <class 'keras.layers.recurrent.LSTMCell'> to avoid naming conflicts when loading with `tf.keras.models.load_model`. If renaming is not possible, pass the object in the `custom_objects` parameter of the load function.\n"
          ]
        },
        {
          "name": "stdout",
          "output_type": "stream",
          "text": [
            "INFO:tensorflow:Assets written to: model_experiments\\model_5_lstm\\assets\n"
          ]
        },
        {
          "name": "stderr",
          "output_type": "stream",
          "text": [
            "INFO:tensorflow:Assets written to: model_experiments\\model_5_lstm\\assets\n",
            "WARNING:absl:<keras.layers.recurrent.LSTMCell object at 0x0000013D41501CC0> has the same name 'LSTMCell' as a built-in Keras object. Consider renaming <class 'keras.layers.recurrent.LSTMCell'> to avoid naming conflicts when loading with `tf.keras.models.load_model`. If renaming is not possible, pass the object in the `custom_objects` parameter of the load function.\n"
          ]
        },
        {
          "name": "stdout",
          "output_type": "stream",
          "text": [
            "INFO:tensorflow:Assets written to: model_experiments\\model_5_lstm\\assets\n"
          ]
        },
        {
          "name": "stderr",
          "output_type": "stream",
          "text": [
            "INFO:tensorflow:Assets written to: model_experiments\\model_5_lstm\\assets\n",
            "WARNING:absl:<keras.layers.recurrent.LSTMCell object at 0x0000013D41501CC0> has the same name 'LSTMCell' as a built-in Keras object. Consider renaming <class 'keras.layers.recurrent.LSTMCell'> to avoid naming conflicts when loading with `tf.keras.models.load_model`. If renaming is not possible, pass the object in the `custom_objects` parameter of the load function.\n"
          ]
        },
        {
          "name": "stdout",
          "output_type": "stream",
          "text": [
            "INFO:tensorflow:Assets written to: model_experiments\\model_5_lstm\\assets\n"
          ]
        },
        {
          "name": "stderr",
          "output_type": "stream",
          "text": [
            "INFO:tensorflow:Assets written to: model_experiments\\model_5_lstm\\assets\n",
            "WARNING:absl:<keras.layers.recurrent.LSTMCell object at 0x0000013D41501CC0> has the same name 'LSTMCell' as a built-in Keras object. Consider renaming <class 'keras.layers.recurrent.LSTMCell'> to avoid naming conflicts when loading with `tf.keras.models.load_model`. If renaming is not possible, pass the object in the `custom_objects` parameter of the load function.\n"
          ]
        },
        {
          "name": "stdout",
          "output_type": "stream",
          "text": [
            "INFO:tensorflow:Assets written to: model_experiments\\model_5_lstm\\assets\n"
          ]
        },
        {
          "name": "stderr",
          "output_type": "stream",
          "text": [
            "INFO:tensorflow:Assets written to: model_experiments\\model_5_lstm\\assets\n",
            "WARNING:absl:<keras.layers.recurrent.LSTMCell object at 0x0000013D41501CC0> has the same name 'LSTMCell' as a built-in Keras object. Consider renaming <class 'keras.layers.recurrent.LSTMCell'> to avoid naming conflicts when loading with `tf.keras.models.load_model`. If renaming is not possible, pass the object in the `custom_objects` parameter of the load function.\n"
          ]
        },
        {
          "name": "stdout",
          "output_type": "stream",
          "text": [
            "INFO:tensorflow:Assets written to: model_experiments\\model_5_lstm\\assets\n"
          ]
        },
        {
          "name": "stderr",
          "output_type": "stream",
          "text": [
            "INFO:tensorflow:Assets written to: model_experiments\\model_5_lstm\\assets\n",
            "WARNING:absl:<keras.layers.recurrent.LSTMCell object at 0x0000013D41501CC0> has the same name 'LSTMCell' as a built-in Keras object. Consider renaming <class 'keras.layers.recurrent.LSTMCell'> to avoid naming conflicts when loading with `tf.keras.models.load_model`. If renaming is not possible, pass the object in the `custom_objects` parameter of the load function.\n"
          ]
        },
        {
          "name": "stdout",
          "output_type": "stream",
          "text": [
            "INFO:tensorflow:Assets written to: model_experiments\\model_5_lstm\\assets\n"
          ]
        },
        {
          "name": "stderr",
          "output_type": "stream",
          "text": [
            "INFO:tensorflow:Assets written to: model_experiments\\model_5_lstm\\assets\n",
            "WARNING:absl:<keras.layers.recurrent.LSTMCell object at 0x0000013D41501CC0> has the same name 'LSTMCell' as a built-in Keras object. Consider renaming <class 'keras.layers.recurrent.LSTMCell'> to avoid naming conflicts when loading with `tf.keras.models.load_model`. If renaming is not possible, pass the object in the `custom_objects` parameter of the load function.\n"
          ]
        },
        {
          "name": "stdout",
          "output_type": "stream",
          "text": [
            "INFO:tensorflow:Assets written to: model_experiments\\model_5_lstm\\assets\n"
          ]
        },
        {
          "name": "stderr",
          "output_type": "stream",
          "text": [
            "INFO:tensorflow:Assets written to: model_experiments\\model_5_lstm\\assets\n",
            "WARNING:absl:<keras.layers.recurrent.LSTMCell object at 0x0000013D41501CC0> has the same name 'LSTMCell' as a built-in Keras object. Consider renaming <class 'keras.layers.recurrent.LSTMCell'> to avoid naming conflicts when loading with `tf.keras.models.load_model`. If renaming is not possible, pass the object in the `custom_objects` parameter of the load function.\n"
          ]
        },
        {
          "name": "stdout",
          "output_type": "stream",
          "text": [
            "INFO:tensorflow:Assets written to: model_experiments\\model_5_lstm\\assets\n"
          ]
        },
        {
          "name": "stderr",
          "output_type": "stream",
          "text": [
            "INFO:tensorflow:Assets written to: model_experiments\\model_5_lstm\\assets\n",
            "WARNING:absl:<keras.layers.recurrent.LSTMCell object at 0x0000013D41501CC0> has the same name 'LSTMCell' as a built-in Keras object. Consider renaming <class 'keras.layers.recurrent.LSTMCell'> to avoid naming conflicts when loading with `tf.keras.models.load_model`. If renaming is not possible, pass the object in the `custom_objects` parameter of the load function.\n"
          ]
        },
        {
          "name": "stdout",
          "output_type": "stream",
          "text": [
            "INFO:tensorflow:Assets written to: model_experiments\\model_5_lstm\\assets\n"
          ]
        },
        {
          "name": "stderr",
          "output_type": "stream",
          "text": [
            "INFO:tensorflow:Assets written to: model_experiments\\model_5_lstm\\assets\n",
            "WARNING:absl:<keras.layers.recurrent.LSTMCell object at 0x0000013D41501CC0> has the same name 'LSTMCell' as a built-in Keras object. Consider renaming <class 'keras.layers.recurrent.LSTMCell'> to avoid naming conflicts when loading with `tf.keras.models.load_model`. If renaming is not possible, pass the object in the `custom_objects` parameter of the load function.\n"
          ]
        },
        {
          "name": "stdout",
          "output_type": "stream",
          "text": [
            "INFO:tensorflow:Assets written to: model_experiments\\model_5_lstm\\assets\n"
          ]
        },
        {
          "name": "stderr",
          "output_type": "stream",
          "text": [
            "INFO:tensorflow:Assets written to: model_experiments\\model_5_lstm\\assets\n",
            "WARNING:absl:<keras.layers.recurrent.LSTMCell object at 0x0000013D41501CC0> has the same name 'LSTMCell' as a built-in Keras object. Consider renaming <class 'keras.layers.recurrent.LSTMCell'> to avoid naming conflicts when loading with `tf.keras.models.load_model`. If renaming is not possible, pass the object in the `custom_objects` parameter of the load function.\n"
          ]
        },
        {
          "name": "stdout",
          "output_type": "stream",
          "text": [
            "INFO:tensorflow:Assets written to: model_experiments\\model_5_lstm\\assets\n"
          ]
        },
        {
          "name": "stderr",
          "output_type": "stream",
          "text": [
            "INFO:tensorflow:Assets written to: model_experiments\\model_5_lstm\\assets\n",
            "WARNING:absl:<keras.layers.recurrent.LSTMCell object at 0x0000013D41501CC0> has the same name 'LSTMCell' as a built-in Keras object. Consider renaming <class 'keras.layers.recurrent.LSTMCell'> to avoid naming conflicts when loading with `tf.keras.models.load_model`. If renaming is not possible, pass the object in the `custom_objects` parameter of the load function.\n"
          ]
        },
        {
          "name": "stdout",
          "output_type": "stream",
          "text": [
            "INFO:tensorflow:Assets written to: model_experiments\\model_5_lstm\\assets\n"
          ]
        },
        {
          "name": "stderr",
          "output_type": "stream",
          "text": [
            "INFO:tensorflow:Assets written to: model_experiments\\model_5_lstm\\assets\n",
            "WARNING:absl:<keras.layers.recurrent.LSTMCell object at 0x0000013D41501CC0> has the same name 'LSTMCell' as a built-in Keras object. Consider renaming <class 'keras.layers.recurrent.LSTMCell'> to avoid naming conflicts when loading with `tf.keras.models.load_model`. If renaming is not possible, pass the object in the `custom_objects` parameter of the load function.\n"
          ]
        },
        {
          "name": "stdout",
          "output_type": "stream",
          "text": [
            "INFO:tensorflow:Assets written to: model_experiments\\model_5_lstm\\assets\n"
          ]
        },
        {
          "name": "stderr",
          "output_type": "stream",
          "text": [
            "INFO:tensorflow:Assets written to: model_experiments\\model_5_lstm\\assets\n",
            "WARNING:absl:<keras.layers.recurrent.LSTMCell object at 0x0000013D41501CC0> has the same name 'LSTMCell' as a built-in Keras object. Consider renaming <class 'keras.layers.recurrent.LSTMCell'> to avoid naming conflicts when loading with `tf.keras.models.load_model`. If renaming is not possible, pass the object in the `custom_objects` parameter of the load function.\n"
          ]
        },
        {
          "name": "stdout",
          "output_type": "stream",
          "text": [
            "INFO:tensorflow:Assets written to: model_experiments\\model_5_lstm\\assets\n"
          ]
        },
        {
          "name": "stderr",
          "output_type": "stream",
          "text": [
            "INFO:tensorflow:Assets written to: model_experiments\\model_5_lstm\\assets\n",
            "WARNING:absl:<keras.layers.recurrent.LSTMCell object at 0x0000013D41501CC0> has the same name 'LSTMCell' as a built-in Keras object. Consider renaming <class 'keras.layers.recurrent.LSTMCell'> to avoid naming conflicts when loading with `tf.keras.models.load_model`. If renaming is not possible, pass the object in the `custom_objects` parameter of the load function.\n"
          ]
        },
        {
          "name": "stdout",
          "output_type": "stream",
          "text": [
            "INFO:tensorflow:Assets written to: model_experiments\\model_5_lstm\\assets\n"
          ]
        },
        {
          "name": "stderr",
          "output_type": "stream",
          "text": [
            "INFO:tensorflow:Assets written to: model_experiments\\model_5_lstm\\assets\n",
            "WARNING:absl:<keras.layers.recurrent.LSTMCell object at 0x0000013D41501CC0> has the same name 'LSTMCell' as a built-in Keras object. Consider renaming <class 'keras.layers.recurrent.LSTMCell'> to avoid naming conflicts when loading with `tf.keras.models.load_model`. If renaming is not possible, pass the object in the `custom_objects` parameter of the load function.\n"
          ]
        },
        {
          "name": "stdout",
          "output_type": "stream",
          "text": [
            "INFO:tensorflow:Assets written to: model_experiments\\model_5_lstm\\assets\n"
          ]
        },
        {
          "name": "stderr",
          "output_type": "stream",
          "text": [
            "INFO:tensorflow:Assets written to: model_experiments\\model_5_lstm\\assets\n",
            "WARNING:absl:<keras.layers.recurrent.LSTMCell object at 0x0000013D41501CC0> has the same name 'LSTMCell' as a built-in Keras object. Consider renaming <class 'keras.layers.recurrent.LSTMCell'> to avoid naming conflicts when loading with `tf.keras.models.load_model`. If renaming is not possible, pass the object in the `custom_objects` parameter of the load function.\n"
          ]
        },
        {
          "name": "stdout",
          "output_type": "stream",
          "text": [
            "INFO:tensorflow:Assets written to: model_experiments\\model_5_lstm\\assets\n"
          ]
        },
        {
          "name": "stderr",
          "output_type": "stream",
          "text": [
            "INFO:tensorflow:Assets written to: model_experiments\\model_5_lstm\\assets\n",
            "WARNING:absl:<keras.layers.recurrent.LSTMCell object at 0x0000013D41501CC0> has the same name 'LSTMCell' as a built-in Keras object. Consider renaming <class 'keras.layers.recurrent.LSTMCell'> to avoid naming conflicts when loading with `tf.keras.models.load_model`. If renaming is not possible, pass the object in the `custom_objects` parameter of the load function.\n"
          ]
        },
        {
          "name": "stdout",
          "output_type": "stream",
          "text": [
            "INFO:tensorflow:Assets written to: model_experiments\\model_5_lstm\\assets\n"
          ]
        },
        {
          "name": "stderr",
          "output_type": "stream",
          "text": [
            "INFO:tensorflow:Assets written to: model_experiments\\model_5_lstm\\assets\n",
            "WARNING:absl:<keras.layers.recurrent.LSTMCell object at 0x0000013D41501CC0> has the same name 'LSTMCell' as a built-in Keras object. Consider renaming <class 'keras.layers.recurrent.LSTMCell'> to avoid naming conflicts when loading with `tf.keras.models.load_model`. If renaming is not possible, pass the object in the `custom_objects` parameter of the load function.\n"
          ]
        },
        {
          "name": "stdout",
          "output_type": "stream",
          "text": [
            "INFO:tensorflow:Assets written to: model_experiments\\model_5_lstm\\assets\n"
          ]
        },
        {
          "name": "stderr",
          "output_type": "stream",
          "text": [
            "INFO:tensorflow:Assets written to: model_experiments\\model_5_lstm\\assets\n",
            "WARNING:absl:<keras.layers.recurrent.LSTMCell object at 0x0000013D41501CC0> has the same name 'LSTMCell' as a built-in Keras object. Consider renaming <class 'keras.layers.recurrent.LSTMCell'> to avoid naming conflicts when loading with `tf.keras.models.load_model`. If renaming is not possible, pass the object in the `custom_objects` parameter of the load function.\n"
          ]
        },
        {
          "name": "stdout",
          "output_type": "stream",
          "text": [
            "INFO:tensorflow:Assets written to: model_experiments\\model_5_lstm\\assets\n"
          ]
        },
        {
          "name": "stderr",
          "output_type": "stream",
          "text": [
            "INFO:tensorflow:Assets written to: model_experiments\\model_5_lstm\\assets\n",
            "WARNING:absl:<keras.layers.recurrent.LSTMCell object at 0x0000013D41501CC0> has the same name 'LSTMCell' as a built-in Keras object. Consider renaming <class 'keras.layers.recurrent.LSTMCell'> to avoid naming conflicts when loading with `tf.keras.models.load_model`. If renaming is not possible, pass the object in the `custom_objects` parameter of the load function.\n"
          ]
        },
        {
          "name": "stdout",
          "output_type": "stream",
          "text": [
            "INFO:tensorflow:Assets written to: model_experiments\\model_5_lstm\\assets\n"
          ]
        },
        {
          "name": "stderr",
          "output_type": "stream",
          "text": [
            "INFO:tensorflow:Assets written to: model_experiments\\model_5_lstm\\assets\n",
            "WARNING:absl:<keras.layers.recurrent.LSTMCell object at 0x0000013D41501CC0> has the same name 'LSTMCell' as a built-in Keras object. Consider renaming <class 'keras.layers.recurrent.LSTMCell'> to avoid naming conflicts when loading with `tf.keras.models.load_model`. If renaming is not possible, pass the object in the `custom_objects` parameter of the load function.\n"
          ]
        },
        {
          "name": "stdout",
          "output_type": "stream",
          "text": [
            "INFO:tensorflow:Assets written to: model_experiments\\model_5_lstm\\assets\n"
          ]
        },
        {
          "name": "stderr",
          "output_type": "stream",
          "text": [
            "INFO:tensorflow:Assets written to: model_experiments\\model_5_lstm\\assets\n",
            "WARNING:absl:<keras.layers.recurrent.LSTMCell object at 0x0000013D41501CC0> has the same name 'LSTMCell' as a built-in Keras object. Consider renaming <class 'keras.layers.recurrent.LSTMCell'> to avoid naming conflicts when loading with `tf.keras.models.load_model`. If renaming is not possible, pass the object in the `custom_objects` parameter of the load function.\n"
          ]
        },
        {
          "name": "stdout",
          "output_type": "stream",
          "text": [
            "INFO:tensorflow:Assets written to: model_experiments\\model_5_lstm\\assets\n"
          ]
        },
        {
          "name": "stderr",
          "output_type": "stream",
          "text": [
            "INFO:tensorflow:Assets written to: model_experiments\\model_5_lstm\\assets\n",
            "WARNING:absl:<keras.layers.recurrent.LSTMCell object at 0x0000013D41501CC0> has the same name 'LSTMCell' as a built-in Keras object. Consider renaming <class 'keras.layers.recurrent.LSTMCell'> to avoid naming conflicts when loading with `tf.keras.models.load_model`. If renaming is not possible, pass the object in the `custom_objects` parameter of the load function.\n"
          ]
        },
        {
          "name": "stdout",
          "output_type": "stream",
          "text": [
            "INFO:tensorflow:Assets written to: model_experiments\\model_5_lstm\\assets\n"
          ]
        },
        {
          "name": "stderr",
          "output_type": "stream",
          "text": [
            "INFO:tensorflow:Assets written to: model_experiments\\model_5_lstm\\assets\n",
            "WARNING:absl:<keras.layers.recurrent.LSTMCell object at 0x0000013D41501CC0> has the same name 'LSTMCell' as a built-in Keras object. Consider renaming <class 'keras.layers.recurrent.LSTMCell'> to avoid naming conflicts when loading with `tf.keras.models.load_model`. If renaming is not possible, pass the object in the `custom_objects` parameter of the load function.\n"
          ]
        },
        {
          "name": "stdout",
          "output_type": "stream",
          "text": [
            "INFO:tensorflow:Assets written to: model_experiments\\model_5_lstm\\assets\n"
          ]
        },
        {
          "name": "stderr",
          "output_type": "stream",
          "text": [
            "INFO:tensorflow:Assets written to: model_experiments\\model_5_lstm\\assets\n",
            "WARNING:absl:<keras.layers.recurrent.LSTMCell object at 0x0000013D41501CC0> has the same name 'LSTMCell' as a built-in Keras object. Consider renaming <class 'keras.layers.recurrent.LSTMCell'> to avoid naming conflicts when loading with `tf.keras.models.load_model`. If renaming is not possible, pass the object in the `custom_objects` parameter of the load function.\n"
          ]
        },
        {
          "name": "stdout",
          "output_type": "stream",
          "text": [
            "INFO:tensorflow:Assets written to: model_experiments\\model_5_lstm\\assets\n"
          ]
        },
        {
          "name": "stderr",
          "output_type": "stream",
          "text": [
            "INFO:tensorflow:Assets written to: model_experiments\\model_5_lstm\\assets\n",
            "WARNING:absl:<keras.layers.recurrent.LSTMCell object at 0x0000013D41501CC0> has the same name 'LSTMCell' as a built-in Keras object. Consider renaming <class 'keras.layers.recurrent.LSTMCell'> to avoid naming conflicts when loading with `tf.keras.models.load_model`. If renaming is not possible, pass the object in the `custom_objects` parameter of the load function.\n"
          ]
        },
        {
          "name": "stdout",
          "output_type": "stream",
          "text": [
            "INFO:tensorflow:Assets written to: model_experiments\\model_5_lstm\\assets\n"
          ]
        },
        {
          "name": "stderr",
          "output_type": "stream",
          "text": [
            "INFO:tensorflow:Assets written to: model_experiments\\model_5_lstm\\assets\n",
            "WARNING:absl:<keras.layers.recurrent.LSTMCell object at 0x0000013D41501CC0> has the same name 'LSTMCell' as a built-in Keras object. Consider renaming <class 'keras.layers.recurrent.LSTMCell'> to avoid naming conflicts when loading with `tf.keras.models.load_model`. If renaming is not possible, pass the object in the `custom_objects` parameter of the load function.\n"
          ]
        },
        {
          "name": "stdout",
          "output_type": "stream",
          "text": [
            "INFO:tensorflow:Assets written to: model_experiments\\model_5_lstm\\assets\n"
          ]
        },
        {
          "name": "stderr",
          "output_type": "stream",
          "text": [
            "INFO:tensorflow:Assets written to: model_experiments\\model_5_lstm\\assets\n",
            "WARNING:absl:<keras.layers.recurrent.LSTMCell object at 0x0000013D41501CC0> has the same name 'LSTMCell' as a built-in Keras object. Consider renaming <class 'keras.layers.recurrent.LSTMCell'> to avoid naming conflicts when loading with `tf.keras.models.load_model`. If renaming is not possible, pass the object in the `custom_objects` parameter of the load function.\n"
          ]
        },
        {
          "name": "stdout",
          "output_type": "stream",
          "text": [
            "INFO:tensorflow:Assets written to: model_experiments\\model_5_lstm\\assets\n"
          ]
        },
        {
          "name": "stderr",
          "output_type": "stream",
          "text": [
            "INFO:tensorflow:Assets written to: model_experiments\\model_5_lstm\\assets\n",
            "WARNING:absl:<keras.layers.recurrent.LSTMCell object at 0x0000013D41501CC0> has the same name 'LSTMCell' as a built-in Keras object. Consider renaming <class 'keras.layers.recurrent.LSTMCell'> to avoid naming conflicts when loading with `tf.keras.models.load_model`. If renaming is not possible, pass the object in the `custom_objects` parameter of the load function.\n"
          ]
        },
        {
          "name": "stdout",
          "output_type": "stream",
          "text": [
            "INFO:tensorflow:Assets written to: model_experiments\\model_5_lstm\\assets\n"
          ]
        },
        {
          "name": "stderr",
          "output_type": "stream",
          "text": [
            "INFO:tensorflow:Assets written to: model_experiments\\model_5_lstm\\assets\n",
            "WARNING:absl:<keras.layers.recurrent.LSTMCell object at 0x0000013D41501CC0> has the same name 'LSTMCell' as a built-in Keras object. Consider renaming <class 'keras.layers.recurrent.LSTMCell'> to avoid naming conflicts when loading with `tf.keras.models.load_model`. If renaming is not possible, pass the object in the `custom_objects` parameter of the load function.\n"
          ]
        },
        {
          "data": {
            "text/plain": [
              "<keras.callbacks.History at 0x13d3dc03b20>"
            ]
          },
          "execution_count": 78,
          "metadata": {},
          "output_type": "execute_result"
        }
      ],
      "source": [
        "tf.random.set_seed(42)\n",
        "inputs = layers.Input(shape=(WINDOW_SIZE))\n",
        "x = layers.Lambda(lambda x: tf.expand_dims(x, axis=1))(inputs) \n",
        "x = layers.LSTM(128, activation=\"relu\")(x) \n",
        "output = layers.Dense(HORIZON)(x)\n",
        "model_5 = tf.keras.Model(inputs=inputs, outputs=output, name=\"model_5_lstm\")\n",
        "\n",
        "\n",
        "model_5.compile(loss=\"mae\",\n",
        "                optimizer=tf.keras.optimizers.Adam())\n",
        "\n",
        "\n",
        "model_5.fit(train_windows,\n",
        "            train_labels,\n",
        "            epochs=100,\n",
        "            verbose=0,\n",
        "            batch_size=128,\n",
        "            validation_data=(test_windows, test_labels),\n",
        "            callbacks=[create_model_checkpoint(model_name=model_5.name)])"
      ]
    },
    {
      "cell_type": "code",
      "execution_count": 79,
      "metadata": {
        "colab": {
          "base_uri": "https://localhost:8080/"
        },
        "id": "cOpHqmEtSsNw",
        "outputId": "8071fad7-885c-40d6-a601-0dd333aab6e1"
      },
      "outputs": [
        {
          "name": "stdout",
          "output_type": "stream",
          "text": [
            "18/18 [==============================] - 0s 3ms/step - loss: 591.6340\n"
          ]
        },
        {
          "data": {
            "text/plain": [
              "591.6339721679688"
            ]
          },
          "execution_count": 79,
          "metadata": {},
          "output_type": "execute_result"
        }
      ],
      "source": [
        "model_5 = tf.keras.models.load_model(\"model_experiments/model_5_lstm/\")\n",
        "model_5.evaluate(test_windows, test_labels)"
      ]
    },
    {
      "cell_type": "code",
      "execution_count": 80,
      "metadata": {
        "colab": {
          "base_uri": "https://localhost:8080/"
        },
        "id": "yfG11v_51UWa",
        "outputId": "764915f3-48c2-4e64-b8a3-42867ea9eb0b"
      },
      "outputs": [
        {
          "data": {
            "text/plain": [
              "<tf.Tensor: shape=(10,), dtype=float32, numpy=\n",
              "array([8968.139 , 8806.982 , 9008.919 , 8826.417 , 8728.811 , 8789.618 ,\n",
              "       8726.521 , 8534.258 , 8507.6455, 8533.323 ], dtype=float32)>"
            ]
          },
          "execution_count": 80,
          "metadata": {},
          "output_type": "execute_result"
        }
      ],
      "source": [
        "# Make predictions with our LSTM model\n",
        "model_5_preds = make_preds(model_5, test_windows)\n",
        "model_5_preds[:10]"
      ]
    },
    {
      "cell_type": "code",
      "execution_count": 81,
      "metadata": {
        "colab": {
          "base_uri": "https://localhost:8080/"
        },
        "id": "sVv5Kg5N1axK",
        "outputId": "ef27748e-7980-4e94-af5a-b9f89840840a"
      },
      "outputs": [
        {
          "data": {
            "text/plain": [
              "{'mae': 591.6341,\n",
              " 'mse': 1254266.0,\n",
              " 'rmse': 1119.9402,\n",
              " 'mape': 2.6527543,\n",
              " 'mase': 1.0393373}"
            ]
          },
          "execution_count": 81,
          "metadata": {},
          "output_type": "execute_result"
        }
      ],
      "source": [
        "# Evaluate model 5 preds\n",
        "model_5_results = evaluate_preds(y_true=tf.squeeze(test_labels),\n",
        "                                 y_pred=model_5_preds)\n",
        "model_5_results"
      ]
    },
    {
      "cell_type": "code",
      "execution_count": 82,
      "metadata": {
        "colab": {
          "base_uri": "https://localhost:8080/",
          "height": 235
        },
        "id": "Z06o2ls4sSoF",
        "outputId": "f3e41f79-ead0-415a-f2a5-ec0574767e27"
      },
      "outputs": [
        {
          "data": {
            "text/html": [
              "<div>\n",
              "<style scoped>\n",
              "    .dataframe tbody tr th:only-of-type {\n",
              "        vertical-align: middle;\n",
              "    }\n",
              "\n",
              "    .dataframe tbody tr th {\n",
              "        vertical-align: top;\n",
              "    }\n",
              "\n",
              "    .dataframe thead th {\n",
              "        text-align: right;\n",
              "    }\n",
              "</style>\n",
              "<table border=\"1\" class=\"dataframe\">\n",
              "  <thead>\n",
              "    <tr style=\"text-align: right;\">\n",
              "      <th></th>\n",
              "      <th>Price</th>\n",
              "    </tr>\n",
              "    <tr>\n",
              "      <th>Date</th>\n",
              "      <th></th>\n",
              "    </tr>\n",
              "  </thead>\n",
              "  <tbody>\n",
              "    <tr>\n",
              "      <th>2013-10-01</th>\n",
              "      <td>123.65499</td>\n",
              "    </tr>\n",
              "    <tr>\n",
              "      <th>2013-10-02</th>\n",
              "      <td>125.45500</td>\n",
              "    </tr>\n",
              "    <tr>\n",
              "      <th>2013-10-03</th>\n",
              "      <td>108.58483</td>\n",
              "    </tr>\n",
              "    <tr>\n",
              "      <th>2013-10-04</th>\n",
              "      <td>118.67466</td>\n",
              "    </tr>\n",
              "    <tr>\n",
              "      <th>2013-10-05</th>\n",
              "      <td>121.33866</td>\n",
              "    </tr>\n",
              "  </tbody>\n",
              "</table>\n",
              "</div>"
            ],
            "text/plain": [
              "                Price\n",
              "Date                 \n",
              "2013-10-01  123.65499\n",
              "2013-10-02  125.45500\n",
              "2013-10-03  108.58483\n",
              "2013-10-04  118.67466\n",
              "2013-10-05  121.33866"
            ]
          },
          "execution_count": 82,
          "metadata": {},
          "output_type": "execute_result"
        }
      ],
      "source": [
        "# Let's make a multivariate time series\n",
        "bitcoin_prices.head()"
      ]
    },
    {
      "cell_type": "code",
      "execution_count": 83,
      "metadata": {
        "id": "HrUKQXnssWHt"
      },
      "outputs": [],
      "source": [
        "block_reward_1 = 50 # 3 January 2009 (2009-01-03) - this block reward isn't in our dataset (it starts from 01 October 2013)\n",
        "block_reward_2 = 25 # 28 November 2012 \n",
        "block_reward_3 = 12.5 # 9 July 2016\n",
        "block_reward_4 = 6.25 # 11 May 2020\n",
        "\n",
        "block_reward_2_datetime = np.datetime64(\"2012-11-28\")\n",
        "block_reward_3_datetime = np.datetime64(\"2016-07-09\")\n",
        "block_reward_4_datetime = np.datetime64(\"2020-05-11\")"
      ]
    },
    {
      "cell_type": "code",
      "execution_count": 84,
      "metadata": {
        "colab": {
          "base_uri": "https://localhost:8080/"
        },
        "id": "jmawWFj9udzC",
        "outputId": "c2796842-b9fa-4d12-9005-1534216a2cd5"
      },
      "outputs": [
        {
          "data": {
            "text/plain": [
              "(1012, 2414)"
            ]
          },
          "execution_count": 84,
          "metadata": {},
          "output_type": "execute_result"
        }
      ],
      "source": [
        "# Get date indexes for when to add in different block dates\n",
        "block_reward_2_days = (block_reward_3_datetime - bitcoin_prices.index[0]).days\n",
        "block_reward_3_days = (block_reward_4_datetime - bitcoin_prices.index[0]).days\n",
        "block_reward_2_days, block_reward_3_days"
      ]
    },
    {
      "cell_type": "code",
      "execution_count": 85,
      "metadata": {
        "colab": {
          "base_uri": "https://localhost:8080/",
          "height": 235
        },
        "id": "BM9zRZDQvw7m",
        "outputId": "aee83cc1-58e7-4521-a6d6-c6d37e9dbffa"
      },
      "outputs": [
        {
          "data": {
            "text/html": [
              "<div>\n",
              "<style scoped>\n",
              "    .dataframe tbody tr th:only-of-type {\n",
              "        vertical-align: middle;\n",
              "    }\n",
              "\n",
              "    .dataframe tbody tr th {\n",
              "        vertical-align: top;\n",
              "    }\n",
              "\n",
              "    .dataframe thead th {\n",
              "        text-align: right;\n",
              "    }\n",
              "</style>\n",
              "<table border=\"1\" class=\"dataframe\">\n",
              "  <thead>\n",
              "    <tr style=\"text-align: right;\">\n",
              "      <th></th>\n",
              "      <th>Price</th>\n",
              "      <th>block_reward</th>\n",
              "    </tr>\n",
              "    <tr>\n",
              "      <th>Date</th>\n",
              "      <th></th>\n",
              "      <th></th>\n",
              "    </tr>\n",
              "  </thead>\n",
              "  <tbody>\n",
              "    <tr>\n",
              "      <th>2013-10-01</th>\n",
              "      <td>123.65499</td>\n",
              "      <td>25</td>\n",
              "    </tr>\n",
              "    <tr>\n",
              "      <th>2013-10-02</th>\n",
              "      <td>125.45500</td>\n",
              "      <td>25</td>\n",
              "    </tr>\n",
              "    <tr>\n",
              "      <th>2013-10-03</th>\n",
              "      <td>108.58483</td>\n",
              "      <td>25</td>\n",
              "    </tr>\n",
              "    <tr>\n",
              "      <th>2013-10-04</th>\n",
              "      <td>118.67466</td>\n",
              "      <td>25</td>\n",
              "    </tr>\n",
              "    <tr>\n",
              "      <th>2013-10-05</th>\n",
              "      <td>121.33866</td>\n",
              "      <td>25</td>\n",
              "    </tr>\n",
              "  </tbody>\n",
              "</table>\n",
              "</div>"
            ],
            "text/plain": [
              "                Price block_reward\n",
              "Date                              \n",
              "2013-10-01  123.65499           25\n",
              "2013-10-02  125.45500           25\n",
              "2013-10-03  108.58483           25\n",
              "2013-10-04  118.67466           25\n",
              "2013-10-05  121.33866           25"
            ]
          },
          "execution_count": 85,
          "metadata": {},
          "output_type": "execute_result"
        }
      ],
      "source": [
        "# Add block_reward column\n",
        "bitcoin_prices_block = bitcoin_prices.copy()\n",
        "bitcoin_prices_block[\"block_reward\"] = None\n",
        "\n",
        "# Set values of block_reward column (it's the last column hence -1 indexing on iloc)\n",
        "bitcoin_prices_block.iloc[:block_reward_2_days, -1] = block_reward_2\n",
        "bitcoin_prices_block.iloc[block_reward_2_days:block_reward_3_days, -1] = block_reward_3\n",
        "bitcoin_prices_block.iloc[block_reward_3_days:, -1] = block_reward_4\n",
        "bitcoin_prices_block.head()"
      ]
    },
    {
      "cell_type": "code",
      "execution_count": 86,
      "metadata": {
        "colab": {
          "base_uri": "https://localhost:8080/",
          "height": 442
        },
        "id": "Tfh8dmtF46Lf",
        "outputId": "f0cfd814-564f-47c9-a3c5-a77272e6c12c"
      },
      "outputs": [
        {
          "data": {
            "image/png": "[encoded data removed]",
            "text/plain": [
              "<Figure size 720x504 with 1 Axes>"
            ]
          },
          "metadata": {
            "needs_background": "light"
          },
          "output_type": "display_data"
        }
      ],
      "source": [
        "from sklearn.preprocessing import minmax_scale\n",
        "scaled_price_block_df = pd.DataFrame(minmax_scale(bitcoin_prices_block[[\"Price\", \"block_reward\"]]), # we need to scale the data first\n",
        "                                     columns=bitcoin_prices_block.columns,\n",
        "                                     index=bitcoin_prices_block.index)\n",
        "scaled_price_block_df.plot(figsize=(10, 7));"
      ]
    },
    {
      "cell_type": "code",
      "execution_count": 87,
      "metadata": {
        "id": "8_9iFxKS8Sed"
      },
      "outputs": [],
      "source": [
        "# Setup dataset hyperparameters\n",
        "HORIZON = 1\n",
        "WINDOW_SIZE = 7"
      ]
    },
    {
      "cell_type": "code",
      "execution_count": 88,
      "metadata": {
        "colab": {
          "base_uri": "https://localhost:8080/",
          "height": 390
        },
        "id": "DqPp3HdHsXO8",
        "outputId": "82838ef8-9ee5-4967-bfd0-25a5e8a72eef"
      },
      "outputs": [
        {
          "data": {
            "text/html": [
              "<div>\n",
              "<style scoped>\n",
              "    .dataframe tbody tr th:only-of-type {\n",
              "        vertical-align: middle;\n",
              "    }\n",
              "\n",
              "    .dataframe tbody tr th {\n",
              "        vertical-align: top;\n",
              "    }\n",
              "\n",
              "    .dataframe thead th {\n",
              "        text-align: right;\n",
              "    }\n",
              "</style>\n",
              "<table border=\"1\" class=\"dataframe\">\n",
              "  <thead>\n",
              "    <tr style=\"text-align: right;\">\n",
              "      <th></th>\n",
              "      <th>Price</th>\n",
              "      <th>block_reward</th>\n",
              "      <th>Price+1</th>\n",
              "      <th>Price+2</th>\n",
              "      <th>Price+3</th>\n",
              "      <th>Price+4</th>\n",
              "      <th>Price+5</th>\n",
              "      <th>Price+6</th>\n",
              "      <th>Price+7</th>\n",
              "    </tr>\n",
              "    <tr>\n",
              "      <th>Date</th>\n",
              "      <th></th>\n",
              "      <th></th>\n",
              "      <th></th>\n",
              "      <th></th>\n",
              "      <th></th>\n",
              "      <th></th>\n",
              "      <th></th>\n",
              "      <th></th>\n",
              "      <th></th>\n",
              "    </tr>\n",
              "  </thead>\n",
              "  <tbody>\n",
              "    <tr>\n",
              "      <th>2013-10-01</th>\n",
              "      <td>123.65499</td>\n",
              "      <td>25</td>\n",
              "      <td>NaN</td>\n",
              "      <td>NaN</td>\n",
              "      <td>NaN</td>\n",
              "      <td>NaN</td>\n",
              "      <td>NaN</td>\n",
              "      <td>NaN</td>\n",
              "      <td>NaN</td>\n",
              "    </tr>\n",
              "    <tr>\n",
              "      <th>2013-10-02</th>\n",
              "      <td>125.45500</td>\n",
              "      <td>25</td>\n",
              "      <td>123.65499</td>\n",
              "      <td>NaN</td>\n",
              "      <td>NaN</td>\n",
              "      <td>NaN</td>\n",
              "      <td>NaN</td>\n",
              "      <td>NaN</td>\n",
              "      <td>NaN</td>\n",
              "    </tr>\n",
              "    <tr>\n",
              "      <th>2013-10-03</th>\n",
              "      <td>108.58483</td>\n",
              "      <td>25</td>\n",
              "      <td>125.45500</td>\n",
              "      <td>123.65499</td>\n",
              "      <td>NaN</td>\n",
              "      <td>NaN</td>\n",
              "      <td>NaN</td>\n",
              "      <td>NaN</td>\n",
              "      <td>NaN</td>\n",
              "    </tr>\n",
              "    <tr>\n",
              "      <th>2013-10-04</th>\n",
              "      <td>118.67466</td>\n",
              "      <td>25</td>\n",
              "      <td>108.58483</td>\n",
              "      <td>125.45500</td>\n",
              "      <td>123.65499</td>\n",
              "      <td>NaN</td>\n",
              "      <td>NaN</td>\n",
              "      <td>NaN</td>\n",
              "      <td>NaN</td>\n",
              "    </tr>\n",
              "    <tr>\n",
              "      <th>2013-10-05</th>\n",
              "      <td>121.33866</td>\n",
              "      <td>25</td>\n",
              "      <td>118.67466</td>\n",
              "      <td>108.58483</td>\n",
              "      <td>125.45500</td>\n",
              "      <td>123.65499</td>\n",
              "      <td>NaN</td>\n",
              "      <td>NaN</td>\n",
              "      <td>NaN</td>\n",
              "    </tr>\n",
              "    <tr>\n",
              "      <th>2013-10-06</th>\n",
              "      <td>120.65533</td>\n",
              "      <td>25</td>\n",
              "      <td>121.33866</td>\n",
              "      <td>118.67466</td>\n",
              "      <td>108.58483</td>\n",
              "      <td>125.45500</td>\n",
              "      <td>123.65499</td>\n",
              "      <td>NaN</td>\n",
              "      <td>NaN</td>\n",
              "    </tr>\n",
              "    <tr>\n",
              "      <th>2013-10-07</th>\n",
              "      <td>121.79500</td>\n",
              "      <td>25</td>\n",
              "      <td>120.65533</td>\n",
              "      <td>121.33866</td>\n",
              "      <td>118.67466</td>\n",
              "      <td>108.58483</td>\n",
              "      <td>125.45500</td>\n",
              "      <td>123.65499</td>\n",
              "      <td>NaN</td>\n",
              "    </tr>\n",
              "    <tr>\n",
              "      <th>2013-10-08</th>\n",
              "      <td>123.03300</td>\n",
              "      <td>25</td>\n",
              "      <td>121.79500</td>\n",
              "      <td>120.65533</td>\n",
              "      <td>121.33866</td>\n",
              "      <td>118.67466</td>\n",
              "      <td>108.58483</td>\n",
              "      <td>125.45500</td>\n",
              "      <td>123.65499</td>\n",
              "    </tr>\n",
              "    <tr>\n",
              "      <th>2013-10-09</th>\n",
              "      <td>124.04900</td>\n",
              "      <td>25</td>\n",
              "      <td>123.03300</td>\n",
              "      <td>121.79500</td>\n",
              "      <td>120.65533</td>\n",
              "      <td>121.33866</td>\n",
              "      <td>118.67466</td>\n",
              "      <td>108.58483</td>\n",
              "      <td>125.45500</td>\n",
              "    </tr>\n",
              "    <tr>\n",
              "      <th>2013-10-10</th>\n",
              "      <td>125.96116</td>\n",
              "      <td>25</td>\n",
              "      <td>124.04900</td>\n",
              "      <td>123.03300</td>\n",
              "      <td>121.79500</td>\n",
              "      <td>120.65533</td>\n",
              "      <td>121.33866</td>\n",
              "      <td>118.67466</td>\n",
              "      <td>108.58483</td>\n",
              "    </tr>\n",
              "  </tbody>\n",
              "</table>\n",
              "</div>"
            ],
            "text/plain": [
              "                Price block_reward    Price+1    Price+2    Price+3  \\\n",
              "Date                                                                  \n",
              "2013-10-01  123.65499           25        NaN        NaN        NaN   \n",
              "2013-10-02  125.45500           25  123.65499        NaN        NaN   \n",
              "2013-10-03  108.58483           25  125.45500  123.65499        NaN   \n",
              "2013-10-04  118.67466           25  108.58483  125.45500  123.65499   \n",
              "2013-10-05  121.33866           25  118.67466  108.58483  125.45500   \n",
              "2013-10-06  120.65533           25  121.33866  118.67466  108.58483   \n",
              "2013-10-07  121.79500           25  120.65533  121.33866  118.67466   \n",
              "2013-10-08  123.03300           25  121.79500  120.65533  121.33866   \n",
              "2013-10-09  124.04900           25  123.03300  121.79500  120.65533   \n",
              "2013-10-10  125.96116           25  124.04900  123.03300  121.79500   \n",
              "\n",
              "              Price+4    Price+5    Price+6    Price+7  \n",
              "Date                                                    \n",
              "2013-10-01        NaN        NaN        NaN        NaN  \n",
              "2013-10-02        NaN        NaN        NaN        NaN  \n",
              "2013-10-03        NaN        NaN        NaN        NaN  \n",
              "2013-10-04        NaN        NaN        NaN        NaN  \n",
              "2013-10-05  123.65499        NaN        NaN        NaN  \n",
              "2013-10-06  125.45500  123.65499        NaN        NaN  \n",
              "2013-10-07  108.58483  125.45500  123.65499        NaN  \n",
              "2013-10-08  118.67466  108.58483  125.45500  123.65499  \n",
              "2013-10-09  121.33866  118.67466  108.58483  125.45500  \n",
              "2013-10-10  120.65533  121.33866  118.67466  108.58483  "
            ]
          },
          "execution_count": 88,
          "metadata": {},
          "output_type": "execute_result"
        }
      ],
      "source": [
        "# Make a copy of the Bitcoin historical data with block reward feature\n",
        "bitcoin_prices_windowed = bitcoin_prices_block.copy()\n",
        "\n",
        "# Add windowed columns\n",
        "for i in range(WINDOW_SIZE): # Shift values for each step in WINDOW_SIZE\n",
        "  bitcoin_prices_windowed[f\"Price+{i+1}\"] = bitcoin_prices_windowed[\"Price\"].shift(periods=i+1)\n",
        "bitcoin_prices_windowed.head(10)"
      ]
    },
    {
      "cell_type": "code",
      "execution_count": 89,
      "metadata": {
        "colab": {
          "base_uri": "https://localhost:8080/",
          "height": 235
        },
        "id": "VpMH6_Dax2wJ",
        "outputId": "a03fbc0d-3bd4-499a-c1f0-7305450ae580"
      },
      "outputs": [
        {
          "data": {
            "text/html": [
              "<div>\n",
              "<style scoped>\n",
              "    .dataframe tbody tr th:only-of-type {\n",
              "        vertical-align: middle;\n",
              "    }\n",
              "\n",
              "    .dataframe tbody tr th {\n",
              "        vertical-align: top;\n",
              "    }\n",
              "\n",
              "    .dataframe thead th {\n",
              "        text-align: right;\n",
              "    }\n",
              "</style>\n",
              "<table border=\"1\" class=\"dataframe\">\n",
              "  <thead>\n",
              "    <tr style=\"text-align: right;\">\n",
              "      <th></th>\n",
              "      <th>block_reward</th>\n",
              "      <th>Price+1</th>\n",
              "      <th>Price+2</th>\n",
              "      <th>Price+3</th>\n",
              "      <th>Price+4</th>\n",
              "      <th>Price+5</th>\n",
              "      <th>Price+6</th>\n",
              "      <th>Price+7</th>\n",
              "    </tr>\n",
              "    <tr>\n",
              "      <th>Date</th>\n",
              "      <th></th>\n",
              "      <th></th>\n",
              "      <th></th>\n",
              "      <th></th>\n",
              "      <th></th>\n",
              "      <th></th>\n",
              "      <th></th>\n",
              "      <th></th>\n",
              "    </tr>\n",
              "  </thead>\n",
              "  <tbody>\n",
              "    <tr>\n",
              "      <th>2013-10-08</th>\n",
              "      <td>25.0</td>\n",
              "      <td>121.794998</td>\n",
              "      <td>120.655327</td>\n",
              "      <td>121.338661</td>\n",
              "      <td>118.674660</td>\n",
              "      <td>108.584831</td>\n",
              "      <td>125.455002</td>\n",
              "      <td>123.654991</td>\n",
              "    </tr>\n",
              "    <tr>\n",
              "      <th>2013-10-09</th>\n",
              "      <td>25.0</td>\n",
              "      <td>123.032997</td>\n",
              "      <td>121.794998</td>\n",
              "      <td>120.655327</td>\n",
              "      <td>121.338661</td>\n",
              "      <td>118.674660</td>\n",
              "      <td>108.584831</td>\n",
              "      <td>125.455002</td>\n",
              "    </tr>\n",
              "    <tr>\n",
              "      <th>2013-10-10</th>\n",
              "      <td>25.0</td>\n",
              "      <td>124.049004</td>\n",
              "      <td>123.032997</td>\n",
              "      <td>121.794998</td>\n",
              "      <td>120.655327</td>\n",
              "      <td>121.338661</td>\n",
              "      <td>118.674660</td>\n",
              "      <td>108.584831</td>\n",
              "    </tr>\n",
              "    <tr>\n",
              "      <th>2013-10-11</th>\n",
              "      <td>25.0</td>\n",
              "      <td>125.961159</td>\n",
              "      <td>124.049004</td>\n",
              "      <td>123.032997</td>\n",
              "      <td>121.794998</td>\n",
              "      <td>120.655327</td>\n",
              "      <td>121.338661</td>\n",
              "      <td>118.674660</td>\n",
              "    </tr>\n",
              "    <tr>\n",
              "      <th>2013-10-12</th>\n",
              "      <td>25.0</td>\n",
              "      <td>125.279663</td>\n",
              "      <td>125.961159</td>\n",
              "      <td>124.049004</td>\n",
              "      <td>123.032997</td>\n",
              "      <td>121.794998</td>\n",
              "      <td>120.655327</td>\n",
              "      <td>121.338661</td>\n",
              "    </tr>\n",
              "  </tbody>\n",
              "</table>\n",
              "</div>"
            ],
            "text/plain": [
              "            block_reward     Price+1     Price+2     Price+3     Price+4  \\\n",
              "Date                                                                       \n",
              "2013-10-08          25.0  121.794998  120.655327  121.338661  118.674660   \n",
              "2013-10-09          25.0  123.032997  121.794998  120.655327  121.338661   \n",
              "2013-10-10          25.0  124.049004  123.032997  121.794998  120.655327   \n",
              "2013-10-11          25.0  125.961159  124.049004  123.032997  121.794998   \n",
              "2013-10-12          25.0  125.279663  125.961159  124.049004  123.032997   \n",
              "\n",
              "               Price+5     Price+6     Price+7  \n",
              "Date                                            \n",
              "2013-10-08  108.584831  125.455002  123.654991  \n",
              "2013-10-09  118.674660  108.584831  125.455002  \n",
              "2013-10-10  121.338661  118.674660  108.584831  \n",
              "2013-10-11  120.655327  121.338661  118.674660  \n",
              "2013-10-12  121.794998  120.655327  121.338661  "
            ]
          },
          "execution_count": 89,
          "metadata": {},
          "output_type": "execute_result"
        }
      ],
      "source": [
        "# Let's create X & y, remove the NaN's and convert to float32 to prevent TensorFlow errors \n",
        "X = bitcoin_prices_windowed.dropna().drop(\"Price\", axis=1).astype(np.float32) \n",
        "y = bitcoin_prices_windowed.dropna()[\"Price\"].astype(np.float32)\n",
        "X.head()"
      ]
    },
    {
      "cell_type": "code",
      "execution_count": 90,
      "metadata": {
        "colab": {
          "base_uri": "https://localhost:8080/"
        },
        "id": "5k_UmcPqzTmm",
        "outputId": "67ecadc5-dff4-404a-efe6-e02a6f7c6288"
      },
      "outputs": [
        {
          "data": {
            "text/plain": [
              "Date\n",
              "2013-10-08    123.032997\n",
              "2013-10-09    124.049004\n",
              "2013-10-10    125.961159\n",
              "2013-10-11    125.279663\n",
              "2013-10-12    125.927498\n",
              "Name: Price, dtype: float32"
            ]
          },
          "execution_count": 90,
          "metadata": {},
          "output_type": "execute_result"
        }
      ],
      "source": [
        "# View labels\n",
        "y.head()"
      ]
    },
    {
      "cell_type": "code",
      "execution_count": 91,
      "metadata": {
        "colab": {
          "base_uri": "https://localhost:8080/"
        },
        "id": "8GtEFj6HsVwy",
        "outputId": "bd1458e0-814f-4150-938c-7931cd6c1bee"
      },
      "outputs": [
        {
          "data": {
            "text/plain": [
              "(2224, 2224, 556, 556)"
            ]
          },
          "execution_count": 91,
          "metadata": {},
          "output_type": "execute_result"
        }
      ],
      "source": [
        "# Make train and test sets\n",
        "split_size = int(len(X) * 0.8)\n",
        "X_train, y_train = X[:split_size], y[:split_size]\n",
        "X_test, y_test = X[split_size:], y[split_size:]\n",
        "len(X_train), len(y_train), len(X_test), len(y_test)"
      ]
    },
    {
      "cell_type": "markdown",
      "metadata": {
        "id": "APXrtOva8cNH"
      },
      "source": [
        "## Model 6: Dense (multivariate time series)"
      ]
    },
    {
      "cell_type": "code",
      "execution_count": 92,
      "metadata": {
        "colab": {
          "base_uri": "https://localhost:8080/"
        },
        "id": "AppTkPafzVyg",
        "outputId": "30916a1e-ded9-42d5-b295-6e7e72da7346"
      },
      "outputs": [
        {
          "name": "stdout",
          "output_type": "stream",
          "text": [
            "INFO:tensorflow:Assets written to: model_experiments\\model_6_dense_multivariate\\assets\n"
          ]
        },
        {
          "name": "stderr",
          "output_type": "stream",
          "text": [
            "INFO:tensorflow:Assets written to: model_experiments\\model_6_dense_multivariate\\assets\n"
          ]
        },
        {
          "name": "stdout",
          "output_type": "stream",
          "text": [
            "INFO:tensorflow:Assets written to: model_experiments\\model_6_dense_multivariate\\assets\n"
          ]
        },
        {
          "name": "stderr",
          "output_type": "stream",
          "text": [
            "INFO:tensorflow:Assets written to: model_experiments\\model_6_dense_multivariate\\assets\n"
          ]
        },
        {
          "name": "stdout",
          "output_type": "stream",
          "text": [
            "INFO:tensorflow:Assets written to: model_experiments\\model_6_dense_multivariate\\assets\n"
          ]
        },
        {
          "name": "stderr",
          "output_type": "stream",
          "text": [
            "INFO:tensorflow:Assets written to: model_experiments\\model_6_dense_multivariate\\assets\n"
          ]
        },
        {
          "name": "stdout",
          "output_type": "stream",
          "text": [
            "INFO:tensorflow:Assets written to: model_experiments\\model_6_dense_multivariate\\assets\n"
          ]
        },
        {
          "name": "stderr",
          "output_type": "stream",
          "text": [
            "INFO:tensorflow:Assets written to: model_experiments\\model_6_dense_multivariate\\assets\n"
          ]
        },
        {
          "name": "stdout",
          "output_type": "stream",
          "text": [
            "INFO:tensorflow:Assets written to: model_experiments\\model_6_dense_multivariate\\assets\n"
          ]
        },
        {
          "name": "stderr",
          "output_type": "stream",
          "text": [
            "INFO:tensorflow:Assets written to: model_experiments\\model_6_dense_multivariate\\assets\n"
          ]
        },
        {
          "name": "stdout",
          "output_type": "stream",
          "text": [
            "INFO:tensorflow:Assets written to: model_experiments\\model_6_dense_multivariate\\assets\n"
          ]
        },
        {
          "name": "stderr",
          "output_type": "stream",
          "text": [
            "INFO:tensorflow:Assets written to: model_experiments\\model_6_dense_multivariate\\assets\n"
          ]
        },
        {
          "name": "stdout",
          "output_type": "stream",
          "text": [
            "INFO:tensorflow:Assets written to: model_experiments\\model_6_dense_multivariate\\assets\n"
          ]
        },
        {
          "name": "stderr",
          "output_type": "stream",
          "text": [
            "INFO:tensorflow:Assets written to: model_experiments\\model_6_dense_multivariate\\assets\n"
          ]
        },
        {
          "name": "stdout",
          "output_type": "stream",
          "text": [
            "INFO:tensorflow:Assets written to: model_experiments\\model_6_dense_multivariate\\assets\n"
          ]
        },
        {
          "name": "stderr",
          "output_type": "stream",
          "text": [
            "INFO:tensorflow:Assets written to: model_experiments\\model_6_dense_multivariate\\assets\n"
          ]
        },
        {
          "name": "stdout",
          "output_type": "stream",
          "text": [
            "INFO:tensorflow:Assets written to: model_experiments\\model_6_dense_multivariate\\assets\n"
          ]
        },
        {
          "name": "stderr",
          "output_type": "stream",
          "text": [
            "INFO:tensorflow:Assets written to: model_experiments\\model_6_dense_multivariate\\assets\n"
          ]
        },
        {
          "name": "stdout",
          "output_type": "stream",
          "text": [
            "INFO:tensorflow:Assets written to: model_experiments\\model_6_dense_multivariate\\assets\n"
          ]
        },
        {
          "name": "stderr",
          "output_type": "stream",
          "text": [
            "INFO:tensorflow:Assets written to: model_experiments\\model_6_dense_multivariate\\assets\n"
          ]
        },
        {
          "name": "stdout",
          "output_type": "stream",
          "text": [
            "INFO:tensorflow:Assets written to: model_experiments\\model_6_dense_multivariate\\assets\n"
          ]
        },
        {
          "name": "stderr",
          "output_type": "stream",
          "text": [
            "INFO:tensorflow:Assets written to: model_experiments\\model_6_dense_multivariate\\assets\n"
          ]
        },
        {
          "name": "stdout",
          "output_type": "stream",
          "text": [
            "INFO:tensorflow:Assets written to: model_experiments\\model_6_dense_multivariate\\assets\n"
          ]
        },
        {
          "name": "stderr",
          "output_type": "stream",
          "text": [
            "INFO:tensorflow:Assets written to: model_experiments\\model_6_dense_multivariate\\assets\n"
          ]
        },
        {
          "name": "stdout",
          "output_type": "stream",
          "text": [
            "INFO:tensorflow:Assets written to: model_experiments\\model_6_dense_multivariate\\assets\n"
          ]
        },
        {
          "name": "stderr",
          "output_type": "stream",
          "text": [
            "INFO:tensorflow:Assets written to: model_experiments\\model_6_dense_multivariate\\assets\n"
          ]
        },
        {
          "name": "stdout",
          "output_type": "stream",
          "text": [
            "INFO:tensorflow:Assets written to: model_experiments\\model_6_dense_multivariate\\assets\n"
          ]
        },
        {
          "name": "stderr",
          "output_type": "stream",
          "text": [
            "INFO:tensorflow:Assets written to: model_experiments\\model_6_dense_multivariate\\assets\n"
          ]
        },
        {
          "name": "stdout",
          "output_type": "stream",
          "text": [
            "INFO:tensorflow:Assets written to: model_experiments\\model_6_dense_multivariate\\assets\n"
          ]
        },
        {
          "name": "stderr",
          "output_type": "stream",
          "text": [
            "INFO:tensorflow:Assets written to: model_experiments\\model_6_dense_multivariate\\assets\n"
          ]
        },
        {
          "name": "stdout",
          "output_type": "stream",
          "text": [
            "INFO:tensorflow:Assets written to: model_experiments\\model_6_dense_multivariate\\assets\n"
          ]
        },
        {
          "name": "stderr",
          "output_type": "stream",
          "text": [
            "INFO:tensorflow:Assets written to: model_experiments\\model_6_dense_multivariate\\assets\n"
          ]
        },
        {
          "name": "stdout",
          "output_type": "stream",
          "text": [
            "INFO:tensorflow:Assets written to: model_experiments\\model_6_dense_multivariate\\assets\n"
          ]
        },
        {
          "name": "stderr",
          "output_type": "stream",
          "text": [
            "INFO:tensorflow:Assets written to: model_experiments\\model_6_dense_multivariate\\assets\n"
          ]
        },
        {
          "name": "stdout",
          "output_type": "stream",
          "text": [
            "INFO:tensorflow:Assets written to: model_experiments\\model_6_dense_multivariate\\assets\n"
          ]
        },
        {
          "name": "stderr",
          "output_type": "stream",
          "text": [
            "INFO:tensorflow:Assets written to: model_experiments\\model_6_dense_multivariate\\assets\n"
          ]
        },
        {
          "name": "stdout",
          "output_type": "stream",
          "text": [
            "INFO:tensorflow:Assets written to: model_experiments\\model_6_dense_multivariate\\assets\n"
          ]
        },
        {
          "name": "stderr",
          "output_type": "stream",
          "text": [
            "INFO:tensorflow:Assets written to: model_experiments\\model_6_dense_multivariate\\assets\n"
          ]
        },
        {
          "name": "stdout",
          "output_type": "stream",
          "text": [
            "INFO:tensorflow:Assets written to: model_experiments\\model_6_dense_multivariate\\assets\n"
          ]
        },
        {
          "name": "stderr",
          "output_type": "stream",
          "text": [
            "INFO:tensorflow:Assets written to: model_experiments\\model_6_dense_multivariate\\assets\n"
          ]
        },
        {
          "name": "stdout",
          "output_type": "stream",
          "text": [
            "INFO:tensorflow:Assets written to: model_experiments\\model_6_dense_multivariate\\assets\n"
          ]
        },
        {
          "name": "stderr",
          "output_type": "stream",
          "text": [
            "INFO:tensorflow:Assets written to: model_experiments\\model_6_dense_multivariate\\assets\n"
          ]
        },
        {
          "name": "stdout",
          "output_type": "stream",
          "text": [
            "INFO:tensorflow:Assets written to: model_experiments\\model_6_dense_multivariate\\assets\n"
          ]
        },
        {
          "name": "stderr",
          "output_type": "stream",
          "text": [
            "INFO:tensorflow:Assets written to: model_experiments\\model_6_dense_multivariate\\assets\n"
          ]
        },
        {
          "name": "stdout",
          "output_type": "stream",
          "text": [
            "INFO:tensorflow:Assets written to: model_experiments\\model_6_dense_multivariate\\assets\n"
          ]
        },
        {
          "name": "stderr",
          "output_type": "stream",
          "text": [
            "INFO:tensorflow:Assets written to: model_experiments\\model_6_dense_multivariate\\assets\n"
          ]
        },
        {
          "name": "stdout",
          "output_type": "stream",
          "text": [
            "INFO:tensorflow:Assets written to: model_experiments\\model_6_dense_multivariate\\assets\n"
          ]
        },
        {
          "name": "stderr",
          "output_type": "stream",
          "text": [
            "INFO:tensorflow:Assets written to: model_experiments\\model_6_dense_multivariate\\assets\n"
          ]
        },
        {
          "name": "stdout",
          "output_type": "stream",
          "text": [
            "INFO:tensorflow:Assets written to: model_experiments\\model_6_dense_multivariate\\assets\n"
          ]
        },
        {
          "name": "stderr",
          "output_type": "stream",
          "text": [
            "INFO:tensorflow:Assets written to: model_experiments\\model_6_dense_multivariate\\assets\n"
          ]
        },
        {
          "name": "stdout",
          "output_type": "stream",
          "text": [
            "INFO:tensorflow:Assets written to: model_experiments\\model_6_dense_multivariate\\assets\n"
          ]
        },
        {
          "name": "stderr",
          "output_type": "stream",
          "text": [
            "INFO:tensorflow:Assets written to: model_experiments\\model_6_dense_multivariate\\assets\n"
          ]
        },
        {
          "name": "stdout",
          "output_type": "stream",
          "text": [
            "INFO:tensorflow:Assets written to: model_experiments\\model_6_dense_multivariate\\assets\n"
          ]
        },
        {
          "name": "stderr",
          "output_type": "stream",
          "text": [
            "INFO:tensorflow:Assets written to: model_experiments\\model_6_dense_multivariate\\assets\n"
          ]
        },
        {
          "name": "stdout",
          "output_type": "stream",
          "text": [
            "INFO:tensorflow:Assets written to: model_experiments\\model_6_dense_multivariate\\assets\n"
          ]
        },
        {
          "name": "stderr",
          "output_type": "stream",
          "text": [
            "INFO:tensorflow:Assets written to: model_experiments\\model_6_dense_multivariate\\assets\n"
          ]
        },
        {
          "name": "stdout",
          "output_type": "stream",
          "text": [
            "INFO:tensorflow:Assets written to: model_experiments\\model_6_dense_multivariate\\assets\n"
          ]
        },
        {
          "name": "stderr",
          "output_type": "stream",
          "text": [
            "INFO:tensorflow:Assets written to: model_experiments\\model_6_dense_multivariate\\assets\n"
          ]
        },
        {
          "name": "stdout",
          "output_type": "stream",
          "text": [
            "INFO:tensorflow:Assets written to: model_experiments\\model_6_dense_multivariate\\assets\n"
          ]
        },
        {
          "name": "stderr",
          "output_type": "stream",
          "text": [
            "INFO:tensorflow:Assets written to: model_experiments\\model_6_dense_multivariate\\assets\n"
          ]
        },
        {
          "name": "stdout",
          "output_type": "stream",
          "text": [
            "INFO:tensorflow:Assets written to: model_experiments\\model_6_dense_multivariate\\assets\n"
          ]
        },
        {
          "name": "stderr",
          "output_type": "stream",
          "text": [
            "INFO:tensorflow:Assets written to: model_experiments\\model_6_dense_multivariate\\assets\n"
          ]
        },
        {
          "name": "stdout",
          "output_type": "stream",
          "text": [
            "INFO:tensorflow:Assets written to: model_experiments\\model_6_dense_multivariate\\assets\n"
          ]
        },
        {
          "name": "stderr",
          "output_type": "stream",
          "text": [
            "INFO:tensorflow:Assets written to: model_experiments\\model_6_dense_multivariate\\assets\n"
          ]
        },
        {
          "name": "stdout",
          "output_type": "stream",
          "text": [
            "INFO:tensorflow:Assets written to: model_experiments\\model_6_dense_multivariate\\assets\n"
          ]
        },
        {
          "name": "stderr",
          "output_type": "stream",
          "text": [
            "INFO:tensorflow:Assets written to: model_experiments\\model_6_dense_multivariate\\assets\n"
          ]
        },
        {
          "name": "stdout",
          "output_type": "stream",
          "text": [
            "INFO:tensorflow:Assets written to: model_experiments\\model_6_dense_multivariate\\assets\n"
          ]
        },
        {
          "name": "stderr",
          "output_type": "stream",
          "text": [
            "INFO:tensorflow:Assets written to: model_experiments\\model_6_dense_multivariate\\assets\n"
          ]
        },
        {
          "name": "stdout",
          "output_type": "stream",
          "text": [
            "INFO:tensorflow:Assets written to: model_experiments\\model_6_dense_multivariate\\assets\n"
          ]
        },
        {
          "name": "stderr",
          "output_type": "stream",
          "text": [
            "INFO:tensorflow:Assets written to: model_experiments\\model_6_dense_multivariate\\assets\n"
          ]
        },
        {
          "name": "stdout",
          "output_type": "stream",
          "text": [
            "INFO:tensorflow:Assets written to: model_experiments\\model_6_dense_multivariate\\assets\n"
          ]
        },
        {
          "name": "stderr",
          "output_type": "stream",
          "text": [
            "INFO:tensorflow:Assets written to: model_experiments\\model_6_dense_multivariate\\assets\n"
          ]
        },
        {
          "name": "stdout",
          "output_type": "stream",
          "text": [
            "INFO:tensorflow:Assets written to: model_experiments\\model_6_dense_multivariate\\assets\n"
          ]
        },
        {
          "name": "stderr",
          "output_type": "stream",
          "text": [
            "INFO:tensorflow:Assets written to: model_experiments\\model_6_dense_multivariate\\assets\n"
          ]
        },
        {
          "name": "stdout",
          "output_type": "stream",
          "text": [
            "INFO:tensorflow:Assets written to: model_experiments\\model_6_dense_multivariate\\assets\n"
          ]
        },
        {
          "name": "stderr",
          "output_type": "stream",
          "text": [
            "INFO:tensorflow:Assets written to: model_experiments\\model_6_dense_multivariate\\assets\n"
          ]
        },
        {
          "data": {
            "text/plain": [
              "<keras.callbacks.History at 0x13d448bd4b0>"
            ]
          },
          "execution_count": 92,
          "metadata": {},
          "output_type": "execute_result"
        }
      ],
      "source": [
        "tf.random.set_seed(42)\n",
        "\n",
        "# Make multivariate time series model\n",
        "model_6 = tf.keras.Sequential([\n",
        "  layers.Dense(128, activation=\"relu\"),\n",
        "  # layers.Dense(128, activation=\"relu\"), # adding an extra layer here should lead to beating the naive model\n",
        "  layers.Dense(HORIZON)\n",
        "], name=\"model_6_dense_multivariate\")\n",
        "\n",
        "# Compile\n",
        "model_6.compile(loss=\"mae\",\n",
        "                optimizer=tf.keras.optimizers.Adam())\n",
        "\n",
        "# Fit\n",
        "model_6.fit(X_train, y_train,\n",
        "            epochs=100,\n",
        "            batch_size=128,\n",
        "            verbose=0, # only print 1 line per epoch\n",
        "            validation_data=(X_test, y_test),\n",
        "            callbacks=[create_model_checkpoint(model_name=model_6.name)])"
      ]
    },
    {
      "cell_type": "code",
      "execution_count": 93,
      "metadata": {
        "colab": {
          "base_uri": "https://localhost:8080/"
        },
        "id": "K1miRk_b3g97",
        "outputId": "eb0b3763-61c3-4e8a-d793-10a6eb8c9afb"
      },
      "outputs": [
        {
          "name": "stdout",
          "output_type": "stream",
          "text": [
            "18/18 [==============================] - 0s 950us/step - loss: 568.3355\n"
          ]
        },
        {
          "data": {
            "text/plain": [
              "568.3355102539062"
            ]
          },
          "execution_count": 93,
          "metadata": {},
          "output_type": "execute_result"
        }
      ],
      "source": [
        "# Make sure best model is loaded and evaluate\n",
        "model_6 = tf.keras.models.load_model(\"model_experiments/model_6_dense_multivariate\")\n",
        "model_6.evaluate(X_test, y_test)"
      ]
    },
    {
      "cell_type": "code",
      "execution_count": 94,
      "metadata": {
        "colab": {
          "base_uri": "https://localhost:8080/"
        },
        "id": "1t9d_Yyx17dE",
        "outputId": "156d4f26-4718-4097-ded0-01ba3bc6974a"
      },
      "outputs": [
        {
          "data": {
            "text/plain": [
              "<tf.Tensor: shape=(10,), dtype=float32, numpy=\n",
              "array([8845.382, 8769.116, 9044.852, 8745.515, 8727.063, 8773.182,\n",
              "       8669.289, 8502.58 , 8469.249, 8527.998], dtype=float32)>"
            ]
          },
          "execution_count": 94,
          "metadata": {},
          "output_type": "execute_result"
        }
      ],
      "source": [
        "# Make predictions on multivariate data\n",
        "model_6_preds = tf.squeeze(model_6.predict(X_test))\n",
        "model_6_preds[:10]"
      ]
    },
    {
      "cell_type": "code",
      "execution_count": 95,
      "metadata": {
        "colab": {
          "base_uri": "https://localhost:8080/"
        },
        "id": "MsMPgRO117aB",
        "outputId": "b1e75c26-fe15-4006-9621-82a18ff4dc67"
      },
      "outputs": [
        {
          "data": {
            "text/plain": [
              "{'mae': 568.33545,\n",
              " 'mse': 1164860.1,\n",
              " 'rmse': 1079.2869,\n",
              " 'mape': 2.5493138,\n",
              " 'mase': 0.99840796}"
            ]
          },
          "execution_count": 95,
          "metadata": {},
          "output_type": "execute_result"
        }
      ],
      "source": [
        "# Evaluate preds\n",
        "model_6_results = evaluate_preds(y_true=y_test,\n",
        "                                 y_pred=model_6_preds)\n",
        "model_6_results"
      ]
    },
    {
      "cell_type": "code",
      "execution_count": 96,
      "metadata": {
        "colab": {
          "base_uri": "https://localhost:8080/"
        },
        "id": "HwS5Onbh0ir7",
        "outputId": "b3226442-4a04-4bb4-f14a-b8813d4b56a7"
      },
      "outputs": [
        {
          "data": {
            "text/plain": [
              "{'mae': 568.5498,\n",
              " 'mse': 1172587.9,\n",
              " 'rmse': 1082.861,\n",
              " 'mape': 2.5492294,\n",
              " 'mase': 0.99878454}"
            ]
          },
          "execution_count": 96,
          "metadata": {},
          "output_type": "execute_result"
        }
      ],
      "source": [
        "model_1_results"
      ]
    },
    {
      "cell_type": "markdown",
      "metadata": {
        "id": "TPkzQccU-dtR"
      },
      "source": [
        "## Model 7: N-BEATS algorithm"
      ]
    },
    {
      "cell_type": "markdown",
      "metadata": {
        "id": "Qukx3nigVsCg"
      },
      "source": [
        "### Building and testing an N-BEATS block layer"
      ]
    },
    {
      "cell_type": "code",
      "execution_count": 97,
      "metadata": {
        "id": "llwhXCn9-hQt"
      },
      "outputs": [],
      "source": [
        "# Create NBeatsBlock custom layer \n",
        "class NBeatsBlock(tf.keras.layers.Layer):\n",
        "  def __init__(self, # the constructor takes all the hyperparameters for the layer\n",
        "               input_size: int,\n",
        "               theta_size: int,\n",
        "               horizon: int,\n",
        "               n_neurons: int,\n",
        "               n_layers: int,\n",
        "               **kwargs): # the **kwargs argument takes care of all of the arguments for the parent class (input_shape, trainable, name)\n",
        "    super().__init__(**kwargs)\n",
        "    self.input_size = input_size\n",
        "    self.theta_size = theta_size\n",
        "    self.horizon = horizon\n",
        "    self.n_neurons = n_neurons\n",
        "    self.n_layers = n_layers\n",
        "\n",
        "    # Block contains stack of 4 fully connected layers each has ReLU activation\n",
        "    self.hidden = [tf.keras.layers.Dense(n_neurons, activation=\"relu\") for _ in range(n_layers)]\n",
        "    # Output of block is a theta layer with linear activation\n",
        "    self.theta_layer = tf.keras.layers.Dense(theta_size, activation=\"linear\", name=\"theta\")\n",
        "\n",
        "  def call(self, inputs): # the call method is what runs when the layer is called \n",
        "    x = inputs \n",
        "    for layer in self.hidden: # pass inputs through each hidden layer \n",
        "      x = layer(x)\n",
        "    theta = self.theta_layer(x) \n",
        "    # Output the backcast and forecast from theta\n",
        "    backcast, forecast = theta[:, :self.input_size], theta[:, -self.horizon:]\n",
        "    return backcast, forecast"
      ]
    },
    {
      "cell_type": "code",
      "execution_count": 98,
      "metadata": {
        "id": "l6mdJ3pSOGwG"
      },
      "outputs": [],
      "source": [
        "# Set up dummy NBeatsBlock layer to represent inputs and outputs\n",
        "dummy_nbeats_block_layer = NBeatsBlock(input_size=WINDOW_SIZE, \n",
        "                                       theta_size=WINDOW_SIZE+HORIZON, # backcast + forecast \n",
        "                                       horizon=HORIZON,\n",
        "                                       n_neurons=128,\n",
        "                                       n_layers=4)"
      ]
    },
    {
      "cell_type": "code",
      "execution_count": 99,
      "metadata": {
        "colab": {
          "base_uri": "https://localhost:8080/"
        },
        "id": "ne7XLO4gAGfm",
        "outputId": "820dbd38-c6ec-4344-84a9-ecb1fcaddfe6"
      },
      "outputs": [
        {
          "data": {
            "text/plain": [
              "<tf.Tensor: shape=(1, 7), dtype=int32, numpy=array([[1, 2, 3, 4, 5, 6, 7]])>"
            ]
          },
          "execution_count": 99,
          "metadata": {},
          "output_type": "execute_result"
        }
      ],
      "source": [
        "# Create dummy inputs (have to be same size as input_size)\n",
        "dummy_inputs = tf.expand_dims(tf.range(WINDOW_SIZE) + 1, axis=0) # input shape to the model has to reflect Dense layer input requirements (ndim=2)\n",
        "dummy_inputs"
      ]
    },
    {
      "cell_type": "code",
      "execution_count": 100,
      "metadata": {
        "colab": {
          "base_uri": "https://localhost:8080/"
        },
        "id": "DtAT8Onk-hX_",
        "outputId": "37f17ed4-851e-434f-8ce0-916fdd2510e3"
      },
      "outputs": [
        {
          "name": "stdout",
          "output_type": "stream",
          "text": [
            "Backcast: [ 0.19014972  0.8379835  -0.32870024  0.2515991  -0.47540277 -0.7783665\n",
            " -0.52994466]\n",
            "Forecast: -0.7554213404655457\n"
          ]
        }
      ],
      "source": [
        "# Pass dummy inputs to dummy NBeatsBlock layer\n",
        "backcast, forecast = dummy_nbeats_block_layer(dummy_inputs)\n",
        "# These are the activation outputs of the theta layer (they'll be random due to no training of the model)\n",
        "print(f\"Backcast: {tf.squeeze(backcast.numpy())}\")\n",
        "print(f\"Forecast: {tf.squeeze(forecast.numpy())}\")"
      ]
    },
    {
      "cell_type": "code",
      "execution_count": 101,
      "metadata": {
        "id": "s2IMhORJV3gg"
      },
      "outputs": [],
      "source": [
        "HORIZON = 1 # how far to predict forward\n",
        "WINDOW_SIZE = 7 # how far to lookback"
      ]
    },
    {
      "cell_type": "code",
      "execution_count": 102,
      "metadata": {
        "colab": {
          "base_uri": "https://localhost:8080/",
          "height": 235
        },
        "id": "WsUh9T2uvpA1",
        "outputId": "4ac3496f-dab0-4fbd-a128-1624fe938efc"
      },
      "outputs": [
        {
          "data": {
            "text/html": [
              "<div>\n",
              "<style scoped>\n",
              "    .dataframe tbody tr th:only-of-type {\n",
              "        vertical-align: middle;\n",
              "    }\n",
              "\n",
              "    .dataframe tbody tr th {\n",
              "        vertical-align: top;\n",
              "    }\n",
              "\n",
              "    .dataframe thead th {\n",
              "        text-align: right;\n",
              "    }\n",
              "</style>\n",
              "<table border=\"1\" class=\"dataframe\">\n",
              "  <thead>\n",
              "    <tr style=\"text-align: right;\">\n",
              "      <th></th>\n",
              "      <th>Price</th>\n",
              "    </tr>\n",
              "    <tr>\n",
              "      <th>Date</th>\n",
              "      <th></th>\n",
              "    </tr>\n",
              "  </thead>\n",
              "  <tbody>\n",
              "    <tr>\n",
              "      <th>2013-10-01</th>\n",
              "      <td>123.65499</td>\n",
              "    </tr>\n",
              "    <tr>\n",
              "      <th>2013-10-02</th>\n",
              "      <td>125.45500</td>\n",
              "    </tr>\n",
              "    <tr>\n",
              "      <th>2013-10-03</th>\n",
              "      <td>108.58483</td>\n",
              "    </tr>\n",
              "    <tr>\n",
              "      <th>2013-10-04</th>\n",
              "      <td>118.67466</td>\n",
              "    </tr>\n",
              "    <tr>\n",
              "      <th>2013-10-05</th>\n",
              "      <td>121.33866</td>\n",
              "    </tr>\n",
              "  </tbody>\n",
              "</table>\n",
              "</div>"
            ],
            "text/plain": [
              "                Price\n",
              "Date                 \n",
              "2013-10-01  123.65499\n",
              "2013-10-02  125.45500\n",
              "2013-10-03  108.58483\n",
              "2013-10-04  118.67466\n",
              "2013-10-05  121.33866"
            ]
          },
          "execution_count": 102,
          "metadata": {},
          "output_type": "execute_result"
        }
      ],
      "source": [
        "# Create NBEATS data inputs (NBEATS works with univariate time series)\n",
        "bitcoin_prices.head()"
      ]
    },
    {
      "cell_type": "code",
      "execution_count": 103,
      "metadata": {
        "colab": {
          "base_uri": "https://localhost:8080/",
          "height": 235
        },
        "id": "iqAnqJvVvsgb",
        "outputId": "e5ca250c-6931-4354-c4cb-266c0525ca3d"
      },
      "outputs": [
        {
          "data": {
            "text/html": [
              "<div>\n",
              "<style scoped>\n",
              "    .dataframe tbody tr th:only-of-type {\n",
              "        vertical-align: middle;\n",
              "    }\n",
              "\n",
              "    .dataframe tbody tr th {\n",
              "        vertical-align: top;\n",
              "    }\n",
              "\n",
              "    .dataframe thead th {\n",
              "        text-align: right;\n",
              "    }\n",
              "</style>\n",
              "<table border=\"1\" class=\"dataframe\">\n",
              "  <thead>\n",
              "    <tr style=\"text-align: right;\">\n",
              "      <th></th>\n",
              "      <th>Price</th>\n",
              "      <th>Price+1</th>\n",
              "      <th>Price+2</th>\n",
              "      <th>Price+3</th>\n",
              "      <th>Price+4</th>\n",
              "      <th>Price+5</th>\n",
              "      <th>Price+6</th>\n",
              "      <th>Price+7</th>\n",
              "    </tr>\n",
              "    <tr>\n",
              "      <th>Date</th>\n",
              "      <th></th>\n",
              "      <th></th>\n",
              "      <th></th>\n",
              "      <th></th>\n",
              "      <th></th>\n",
              "      <th></th>\n",
              "      <th></th>\n",
              "      <th></th>\n",
              "    </tr>\n",
              "  </thead>\n",
              "  <tbody>\n",
              "    <tr>\n",
              "      <th>2013-10-08</th>\n",
              "      <td>123.03300</td>\n",
              "      <td>121.79500</td>\n",
              "      <td>120.65533</td>\n",
              "      <td>121.33866</td>\n",
              "      <td>118.67466</td>\n",
              "      <td>108.58483</td>\n",
              "      <td>125.45500</td>\n",
              "      <td>123.65499</td>\n",
              "    </tr>\n",
              "    <tr>\n",
              "      <th>2013-10-09</th>\n",
              "      <td>124.04900</td>\n",
              "      <td>123.03300</td>\n",
              "      <td>121.79500</td>\n",
              "      <td>120.65533</td>\n",
              "      <td>121.33866</td>\n",
              "      <td>118.67466</td>\n",
              "      <td>108.58483</td>\n",
              "      <td>125.45500</td>\n",
              "    </tr>\n",
              "    <tr>\n",
              "      <th>2013-10-10</th>\n",
              "      <td>125.96116</td>\n",
              "      <td>124.04900</td>\n",
              "      <td>123.03300</td>\n",
              "      <td>121.79500</td>\n",
              "      <td>120.65533</td>\n",
              "      <td>121.33866</td>\n",
              "      <td>118.67466</td>\n",
              "      <td>108.58483</td>\n",
              "    </tr>\n",
              "    <tr>\n",
              "      <th>2013-10-11</th>\n",
              "      <td>125.27966</td>\n",
              "      <td>125.96116</td>\n",
              "      <td>124.04900</td>\n",
              "      <td>123.03300</td>\n",
              "      <td>121.79500</td>\n",
              "      <td>120.65533</td>\n",
              "      <td>121.33866</td>\n",
              "      <td>118.67466</td>\n",
              "    </tr>\n",
              "    <tr>\n",
              "      <th>2013-10-12</th>\n",
              "      <td>125.92750</td>\n",
              "      <td>125.27966</td>\n",
              "      <td>125.96116</td>\n",
              "      <td>124.04900</td>\n",
              "      <td>123.03300</td>\n",
              "      <td>121.79500</td>\n",
              "      <td>120.65533</td>\n",
              "      <td>121.33866</td>\n",
              "    </tr>\n",
              "  </tbody>\n",
              "</table>\n",
              "</div>"
            ],
            "text/plain": [
              "                Price    Price+1    Price+2    Price+3    Price+4    Price+5  \\\n",
              "Date                                                                           \n",
              "2013-10-08  123.03300  121.79500  120.65533  121.33866  118.67466  108.58483   \n",
              "2013-10-09  124.04900  123.03300  121.79500  120.65533  121.33866  118.67466   \n",
              "2013-10-10  125.96116  124.04900  123.03300  121.79500  120.65533  121.33866   \n",
              "2013-10-11  125.27966  125.96116  124.04900  123.03300  121.79500  120.65533   \n",
              "2013-10-12  125.92750  125.27966  125.96116  124.04900  123.03300  121.79500   \n",
              "\n",
              "              Price+6    Price+7  \n",
              "Date                              \n",
              "2013-10-08  125.45500  123.65499  \n",
              "2013-10-09  108.58483  125.45500  \n",
              "2013-10-10  118.67466  108.58483  \n",
              "2013-10-11  121.33866  118.67466  \n",
              "2013-10-12  120.65533  121.33866  "
            ]
          },
          "execution_count": 103,
          "metadata": {},
          "output_type": "execute_result"
        }
      ],
      "source": [
        "# Add windowed columns\n",
        "bitcoin_prices_nbeats = bitcoin_prices.copy()\n",
        "for i in range(WINDOW_SIZE):\n",
        "  bitcoin_prices_nbeats[f\"Price+{i+1}\"] = bitcoin_prices_nbeats[\"Price\"].shift(periods=i+1)\n",
        "bitcoin_prices_nbeats.dropna().head()"
      ]
    },
    {
      "cell_type": "code",
      "execution_count": 104,
      "metadata": {
        "colab": {
          "base_uri": "https://localhost:8080/"
        },
        "id": "2tOweM-6wRBH",
        "outputId": "dc5d029d-a834-4b1b-fe45-e77f73624a18"
      },
      "outputs": [
        {
          "data": {
            "text/plain": [
              "(2224, 2224, 556, 556)"
            ]
          },
          "execution_count": 104,
          "metadata": {},
          "output_type": "execute_result"
        }
      ],
      "source": [
        "# Make features and labels\n",
        "X = bitcoin_prices_nbeats.dropna().drop(\"Price\", axis=1)\n",
        "y = bitcoin_prices_nbeats.dropna()[\"Price\"]\n",
        "\n",
        "# Make train and test sets\n",
        "split_size = int(len(X) * 0.8)\n",
        "X_train, y_train = X[:split_size], y[:split_size]\n",
        "X_test, y_test = X[split_size:], y[split_size:]\n",
        "len(X_train), len(y_train), len(X_test), len(y_test)"
      ]
    },
    {
      "cell_type": "code",
      "execution_count": 105,
      "metadata": {
        "colab": {
          "base_uri": "https://localhost:8080/"
        },
        "id": "BxCwT-b1v6cw",
        "outputId": "3daa2cbe-a80b-4ea0-d083-c68e8489b12c"
      },
      "outputs": [
        {
          "data": {
            "text/plain": [
              "(<PrefetchDataset element_spec=(TensorSpec(shape=(None, 7), dtype=tf.float64, name=None), TensorSpec(shape=(None,), dtype=tf.float64, name=None))>,\n",
              " <PrefetchDataset element_spec=(TensorSpec(shape=(None, 7), dtype=tf.float64, name=None), TensorSpec(shape=(None,), dtype=tf.float64, name=None))>)"
            ]
          },
          "execution_count": 105,
          "metadata": {},
          "output_type": "execute_result"
        }
      ],
      "source": [
        "# 1. Turn train and test arrays into tensor Datasets\n",
        "train_features_dataset = tf.data.Dataset.from_tensor_slices(X_train)\n",
        "train_labels_dataset = tf.data.Dataset.from_tensor_slices(y_train)\n",
        "\n",
        "test_features_dataset = tf.data.Dataset.from_tensor_slices(X_test)\n",
        "test_labels_dataset = tf.data.Dataset.from_tensor_slices(y_test)\n",
        "\n",
        "# 2. Combine features & labels\n",
        "train_dataset = tf.data.Dataset.zip((train_features_dataset, train_labels_dataset))\n",
        "test_dataset = tf.data.Dataset.zip((test_features_dataset, test_labels_dataset))\n",
        "\n",
        "# 3. Batch and prefetch for optimal performance\n",
        "BATCH_SIZE = 1024 # taken from Appendix D in N-BEATS paper\n",
        "train_dataset = train_dataset.batch(BATCH_SIZE).prefetch(tf.data.AUTOTUNE)\n",
        "test_dataset = test_dataset.batch(BATCH_SIZE).prefetch(tf.data.AUTOTUNE)\n",
        "\n",
        "train_dataset, test_dataset"
      ]
    },
    {
      "cell_type": "code",
      "execution_count": 106,
      "metadata": {
        "colab": {
          "base_uri": "https://localhost:8080/"
        },
        "id": "wK9Ix_zOesPO",
        "outputId": "4de1fd80-2884-4fad-baaa-8959cb36f308"
      },
      "outputs": [
        {
          "data": {
            "text/plain": [
              "(7, 8)"
            ]
          },
          "execution_count": 106,
          "metadata": {},
          "output_type": "execute_result"
        }
      ],
      "source": [
        "# Values from N-BEATS paper Figure 1 and Table 18/Appendix D\n",
        "N_EPOCHS = 5000 # called \"Iterations\" in Table 18\n",
        "N_NEURONS = 512 # called \"Width\" in Table 18\n",
        "N_LAYERS = 4\n",
        "N_STACKS = 30\n",
        "\n",
        "INPUT_SIZE = WINDOW_SIZE * HORIZON # called \"Lookback\" in Table 18\n",
        "THETA_SIZE = INPUT_SIZE + HORIZON\n",
        "\n",
        "INPUT_SIZE, THETA_SIZE"
      ]
    },
    {
      "cell_type": "code",
      "execution_count": 107,
      "metadata": {
        "colab": {
          "base_uri": "https://localhost:8080/"
        },
        "id": "iZ_BEvNB--8J",
        "outputId": "c2b460ba-0b82-4f05-8a37-e3b4542a6eaa"
      },
      "outputs": [
        {
          "name": "stdout",
          "output_type": "stream",
          "text": [
            "Input tensors: [10 11 12 13 14 15 16 17 18 19] & [0 1 2 3 4 5 6 7 8 9]\n",
            "Subtracted: [10 10 10 10 10 10 10 10 10 10]\n",
            "Added: [10 12 14 16 18 20 22 24 26 28]\n"
          ]
        }
      ],
      "source": [
        "# Make tensors\n",
        "tensor_1 = tf.range(10) + 10\n",
        "tensor_2 = tf.range(10)\n",
        "\n",
        "# Subtract\n",
        "subtracted = layers.subtract([tensor_1, tensor_2])\n",
        "\n",
        "# Add\n",
        "added = layers.add([tensor_1, tensor_2])\n",
        "\n",
        "print(f\"Input tensors: {tensor_1.numpy()} & {tensor_2.numpy()}\")\n",
        "print(f\"Subtracted: {subtracted.numpy()}\")\n",
        "print(f\"Added: {added.numpy()}\")"
      ]
    },
    {
      "cell_type": "markdown",
      "metadata": {
        "id": "9k10r8BN7ELS"
      },
      "source": [
        "## Model 7: Creating an ensemble (stacking different models together)"
      ]
    },
    {
      "cell_type": "code",
      "execution_count": 109,
      "metadata": {
        "id": "K5PHo4O3z50g"
      },
      "outputs": [],
      "source": [
        "def get_ensemble_models(horizon=HORIZON, \n",
        "                        train_data=train_dataset,\n",
        "                        test_data=test_dataset,\n",
        "                        num_iter=10, \n",
        "                        num_epochs=100, \n",
        "                        loss_fns=[\"mae\", \"mse\", \"mape\"]):\n",
        "  \n",
        "  ensemble_models = []\n",
        "\n",
        "  \n",
        "  for i in range(num_iter):\n",
        "    \n",
        "    for loss_function in loss_fns:\n",
        "      print(f\"Optimizing model by reducing: {loss_function} for {num_epochs} epochs, model number: {i}\")\n",
        "\n",
        "      model = tf.keras.Sequential([\n",
        "        \n",
        "        layers.Dense(128, kernel_initializer=\"he_normal\", activation=\"relu\"), \n",
        "        layers.Dense(128, kernel_initializer=\"he_normal\", activation=\"relu\"),\n",
        "        layers.Dense(HORIZON)                                 \n",
        "      ])\n",
        "\n",
        "      # Compile simple model with current loss function\n",
        "      model.compile(loss=loss_function,\n",
        "                    optimizer=tf.keras.optimizers.Adam(),\n",
        "                    metrics=[\"mae\", \"mse\"])\n",
        "      \n",
        "      # Fit model\n",
        "      model.fit(train_data,\n",
        "                epochs=num_epochs,\n",
        "                verbose=0,\n",
        "                validation_data=test_data,\n",
        "                # Add callbacks to prevent training from going/stalling for too long\n",
        "                callbacks=[tf.keras.callbacks.EarlyStopping(monitor=\"val_loss\",\n",
        "                                                            patience=200,\n",
        "                                                            restore_best_weights=True),\n",
        "                           tf.keras.callbacks.ReduceLROnPlateau(monitor=\"val_loss\",\n",
        "                                                                patience=100,\n",
        "                                                                verbose=1)])\n",
        "      \n",
        "      # Append fitted model to list of ensemble models\n",
        "      ensemble_models.append(model)\n",
        "\n",
        "  return ensemble_models # return list of trained models"
      ]
    },
    {
      "cell_type": "code",
      "execution_count": 110,
      "metadata": {
        "colab": {
          "base_uri": "https://localhost:8080/"
        },
        "id": "fcyU88yvz_Zk",
        "outputId": "165a3b49-302b-408f-bb80-277b31cde674"
      },
      "outputs": [
        {
          "name": "stdout",
          "output_type": "stream",
          "text": [
            "Optimizing model by reducing: mae for 1000 epochs, model number: 0\n",
            "\n",
            "Epoch 970: ReduceLROnPlateau reducing learning rate to 0.00010000000474974513.\n",
            "Optimizing model by reducing: mse for 1000 epochs, model number: 0\n",
            "\n",
            "Epoch 620: ReduceLROnPlateau reducing learning rate to 0.00010000000474974513.\n",
            "\n",
            "Epoch 736: ReduceLROnPlateau reducing learning rate to 1.0000000474974514e-05.\n",
            "\n",
            "Epoch 836: ReduceLROnPlateau reducing learning rate to 1.0000000656873453e-06.\n",
            "Optimizing model by reducing: mape for 1000 epochs, model number: 0\n",
            "\n",
            "Epoch 131: ReduceLROnPlateau reducing learning rate to 0.00010000000474974513.\n",
            "\n",
            "Epoch 246: ReduceLROnPlateau reducing learning rate to 1.0000000474974514e-05.\n",
            "\n",
            "Epoch 346: ReduceLROnPlateau reducing learning rate to 1.0000000656873453e-06.\n",
            "Optimizing model by reducing: mae for 1000 epochs, model number: 1\n",
            "Optimizing model by reducing: mse for 1000 epochs, model number: 1\n",
            "\n",
            "Epoch 338: ReduceLROnPlateau reducing learning rate to 0.00010000000474974513.\n",
            "\n",
            "Epoch 438: ReduceLROnPlateau reducing learning rate to 1.0000000474974514e-05.\n",
            "Optimizing model by reducing: mape for 1000 epochs, model number: 1\n",
            "\n",
            "Epoch 204: ReduceLROnPlateau reducing learning rate to 0.00010000000474974513.\n",
            "\n",
            "Epoch 483: ReduceLROnPlateau reducing learning rate to 1.0000000474974514e-05.\n",
            "\n",
            "Epoch 583: ReduceLROnPlateau reducing learning rate to 1.0000000656873453e-06.\n",
            "Optimizing model by reducing: mae for 1000 epochs, model number: 2\n",
            "\n",
            "Epoch 613: ReduceLROnPlateau reducing learning rate to 0.00010000000474974513.\n",
            "\n",
            "Epoch 753: ReduceLROnPlateau reducing learning rate to 1.0000000474974514e-05.\n",
            "\n",
            "Epoch 853: ReduceLROnPlateau reducing learning rate to 1.0000000656873453e-06.\n",
            "Optimizing model by reducing: mse for 1000 epochs, model number: 2\n",
            "Optimizing model by reducing: mape for 1000 epochs, model number: 2\n",
            "\n",
            "Epoch 266: ReduceLROnPlateau reducing learning rate to 0.00010000000474974513.\n",
            "\n",
            "Epoch 376: ReduceLROnPlateau reducing learning rate to 1.0000000474974514e-05.\n",
            "\n",
            "Epoch 476: ReduceLROnPlateau reducing learning rate to 1.0000000656873453e-06.\n",
            "Optimizing model by reducing: mae for 1000 epochs, model number: 3\n",
            "\n",
            "Epoch 896: ReduceLROnPlateau reducing learning rate to 0.00010000000474974513.\n",
            "Optimizing model by reducing: mse for 1000 epochs, model number: 3\n",
            "\n",
            "Epoch 304: ReduceLROnPlateau reducing learning rate to 0.00010000000474974513.\n",
            "\n",
            "Epoch 608: ReduceLROnPlateau reducing learning rate to 1.0000000474974514e-05.\n",
            "\n",
            "Epoch 708: ReduceLROnPlateau reducing learning rate to 1.0000000656873453e-06.\n",
            "Optimizing model by reducing: mape for 1000 epochs, model number: 3\n",
            "\n",
            "Epoch 211: ReduceLROnPlateau reducing learning rate to 0.00010000000474974513.\n",
            "\n",
            "Epoch 572: ReduceLROnPlateau reducing learning rate to 1.0000000474974514e-05.\n",
            "\n",
            "Epoch 672: ReduceLROnPlateau reducing learning rate to 1.0000000656873453e-06.\n",
            "Optimizing model by reducing: mae for 1000 epochs, model number: 4\n",
            "Optimizing model by reducing: mse for 1000 epochs, model number: 4\n",
            "\n",
            "Epoch 652: ReduceLROnPlateau reducing learning rate to 0.00010000000474974513.\n",
            "\n",
            "Epoch 752: ReduceLROnPlateau reducing learning rate to 1.0000000474974514e-05.\n",
            "Optimizing model by reducing: mape for 1000 epochs, model number: 4\n",
            "\n",
            "Epoch 138: ReduceLROnPlateau reducing learning rate to 0.00010000000474974513.\n",
            "\n",
            "Epoch 564: ReduceLROnPlateau reducing learning rate to 1.0000000474974514e-05.\n",
            "\n",
            "Epoch 664: ReduceLROnPlateau reducing learning rate to 1.0000000656873453e-06.\n",
            "Wall time: 8min 18s\n"
          ]
        }
      ],
      "source": [
        "%%time\n",
        "# Get list of trained ensemble models\n",
        "ensemble_models = get_ensemble_models(num_iter=5,\n",
        "                                      num_epochs=1000)"
      ]
    },
    {
      "cell_type": "code",
      "execution_count": 111,
      "metadata": {
        "id": "45YkOBo38qxn"
      },
      "outputs": [],
      "source": [
        "# Create a function which uses a list of trained models to make and return a list of predictions\n",
        "def make_ensemble_preds(ensemble_models, data):\n",
        "  ensemble_preds = []\n",
        "  for model in ensemble_models:\n",
        "    preds = model.predict(data) # make predictions with current ensemble model\n",
        "    ensemble_preds.append(preds)\n",
        "  return tf.constant(tf.squeeze(ensemble_preds))"
      ]
    },
    {
      "cell_type": "code",
      "execution_count": 112,
      "metadata": {
        "colab": {
          "base_uri": "https://localhost:8080/"
        },
        "id": "mAfSXEmU0IKK",
        "outputId": "7b5c2106-4fe9-4f7b-dc76-360175500636"
      },
      "outputs": [
        {
          "name": "stdout",
          "output_type": "stream",
          "text": [
            "WARNING:tensorflow:5 out of the last 22 calls to <function Model.make_predict_function.<locals>.predict_function at 0x0000013D6EDB64D0> triggered tf.function retracing. Tracing is expensive and the excessive number of tracings could be due to (1) creating @tf.function repeatedly in a loop, (2) passing tensors with different shapes, (3) passing Python objects instead of tensors. For (1), please define your @tf.function outside of the loop. For (2), @tf.function has experimental_relax_shapes=True option that relaxes argument shapes that can avoid unnecessary retracing. For (3), please refer to https://www.tensorflow.org/guide/function#controlling_retracing and https://www.tensorflow.org/api_docs/python/tf/function for  more details.\n"
          ]
        },
        {
          "name": "stderr",
          "output_type": "stream",
          "text": [
            "WARNING:tensorflow:5 out of the last 22 calls to <function Model.make_predict_function.<locals>.predict_function at 0x0000013D6EDB64D0> triggered tf.function retracing. Tracing is expensive and the excessive number of tracings could be due to (1) creating @tf.function repeatedly in a loop, (2) passing tensors with different shapes, (3) passing Python objects instead of tensors. For (1), please define your @tf.function outside of the loop. For (2), @tf.function has experimental_relax_shapes=True option that relaxes argument shapes that can avoid unnecessary retracing. For (3), please refer to https://www.tensorflow.org/guide/function#controlling_retracing and https://www.tensorflow.org/api_docs/python/tf/function for  more details.\n"
          ]
        },
        {
          "name": "stdout",
          "output_type": "stream",
          "text": [
            "WARNING:tensorflow:6 out of the last 23 calls to <function Model.make_predict_function.<locals>.predict_function at 0x0000013D6EDB67A0> triggered tf.function retracing. Tracing is expensive and the excessive number of tracings could be due to (1) creating @tf.function repeatedly in a loop, (2) passing tensors with different shapes, (3) passing Python objects instead of tensors. For (1), please define your @tf.function outside of the loop. For (2), @tf.function has experimental_relax_shapes=True option that relaxes argument shapes that can avoid unnecessary retracing. For (3), please refer to https://www.tensorflow.org/guide/function#controlling_retracing and https://www.tensorflow.org/api_docs/python/tf/function for  more details.\n"
          ]
        },
        {
          "name": "stderr",
          "output_type": "stream",
          "text": [
            "WARNING:tensorflow:6 out of the last 23 calls to <function Model.make_predict_function.<locals>.predict_function at 0x0000013D6EDB67A0> triggered tf.function retracing. Tracing is expensive and the excessive number of tracings could be due to (1) creating @tf.function repeatedly in a loop, (2) passing tensors with different shapes, (3) passing Python objects instead of tensors. For (1), please define your @tf.function outside of the loop. For (2), @tf.function has experimental_relax_shapes=True option that relaxes argument shapes that can avoid unnecessary retracing. For (3), please refer to https://www.tensorflow.org/guide/function#controlling_retracing and https://www.tensorflow.org/api_docs/python/tf/function for  more details.\n"
          ]
        },
        {
          "data": {
            "text/plain": [
              "<tf.Tensor: shape=(15, 556), dtype=float32, numpy=\n",
              "array([[ 8795.563,  8776.145,  9065.93 , ..., 50334.11 , 49404.22 ,\n",
              "        46576.305],\n",
              "       [ 8767.728,  8744.07 ,  9055.122, ..., 49379.457, 48522.26 ,\n",
              "        45338.69 ],\n",
              "       [ 8746.471,  8719.418,  9093.041, ..., 49876.074, 47759.37 ,\n",
              "        45164.598],\n",
              "       ...,\n",
              "       [ 8891.071,  8761.344,  9032.765, ..., 49605.19 , 49340.395,\n",
              "        46340.21 ],\n",
              "       [ 8726.88 ,  8807.011,  9099.964, ..., 49576.445, 48510.75 ,\n",
              "        45078.844],\n",
              "       [ 8810.645,  8781.202,  9029.289, ..., 49943.848, 48247.707,\n",
              "        45689.07 ]], dtype=float32)>"
            ]
          },
          "execution_count": 112,
          "metadata": {},
          "output_type": "execute_result"
        }
      ],
      "source": [
        "# Create a list of ensemble predictions\n",
        "ensemble_preds = make_ensemble_preds(ensemble_models=ensemble_models,\n",
        "                                     data=test_dataset)\n",
        "ensemble_preds"
      ]
    },
    {
      "cell_type": "code",
      "execution_count": 113,
      "metadata": {
        "colab": {
          "base_uri": "https://localhost:8080/"
        },
        "id": "W5aGqy_C9Aev",
        "outputId": "42bf5a3f-1056-4ec3-9c61-93a24c773be3"
      },
      "outputs": [
        {
          "data": {
            "text/plain": [
              "{'mae': 565.72266,\n",
              " 'mse': 1144099.4,\n",
              " 'rmse': 1069.6259,\n",
              " 'mape': 2.5866613,\n",
              " 'mase': 0.99381804}"
            ]
          },
          "execution_count": 113,
          "metadata": {},
          "output_type": "execute_result"
        }
      ],
      "source": [
        "# Evaluate ensemble model(s) predictions\n",
        "ensemble_results = evaluate_preds(y_true=y_test,\n",
        "                                  y_pred=np.median(ensemble_preds, axis=0)) # take the median across all ensemble predictions\n",
        "ensemble_results"
      ]
    },
    {
      "cell_type": "code",
      "execution_count": 114,
      "metadata": {
        "id": "4ys17iCd-UFv"
      },
      "outputs": [],
      "source": [
        "\n",
        "def get_upper_lower(preds): \n",
        "  \n",
        "  \n",
        "  std = tf.math.reduce_std(preds, axis=0)\n",
        "  \n",
        "  \n",
        "  interval = 1.96 * std \n",
        "\n",
        "  \n",
        "  preds_mean = tf.reduce_mean(preds, axis=0)\n",
        "  lower, upper = preds_mean - interval, preds_mean + interval\n",
        "  return lower, upper\n",
        "\n",
        "\n",
        "lower, upper = get_upper_lower(preds=ensemble_preds)"
      ]
    },
    {
      "cell_type": "code",
      "execution_count": 115,
      "metadata": {
        "colab": {
          "base_uri": "https://localhost:8080/"
        },
        "id": "QlSqQHFD_JYa",
        "outputId": "bb2c5701-f300-40b2-ff7f-e710e7253029"
      },
      "outputs": [
        {
          "data": {
            "image/png": "[encoded data removed]",
            "text/plain": [
              "<Figure size 720x504 with 1 Axes>"
            ]
          },
          "metadata": {
            "needs_background": "light"
          },
          "output_type": "display_data"
        }
      ],
      "source": [
        "# Get the median values of our ensemble preds\n",
        "ensemble_median = np.median(ensemble_preds, axis=0)\n",
        "\n",
        "# Plot the median of our ensemble preds along with the prediction intervals (where the predictions fall between)\n",
        "offset=500\n",
        "plt.figure(figsize=(10, 7))\n",
        "plt.plot(X_test.index[offset:], y_test[offset:], \"g\", label=\"Test Data\")\n",
        "plt.plot(X_test.index[offset:], ensemble_median[offset:], \"k-\", label=\"Ensemble Median\")\n",
        "plt.xlabel(\"Date\")\n",
        "plt.ylabel(\"BTC Price\")\n",
        "plt.fill_between(X_test.index[offset:], \n",
        "                 (lower)[offset:], \n",
        "                 (upper)[offset:], label=\"Prediction Intervals\")\n",
        "plt.legend(loc=\"upper left\", fontsize=14);"
      ]
    },
    {
      "cell_type": "markdown",
      "metadata": {
        "id": "UW9oxH47EK-6"
      },
      "source": [
        "## Model 9: Train a model on the full historical data to make predictions into future"
      ]
    },
    {
      "cell_type": "code",
      "execution_count": 116,
      "metadata": {
        "colab": {
          "base_uri": "https://localhost:8080/"
        },
        "id": "0lseRHbOYseR",
        "outputId": "caa7777f-a8ef-4098-d026-26879b4119f5"
      },
      "outputs": [
        {
          "data": {
            "text/html": [
              "<div>\n",
              "<style scoped>\n",
              "    .dataframe tbody tr th:only-of-type {\n",
              "        vertical-align: middle;\n",
              "    }\n",
              "\n",
              "    .dataframe tbody tr th {\n",
              "        vertical-align: top;\n",
              "    }\n",
              "\n",
              "    .dataframe thead th {\n",
              "        text-align: right;\n",
              "    }\n",
              "</style>\n",
              "<table border=\"1\" class=\"dataframe\">\n",
              "  <thead>\n",
              "    <tr style=\"text-align: right;\">\n",
              "      <th></th>\n",
              "      <th>Price</th>\n",
              "      <th>block_reward</th>\n",
              "      <th>Price+1</th>\n",
              "      <th>Price+2</th>\n",
              "      <th>Price+3</th>\n",
              "      <th>Price+4</th>\n",
              "      <th>Price+5</th>\n",
              "      <th>Price+6</th>\n",
              "      <th>Price+7</th>\n",
              "    </tr>\n",
              "    <tr>\n",
              "      <th>Date</th>\n",
              "      <th></th>\n",
              "      <th></th>\n",
              "      <th></th>\n",
              "      <th></th>\n",
              "      <th></th>\n",
              "      <th></th>\n",
              "      <th></th>\n",
              "      <th></th>\n",
              "      <th></th>\n",
              "    </tr>\n",
              "  </thead>\n",
              "  <tbody>\n",
              "    <tr>\n",
              "      <th>2013-10-01</th>\n",
              "      <td>123.65499</td>\n",
              "      <td>25</td>\n",
              "      <td>NaN</td>\n",
              "      <td>NaN</td>\n",
              "      <td>NaN</td>\n",
              "      <td>NaN</td>\n",
              "      <td>NaN</td>\n",
              "      <td>NaN</td>\n",
              "      <td>NaN</td>\n",
              "    </tr>\n",
              "    <tr>\n",
              "      <th>2013-10-02</th>\n",
              "      <td>125.45500</td>\n",
              "      <td>25</td>\n",
              "      <td>123.65499</td>\n",
              "      <td>NaN</td>\n",
              "      <td>NaN</td>\n",
              "      <td>NaN</td>\n",
              "      <td>NaN</td>\n",
              "      <td>NaN</td>\n",
              "      <td>NaN</td>\n",
              "    </tr>\n",
              "    <tr>\n",
              "      <th>2013-10-03</th>\n",
              "      <td>108.58483</td>\n",
              "      <td>25</td>\n",
              "      <td>125.45500</td>\n",
              "      <td>123.65499</td>\n",
              "      <td>NaN</td>\n",
              "      <td>NaN</td>\n",
              "      <td>NaN</td>\n",
              "      <td>NaN</td>\n",
              "      <td>NaN</td>\n",
              "    </tr>\n",
              "    <tr>\n",
              "      <th>2013-10-04</th>\n",
              "      <td>118.67466</td>\n",
              "      <td>25</td>\n",
              "      <td>108.58483</td>\n",
              "      <td>125.45500</td>\n",
              "      <td>123.65499</td>\n",
              "      <td>NaN</td>\n",
              "      <td>NaN</td>\n",
              "      <td>NaN</td>\n",
              "      <td>NaN</td>\n",
              "    </tr>\n",
              "    <tr>\n",
              "      <th>2013-10-05</th>\n",
              "      <td>121.33866</td>\n",
              "      <td>25</td>\n",
              "      <td>118.67466</td>\n",
              "      <td>108.58483</td>\n",
              "      <td>125.45500</td>\n",
              "      <td>123.65499</td>\n",
              "      <td>NaN</td>\n",
              "      <td>NaN</td>\n",
              "      <td>NaN</td>\n",
              "    </tr>\n",
              "  </tbody>\n",
              "</table>\n",
              "</div>"
            ],
            "text/plain": [
              "                Price block_reward    Price+1    Price+2    Price+3  \\\n",
              "Date                                                                  \n",
              "2013-10-01  123.65499           25        NaN        NaN        NaN   \n",
              "2013-10-02  125.45500           25  123.65499        NaN        NaN   \n",
              "2013-10-03  108.58483           25  125.45500  123.65499        NaN   \n",
              "2013-10-04  118.67466           25  108.58483  125.45500  123.65499   \n",
              "2013-10-05  121.33866           25  118.67466  108.58483  125.45500   \n",
              "\n",
              "              Price+4  Price+5  Price+6  Price+7  \n",
              "Date                                              \n",
              "2013-10-01        NaN      NaN      NaN      NaN  \n",
              "2013-10-02        NaN      NaN      NaN      NaN  \n",
              "2013-10-03        NaN      NaN      NaN      NaN  \n",
              "2013-10-04        NaN      NaN      NaN      NaN  \n",
              "2013-10-05  123.65499      NaN      NaN      NaN  "
            ]
          },
          "execution_count": 116,
          "metadata": {},
          "output_type": "execute_result"
        }
      ],
      "source": [
        "bitcoin_prices_windowed.head()"
      ]
    },
    {
      "cell_type": "code",
      "execution_count": 117,
      "metadata": {
        "id": "-HZ9ObQaYyVf"
      },
      "outputs": [],
      "source": [
        "# Train model on entire data to make prediction for the next day \n",
        "X_all = bitcoin_prices_windowed.drop([\"Price\", \"block_reward\"], axis=1).dropna().to_numpy() # only want prices, our future model can be a univariate model\n",
        "y_all = bitcoin_prices_windowed.dropna()[\"Price\"].to_numpy()"
      ]
    },
    {
      "cell_type": "code",
      "execution_count": 118,
      "metadata": {
        "colab": {
          "base_uri": "https://localhost:8080/"
        },
        "id": "B-eX9FBPZYkR",
        "outputId": "d66cdfbe-60d1-41ef-e6fe-902b559cbf9a"
      },
      "outputs": [
        {
          "data": {
            "text/plain": [
              "<PrefetchDataset element_spec=(TensorSpec(shape=(None, 7), dtype=tf.float64, name=None), TensorSpec(shape=(None,), dtype=tf.float64, name=None))>"
            ]
          },
          "execution_count": 118,
          "metadata": {},
          "output_type": "execute_result"
        }
      ],
      "source": [
        "# 1. Turn X and y into tensor Datasets\n",
        "features_dataset_all = tf.data.Dataset.from_tensor_slices(X_all)\n",
        "labels_dataset_all = tf.data.Dataset.from_tensor_slices(y_all)\n",
        "\n",
        "# 2. Combine features & labels\n",
        "dataset_all = tf.data.Dataset.zip((features_dataset_all, labels_dataset_all))\n",
        "\n",
        "# 3. Batch and prefetch for optimal performance\n",
        "BATCH_SIZE = 1024 # taken from Appendix D in N-BEATS paper\n",
        "dataset_all = dataset_all.batch(BATCH_SIZE).prefetch(tf.data.AUTOTUNE)\n",
        "\n",
        "dataset_all"
      ]
    },
    {
      "cell_type": "code",
      "execution_count": 119,
      "metadata": {
        "colab": {
          "base_uri": "https://localhost:8080/"
        },
        "id": "dCtmpaCGZ_fj",
        "outputId": "b81ba08b-8d8d-4305-f711-4d18d2aff51f"
      },
      "outputs": [
        {
          "data": {
            "text/plain": [
              "<keras.callbacks.History at 0x13d70388f40>"
            ]
          },
          "execution_count": 119,
          "metadata": {},
          "output_type": "execute_result"
        }
      ],
      "source": [
        "tf.random.set_seed(42)\n",
        "\n",
        "# Create model (nice and simple, just to test)\n",
        "model_9 = tf.keras.Sequential([\n",
        "  layers.Dense(128, activation=\"relu\"),\n",
        "  layers.Dense(128, activation=\"relu\"),\n",
        "  layers.Dense(HORIZON)\n",
        "])\n",
        "\n",
        "# Compile\n",
        "model_9.compile(loss=tf.keras.losses.mae,\n",
        "                optimizer=tf.keras.optimizers.Adam())\n",
        "\n",
        "# Fit model on all of the data to make future forecasts\n",
        "model_9.fit(dataset_all,\n",
        "            epochs=100,\n",
        "            verbose=0) # don't print out anything, we've seen this all before"
      ]
    },
    {
      "cell_type": "code",
      "execution_count": 120,
      "metadata": {
        "id": "sYxHD1qPA1Mj"
      },
      "outputs": [],
      "source": [
        "# How many timesteps to predict into the future?\n",
        "INTO_FUTURE = 14 # since our Bitcoin data is daily, this is for 14 days"
      ]
    },
    {
      "cell_type": "code",
      "execution_count": 121,
      "metadata": {
        "id": "JEtTHMV_iE7f"
      },
      "outputs": [],
      "source": [
        "# 1. Create function to make predictions into the future\n",
        "def make_future_forecast(values, model, into_future, window_size=WINDOW_SIZE) -> list:\n",
        "  \"\"\"\n",
        "  Makes future forecasts into_future steps after values ends.\n",
        "\n",
        "  Returns future forecasts as list of floats.\n",
        "  \"\"\"\n",
        "  # 2. Make an empty list for future forecasts/prepare data to forecast on\n",
        "  future_forecast = []\n",
        "  last_window = values[-WINDOW_SIZE:] # only want preds from the last window (this will get updated)\n",
        "\n",
        "  # 3. Make INTO_FUTURE number of predictions, altering the data which gets predicted on each time \n",
        "  for _ in range(into_future):\n",
        "    \n",
        "    # Predict on last window then append it again, again, again (model starts to make forecasts on its own forecasts)\n",
        "    future_pred = model.predict(tf.expand_dims(last_window, axis=0))\n",
        "    print(f\"Predicting on: \\n {last_window} -> Prediction: {tf.squeeze(future_pred).numpy()}\\n\")\n",
        "    \n",
        "    # Append predictions to future_forecast\n",
        "    future_forecast.append(tf.squeeze(future_pred).numpy())\n",
        "    # print(future_forecast)\n",
        "\n",
        "    # Update last window with new pred and get WINDOW_SIZE most recent preds (model was trained on WINDOW_SIZE windows)\n",
        "    last_window = np.append(last_window, future_pred)[-WINDOW_SIZE:]\n",
        "  \n",
        "  return future_forecast"
      ]
    },
    {
      "cell_type": "code",
      "execution_count": 122,
      "metadata": {
        "colab": {
          "base_uri": "https://localhost:8080/"
        },
        "id": "ZZVNYdqJ5zo9",
        "outputId": "348d457b-3ab1-4b99-bd99-96e643c8c749"
      },
      "outputs": [
        {
          "name": "stdout",
          "output_type": "stream",
          "text": [
            "Predicting on: \n",
            " [56573.5554719  52147.82118698 49764.1320816  50032.69313676\n",
            " 47885.62525472 45604.61575361 43144.47129086] -> Prediction: 55881.53125\n",
            "\n",
            "Predicting on: \n",
            " [52147.82118698 49764.1320816  50032.69313676 47885.62525472\n",
            " 45604.61575361 43144.47129086 55881.53125   ] -> Prediction: 51063.06640625\n",
            "\n",
            "Predicting on: \n",
            " [49764.1320816  50032.69313676 47885.62525472 45604.61575361\n",
            " 43144.47129086 55881.53125    51063.06640625] -> Prediction: 48624.890625\n",
            "\n",
            "Predicting on: \n",
            " [50032.69313676 47885.62525472 45604.61575361 43144.47129086\n",
            " 55881.53125    51063.06640625 48624.890625  ] -> Prediction: 48238.2890625\n",
            "\n",
            "Predicting on: \n",
            " [47885.62525472 45604.61575361 43144.47129086 55881.53125\n",
            " 51063.06640625 48624.890625   48238.2890625 ] -> Prediction: 48016.41796875\n",
            "\n",
            "Predicting on: \n",
            " [45604.61575361 43144.47129086 55881.53125    51063.06640625\n",
            " 48624.890625   48238.2890625  48016.41796875] -> Prediction: 47004.75\n",
            "\n",
            "Predicting on: \n",
            " [43144.47129086 55881.53125    51063.06640625 48624.890625\n",
            " 48238.2890625  48016.41796875 47004.75      ] -> Prediction: 48464.33203125\n",
            "\n",
            "Predicting on: \n",
            " [55881.53125    51063.06640625 48624.890625   48238.2890625\n",
            " 48016.41796875 47004.75       48464.33203125] -> Prediction: 54163.50390625\n",
            "\n",
            "Predicting on: \n",
            " [51063.06640625 48624.890625   48238.2890625  48016.41796875\n",
            " 47004.75       48464.33203125 54163.50390625] -> Prediction: 49864.203125\n",
            "\n",
            "Predicting on: \n",
            " [48624.890625   48238.2890625  48016.41796875 47004.75\n",
            " 48464.33203125 54163.50390625 49864.203125  ] -> Prediction: 47810.640625\n",
            "\n",
            "Predicting on: \n",
            " [48238.2890625  48016.41796875 47004.75       48464.33203125\n",
            " 54163.50390625 49864.203125   47810.640625  ] -> Prediction: 48372.20703125\n",
            "\n",
            "Predicting on: \n",
            " [48016.41796875 47004.75       48464.33203125 54163.50390625\n",
            " 49864.203125   47810.640625   48372.20703125] -> Prediction: 49084.7421875\n",
            "\n",
            "Predicting on: \n",
            " [47004.75       48464.33203125 54163.50390625 49864.203125\n",
            " 47810.640625   48372.20703125 49084.7421875 ] -> Prediction: 48913.07421875\n",
            "\n",
            "Predicting on: \n",
            " [48464.33203125 54163.50390625 49864.203125   47810.640625\n",
            " 48372.20703125 49084.7421875  48913.07421875] -> Prediction: 50547.5546875\n",
            "\n"
          ]
        }
      ],
      "source": [
        "future_forecast = make_future_forecast(values=y_all,\n",
        "                                       model=model_9,\n",
        "                                       into_future=INTO_FUTURE,\n",
        "                                       window_size=WINDOW_SIZE)"
      ]
    },
    {
      "cell_type": "code",
      "execution_count": 123,
      "metadata": {
        "colab": {
          "base_uri": "https://localhost:8080/"
        },
        "id": "hFZmkWRccmQ5",
        "outputId": "c33733d2-cc17-4a92-9f87-db55c5494d14"
      },
      "outputs": [
        {
          "data": {
            "text/plain": [
              "[55881.53,\n",
              " 51063.066,\n",
              " 48624.89,\n",
              " 48238.29,\n",
              " 48016.418,\n",
              " 47004.75,\n",
              " 48464.332,\n",
              " 54163.504,\n",
              " 49864.203,\n",
              " 47810.64]"
            ]
          },
          "execution_count": 123,
          "metadata": {},
          "output_type": "execute_result"
        }
      ],
      "source": [
        "future_forecast[:10]"
      ]
    },
    {
      "cell_type": "code",
      "execution_count": 124,
      "metadata": {
        "id": "i4iNNliSCbU-"
      },
      "outputs": [],
      "source": [
        "def get_future_dates(start_date, into_future, offset=1):\n",
        "  \n",
        "  start_date = start_date + np.timedelta64(offset, \"D\") # specify start date, \"D\" stands for day\n",
        "  end_date = start_date + np.timedelta64(into_future, \"D\") # specify end date\n",
        "  return np.arange(start_date, end_date, dtype=\"datetime64[D]\") # return a date range between start date and end date"
      ]
    },
    {
      "cell_type": "code",
      "execution_count": 125,
      "metadata": {
        "colab": {
          "base_uri": "https://localhost:8080/"
        },
        "id": "6676Sl-cAFn5",
        "outputId": "fbfc545a-a313-4866-ea98-c4f1b397d0bf"
      },
      "outputs": [
        {
          "data": {
            "text/plain": [
              "Timestamp('2021-05-18 00:00:00')"
            ]
          },
          "execution_count": 125,
          "metadata": {},
          "output_type": "execute_result"
        }
      ],
      "source": [
        "# Last timestep of timesteps (currently in np.datetime64 format)\n",
        "last_timestep = bitcoin_prices.index[-1]\n",
        "last_timestep"
      ]
    },
    {
      "cell_type": "code",
      "execution_count": 126,
      "metadata": {
        "colab": {
          "base_uri": "https://localhost:8080/"
        },
        "id": "252bhVD7C5NZ",
        "outputId": "17065a39-4de8-4528-a380-2415a528db8c"
      },
      "outputs": [
        {
          "data": {
            "text/plain": [
              "array(['2021-05-19', '2021-05-20', '2021-05-21', '2021-05-22',\n",
              "       '2021-05-23', '2021-05-24', '2021-05-25', '2021-05-26',\n",
              "       '2021-05-27', '2021-05-28', '2021-05-29', '2021-05-30',\n",
              "       '2021-05-31', '2021-06-01'], dtype='datetime64[D]')"
            ]
          },
          "execution_count": 126,
          "metadata": {},
          "output_type": "execute_result"
        }
      ],
      "source": [
        "# Get next two weeks of timesteps\n",
        "next_time_steps = get_future_dates(start_date=last_timestep, \n",
        "                                   into_future=INTO_FUTURE)\n",
        "next_time_steps"
      ]
    },
    {
      "cell_type": "code",
      "execution_count": 127,
      "metadata": {
        "colab": {
          "base_uri": "https://localhost:8080/"
        },
        "id": "QLXAudg3hIo9",
        "outputId": "c33b3c8d-8fd5-49c3-951e-d111d6b6c5e8"
      },
      "outputs": [
        {
          "data": {
            "text/plain": [
              "(array(['2021-05-18', '2021-05-19', '2021-05-20', '2021-05-21',\n",
              "        '2021-05-22', '2021-05-23', '2021-05-24', '2021-05-25',\n",
              "        '2021-05-26', '2021-05-27', '2021-05-28', '2021-05-29',\n",
              "        '2021-05-30', '2021-05-31', '2021-06-01'], dtype='datetime64[D]'),\n",
              " array([43144.473, 55881.53 , 51063.066, 48624.89 , 48238.29 , 48016.418,\n",
              "        47004.75 , 48464.332, 54163.504, 49864.203, 47810.64 , 48372.207,\n",
              "        49084.742, 48913.074, 50547.555], dtype=float32))"
            ]
          },
          "execution_count": 127,
          "metadata": {},
          "output_type": "execute_result"
        }
      ],
      "source": [
        "# Insert last timestep/final price so the graph doesn't look messed\n",
        "next_time_steps = np.insert(next_time_steps, 0, last_timestep)\n",
        "future_forecast = np.insert(future_forecast, 0, btc_price[-1])\n",
        "next_time_steps, future_forecast"
      ]
    },
    {
      "cell_type": "code",
      "execution_count": 129,
      "metadata": {
        "colab": {
          "base_uri": "https://localhost:8080/",
          "height": 442
        },
        "id": "LUo-rjmpfuM0",
        "outputId": "79e101a7-7475-49fe-a1ee-1532578a3a80"
      },
      "outputs": [
        {
          "data": {
            "image/png": "[encoded data removed]",
            "text/plain": [
              "<Figure size 720x504 with 1 Axes>"
            ]
          },
          "metadata": {
            "needs_background": "light"
          },
          "output_type": "display_data"
        }
      ],
      "source": [
        "# Plot future price predictions of Bitcoin\n",
        "plt.figure(figsize=(10, 7))\n",
        "plot_time_series(bitcoin_prices.index, btc_price, start=2500, format=\"-\", label=\"Actual BTC Price\")\n",
        "plot_time_series(next_time_steps, future_forecast, format=\"-\", label=\"Predicted BTC Price\")"
      ]
    }
  ],
  "metadata": {
    "accelerator": "GPU",
    "colab": {
      "authorship_tag": "ABX9TyMKHq9zYuL5lcH+aaRNPUt2",
      "collapsed_sections": [],
      "include_colab_link": true,
      "name": "10_time_series_forecasting_in_tensorflow.ipynb",
      "provenance": []
    },
    "kernelspec": {
      "display_name": "Python 3.10.0 ('ml')",
      "language": "python",
      "name": "python3"
    },
    "language_info": {
      "codemirror_mode": {
        "name": "ipython",
        "version": 3
      },
      "file_extension": ".py",
      "mimetype": "text/x-python",
      "name": "python",
      "nbconvert_exporter": "python",
      "pygments_lexer": "ipython3",
      "version": "3.10.0"
    },
    "vscode": {
      "interpreter": {
        "hash": "08749fe6d6cb56d15eda1ca48146d18def904c139761cd2e4869508c56cc4156"
      }
    }
  },
  "nbformat": 4,
  "nbformat_minor": 0
}
